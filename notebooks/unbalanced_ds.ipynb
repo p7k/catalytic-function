{
 "cells": [
  {
   "cell_type": "code",
   "execution_count": 6,
   "metadata": {},
   "outputs": [
    {
     "name": "stdout",
     "output_type": "stream",
     "text": [
      "Constructing swissprot sparse adjacency matrix\n",
      "227361\r"
     ]
    }
   ],
   "source": [
    "import scipy as sp\n",
    "from src.utils import construct_sparse_adj_mat, load_design_matrix\n",
    "import numpy as np\n",
    "\n",
    "# Settings\n",
    "train_data_name = 'swissprot'\n",
    "embed_type = 'esm'\n",
    "\n",
    "# Load dataset\n",
    "y, idx_sample, idx_feature = construct_sparse_adj_mat(train_data_name)\n",
    "sample_idx = {v:k for k,v in idx_sample.items()}"
   ]
  },
  {
   "cell_type": "code",
   "execution_count": 7,
   "metadata": {},
   "outputs": [
    {
     "data": {
      "text/plain": [
       "(241025, 1191831604, 0.00020223075071266528)"
      ]
     },
     "execution_count": 7,
     "metadata": {},
     "output_type": "execute_result"
    }
   ],
   "source": [
    "y.count_nonzero(), y.shape[0] * y.shape[1], y.count_nonzero()/ (y.shape[0] * y.shape[1])"
   ]
  },
  {
   "cell_type": "code",
   "execution_count": 5,
   "metadata": {},
   "outputs": [
    {
     "name": "stdout",
     "output_type": "stream",
     "text": [
      "1 1360\n",
      "2 636\n",
      "3 419\n",
      "4 291\n",
      "5 228\n",
      "6 169\n",
      "7 120\n",
      "8 113\n",
      "1\n",
      "3336\n"
     ]
    }
   ],
   "source": [
    "# Count low sample number classes\n",
    "sample_cts = np.array(y.sum(axis=0))\n",
    "for i in range(1,9):\n",
    "    print(i, len(sample_cts[sample_cts == i]))\n",
    "\n",
    "print(min(sample_cts))\n",
    "print(len(sample_cts[sample_cts < 9]))"
   ]
  },
  {
   "cell_type": "code",
   "execution_count": 18,
   "metadata": {},
   "outputs": [
    {
     "name": "stdout",
     "output_type": "stream",
     "text": [
      "(184, 1280) (184, 5)\n"
     ]
    }
   ],
   "source": [
    "class_cts = np.array(y.sum(axis=0)).reshape(-1,)\n",
    "srt_zip = list(sorted(zip(class_cts, np.arange(y.shape[1])), reverse=True))\n",
    "n = 5\n",
    "top_n_class_idxs = np.array([elt[1] for elt in srt_zip[:n]])\n",
    "\n",
    "# Save y (sparse)\n",
    "yn = y[:, top_n_class_idxs]\n",
    "nz_rows = np.array(yn.sum(axis=1)).reshape(-1,) != 0\n",
    "yn = yn[nz_rows, :]\n",
    "sp.sparse.save_npz(f\"/scratch/spn1560/{train_data_name}_esm_y_top_{n}_classes.npz\", yn)\n",
    "\n",
    "# Load X\n",
    "X = np.load(f\"/scratch/spn1560/{train_data_name}_esm_X.npy\")\n",
    "\n",
    "# Index\n",
    "Xn = X[nz_rows, :]\n",
    "\n",
    "# Save X (dense)\n",
    "np.save(f\"/scratch/spn1560/{train_data_name}_esm_X_top_{n}_classes.npy\", Xn)\n",
    "\n",
    "print(Xn.shape, yn.shape)"
   ]
  },
  {
   "cell_type": "code",
   "execution_count": 2,
   "metadata": {},
   "outputs": [
    {
     "data": {
      "image/png": "[encoded data removed]",
      "text/plain": [
       "<Figure size 640x480 with 1 Axes>"
      ]
     },
     "metadata": {},
     "output_type": "display_data"
    }
   ],
   "source": [
    "import matplotlib.pyplot as plt\n",
    "\n",
    "n_classes = np.arange(1, y.shape[1] + 1)\n",
    "n_samples = []\n",
    "for n in n_classes:\n",
    "    class_cts = np.array(y.sum(axis=0)).reshape(-1,)\n",
    "    srt_zip = list(sorted(zip(class_cts, np.arange(y.shape[1])), reverse=True))\n",
    "    top_n_class_idxs = np.array([elt[1] for elt in srt_zip[:n]])\n",
    "\n",
    "    # Save y (sparse)\n",
    "    yn = y[:, top_n_class_idxs]\n",
    "    nz_rows = np.array(yn.sum(axis=1)).reshape(-1,) != 0\n",
    "    yn = yn[nz_rows, :]\n",
    "\n",
    "    n_samples.append(yn.shape[0])\n",
    "\n",
    "frac_samples = np.array(n_samples) / y.shape[0]\n",
    "\n",
    "plt.plot(n_classes, frac_samples)\n",
    "plt.show()"
   ]
  },
  {
   "cell_type": "code",
   "execution_count": 2,
   "metadata": {},
   "outputs": [
    {
     "ename": "NameError",
     "evalue": "name 'np' is not defined",
     "output_type": "error",
     "traceback": [
      "\u001b[0;31m---------------------------------------------------------------------------\u001b[0m",
      "\u001b[0;31mNameError\u001b[0m                                 Traceback (most recent call last)",
      "Cell \u001b[0;32mIn[2], line 1\u001b[0m\n\u001b[0;32m----> 1\u001b[0m \u001b[43mnp\u001b[49m\u001b[38;5;241m.\u001b[39margwhere(frac_samples \u001b[38;5;241m>\u001b[39m \u001b[38;5;241m0.80\u001b[39m)[\u001b[38;5;241m0\u001b[39m]\n",
      "\u001b[0;31mNameError\u001b[0m: name 'np' is not defined"
     ]
    }
   ],
   "source": [
    "thresh = 0.8\n",
    "np.argwhere(frac_samples > thresh)[0]"
   ]
  },
  {
   "cell_type": "code",
   "execution_count": 6,
   "metadata": {},
   "outputs": [
    {
     "data": {
      "text/plain": [
       "(0.16584699453551913, 607)"
      ]
     },
     "execution_count": 6,
     "metadata": {},
     "output_type": "execute_result"
    }
   ],
   "source": [
    "top_n = 25\n",
    "frac_samples[top_n], n_samples[top_n]"
   ]
  },
  {
   "cell_type": "code",
   "execution_count": 24,
   "metadata": {},
   "outputs": [],
   "source": [
    "from collections import Counter"
   ]
  },
  {
   "cell_type": "code",
   "execution_count": 28,
   "metadata": {},
   "outputs": [
    {
     "data": {
      "text/plain": [
       "(matrix([[51, 48, 43, 42, 41]]), Counter({1: 143, 2: 41}), (184, 5))"
      ]
     },
     "execution_count": 28,
     "metadata": {},
     "output_type": "execute_result"
    }
   ],
   "source": [
    "yn.sum(axis=0), Counter(np.array(yn.sum(axis=1)).reshape(-1,)), yn.shape"
   ]
  }
 ],
 "metadata": {
  "kernelspec": {
   "display_name": "hiec",
   "language": "python",
   "name": "python3"
  },
  "language_info": {
   "codemirror_mode": {
    "name": "ipython",
    "version": 3
   },
   "file_extension": ".py",
   "mimetype": "text/x-python",
   "name": "python",
   "nbconvert_exporter": "python",
   "pygments_lexer": "ipython3",
   "version": "3.11.0"
  }
 },
 "nbformat": 4,
 "nbformat_minor": 2
}
