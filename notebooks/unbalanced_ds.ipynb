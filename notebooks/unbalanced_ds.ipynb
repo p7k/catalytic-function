{
 "cells": [
  {
   "cell_type": "code",
   "execution_count": 1,
   "metadata": {},
   "outputs": [
    {
     "name": "stdout",
     "output_type": "stream",
     "text": [
      "Constructing swissprot sparse adjacency matrix\n",
      "227361\r"
     ]
    }
   ],
   "source": [
    "import scipy as sp\n",
    "from src.utils import load_sparse_adj_mat, load_design_matrix\n",
    "import numpy as np\n",
    "\n",
    "# Settings\n",
    "train_data_name = 'swissprot'\n",
    "embed_type = 'esm'\n",
    "inner_kfold = 5\n",
    "outer_kfold = 5\n",
    "hpo_metric = 'f1_weighted'\n",
    "do_save = True\n",
    "\n",
    "# Load dataset\n",
    "y, idx_sample, idx_feature = load_sparse_adj_mat(train_data_name)\n",
    "sample_idx = {v:k for k,v in idx_sample.items()}"
   ]
  },
  {
   "cell_type": "code",
   "execution_count": 5,
   "metadata": {},
   "outputs": [
    {
     "name": "stdout",
     "output_type": "stream",
     "text": [
      "1 1360\n",
      "2 636\n",
      "3 419\n",
      "4 291\n",
      "5 228\n",
      "6 169\n",
      "7 120\n",
      "8 113\n",
      "1\n",
      "3336\n"
     ]
    }
   ],
   "source": [
    "# Count low sample number classes\n",
    "sample_cts = np.array(y.sum(axis=0))\n",
    "for i in range(1,9):\n",
    "    print(i, len(sample_cts[sample_cts == i]))\n",
    "\n",
    "print(min(sample_cts))\n",
    "print(len(sample_cts[sample_cts < 9]))"
   ]
  },
  {
   "cell_type": "code",
   "execution_count": 5,
   "metadata": {},
   "outputs": [
    {
     "name": "stdout",
     "output_type": "stream",
     "text": [
      "(207892, 1280) (207892, 1000)\n"
     ]
    }
   ],
   "source": [
    "class_cts = np.array(y.sum(axis=0)).reshape(-1,)\n",
    "srt_zip = list(sorted(zip(class_cts, np.arange(y.shape[1])), reverse=True))\n",
    "n = 1000\n",
    "top_n_class_idxs = np.array([elt[1] for elt in srt_zip[:n]])\n",
    "\n",
    "# Save y (sparse)\n",
    "yn = y[:, top_n_class_idxs]\n",
    "nz_rows = np.array(yn.sum(axis=1)).reshape(-1,) != 0\n",
    "yn = yn[nz_rows, :]\n",
    "sp.sparse.save_npz(f\"/scratch/spn1560/swissprot_esm_y_top_{n}_classes.npz\", yn)\n",
    "\n",
    "# Load X\n",
    "X = np.load(\"/scratch/spn1560/swissprot_esm_X.npy\")\n",
    "\n",
    "# Index\n",
    "Xn = X[nz_rows, :]\n",
    "\n",
    "# Save X (dense)\n",
    "np.save(f\"/scratch/spn1560/swissprot_esm_X_top_{n}_classes.npy\", Xn)\n",
    "\n",
    "print(Xn.shape, yn.shape)"
   ]
  },
  {
   "cell_type": "code",
   "execution_count": 42,
   "metadata": {},
   "outputs": [
    {
     "data": {
      "image/png": "[encoded data removed]",
      "text/plain": [
       "<Figure size 640x480 with 1 Axes>"
      ]
     },
     "metadata": {},
     "output_type": "display_data"
    }
   ],
   "source": [
    "import matplotlib.pyplot as plt\n",
    "\n",
    "n_classes = np.arange(1, y.shape[1] + 1)\n",
    "n_samples = []\n",
    "for n in n_classes:\n",
    "    class_cts = np.array(y.sum(axis=0)).reshape(-1,)\n",
    "    srt_zip = list(sorted(zip(class_cts, np.arange(y.shape[1])), reverse=True))\n",
    "    top_n_class_idxs = np.array([elt[1] for elt in srt_zip[:n]])\n",
    "\n",
    "    # Save y (sparse)\n",
    "    yn = y[:, top_n_class_idxs]\n",
    "    nz_rows = np.array(yn.sum(axis=1)).reshape(-1,) != 0\n",
    "    yn = yn[nz_rows, :]\n",
    "\n",
    "    n_samples.append(yn.shape[0])\n",
    "\n",
    "frac_samples = np.array(n_samples) / y.shape[0]\n",
    "\n",
    "plt.plot(n_classes, frac_samples)\n",
    "plt.show()"
   ]
  },
  {
   "cell_type": "code",
   "execution_count": 49,
   "metadata": {},
   "outputs": [
    {
     "data": {
      "text/plain": [
       "array([488])"
      ]
     },
     "execution_count": 49,
     "metadata": {},
     "output_type": "execute_result"
    }
   ],
   "source": [
    "np.argwhere(frac_samples > 0.80)[0]"
   ]
  },
  {
   "cell_type": "code",
   "execution_count": 48,
   "metadata": {},
   "outputs": [
    {
     "data": {
      "text/plain": [
       "0.4624563471468407"
      ]
     },
     "execution_count": 48,
     "metadata": {},
     "output_type": "execute_result"
    }
   ],
   "source": [
    "frac_samples[150]"
   ]
  },
  {
   "cell_type": "code",
   "execution_count": 1,
   "metadata": {},
   "outputs": [
    {
     "ename": "",
     "evalue": "",
     "output_type": "error",
     "traceback": [
      "\u001b[1;31mThe Kernel crashed while executing code in the current cell or a previous cell. \n",
      "\u001b[1;31mPlease review the code in the cell(s) to identify a possible cause of the failure. \n",
      "\u001b[1;31mClick <a href='https://aka.ms/vscodeJupyterKernelCrash'>here</a> for more info. \n",
      "\u001b[1;31mView Jupyter <a href='command:jupyter.viewOutput'>log</a> for further details."
     ]
    },
    {
     "ename": "",
     "evalue": "",
     "output_type": "error",
     "traceback": [
      "\u001b[1;31mCanceled future for execute_request message before replies were done"
     ]
    },
    {
     "ename": "",
     "evalue": "",
     "output_type": "error",
     "traceback": [
      "\u001b[1;31mCanceled future for execute_request message before replies were done. \n",
      "\u001b[1;31mView Jupyter <a href='command:jupyter.viewOutput'>log</a> for further details."
     ]
    }
   ],
   "source": [
    "import pickle\n",
    "import sklearn\n",
    "\n",
    "with open(f\"../artifacts/trained_models/240412_18_20_17_random_forest_train_data_swissprot_esm_embeddings_model_no_2_exploratory.pkl\", 'rb') as f:\n",
    "    clf = pickle.load(f)"
   ]
  },
  {
   "cell_type": "code",
   "execution_count": 4,
   "metadata": {},
   "outputs": [
    {
     "data": {
      "text/plain": [
       "1"
      ]
     },
     "execution_count": 4,
     "metadata": {},
     "output_type": "execute_result"
    }
   ],
   "source": [
    "clf.n_estimators"
   ]
  }
 ],
 "metadata": {
  "kernelspec": {
   "display_name": "hiec",
   "language": "python",
   "name": "python3"
  },
  "language_info": {
   "codemirror_mode": {
    "name": "ipython",
    "version": 3
   },
   "file_extension": ".py",
   "mimetype": "text/x-python",
   "name": "python",
   "nbconvert_exporter": "python",
   "pygments_lexer": "ipython3",
   "version": "3.11.0"
  }
 },
 "nbformat": 4,
 "nbformat_minor": 2
}
