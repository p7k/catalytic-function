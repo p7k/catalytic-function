{
 "cells": [
  {
   "cell_type": "code",
   "execution_count": 1,
   "metadata": {},
   "outputs": [],
   "source": [
    "import lightning as L"
   ]
  },
  {
   "cell_type": "code",
   "execution_count": 2,
   "metadata": {},
   "outputs": [],
   "source": [
    "from rdkit.Chem import AllChem\n"
   ]
  },
  {
   "cell_type": "code",
   "execution_count": 10,
   "metadata": {},
   "outputs": [
    {
     "data": {
      "text/plain": [
       "(1024,)"
      ]
     },
     "execution_count": 10,
     "metadata": {},
     "output_type": "execute_result"
    }
   ],
   "source": [
    "smiles = 'CCO'\n",
    "mol = AllChem.MolFromSmiles(smiles)\n",
    "vec = AllChem.GetMorganFingerprintAsBitVect(\n",
    "    mol,\n",
    "    radius=2,\n",
    "    nBits=2**10,\n",
    "    useFeatures=False,\n",
    "    useChirality=False,\n",
    ")\n",
    "np.array(vec).shape"
   ]
  },
  {
   "cell_type": "code",
   "execution_count": 17,
   "metadata": {},
   "outputs": [
    {
     "data": {
      "text/plain": [
       "array([[-0.23155705],\n",
       "       [-1.29718819],\n",
       "       [ 0.12168798]])"
      ]
     },
     "execution_count": 17,
     "metadata": {},
     "output_type": "execute_result"
    }
   ],
   "source": [
    "import numpy as np\n",
    "np.random.normal(size=(3,1))"
   ]
  },
  {
   "cell_type": "code",
   "execution_count": 21,
   "metadata": {},
   "outputs": [
    {
     "data": {
      "text/plain": [
       "array([[[-0.06556449, -2.01483272, -0.51485812]],\n",
       "\n",
       "       [[-0.49925838, -1.21323619, -1.86106225]],\n",
       "\n",
       "       [[-0.40798656,  1.05310704, -0.17307157]],\n",
       "\n",
       "       [[ 0.80064238, -1.05503804, -2.18452796]],\n",
       "\n",
       "       [[ 0.23886169, -1.4098617 , -0.44548427]]])"
      ]
     },
     "execution_count": 21,
     "metadata": {},
     "output_type": "execute_result"
    }
   ],
   "source": [
    "np.array([np.random.normal(size=(3,)) for _ in range(5)])"
   ]
  },
  {
   "cell_type": "code",
   "execution_count": 1,
   "metadata": {},
   "outputs": [],
   "source": [
    "import json\n",
    "foo = {'foo': None}\n",
    "with open(\"/scratch/spn1560/foo.json\", 'w') as f:\n",
    "    json.dump(foo, f)"
   ]
  }
 ],
 "metadata": {
  "kernelspec": {
   "display_name": "hiec",
   "language": "python",
   "name": "python3"
  },
  "language_info": {
   "codemirror_mode": {
    "name": "ipython",
    "version": 3
   },
   "file_extension": ".py",
   "mimetype": "text/x-python",
   "name": "python",
   "nbconvert_exporter": "python",
   "pygments_lexer": "ipython3",
   "version": "3.11.0"
  }
 },
 "nbformat": 4,
 "nbformat_minor": 2
}
