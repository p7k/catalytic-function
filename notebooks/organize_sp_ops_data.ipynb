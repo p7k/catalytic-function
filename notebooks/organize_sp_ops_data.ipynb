{
 "cells": [
  {
   "cell_type": "code",
   "execution_count": 2,
   "metadata": {},
   "outputs": [],
   "source": [
    "import pandas as pd\n",
    "import numpy as np\n",
    "from src.utils import load_json\n",
    "from collections import defaultdict"
   ]
  },
  {
   "cell_type": "code",
   "execution_count": 3,
   "metadata": {},
   "outputs": [],
   "source": [
    "sp_ops_raw = load_json(\"../data/sp_ops/known_rxns_swissprot_enzymes_240310.json\")\n",
    "imt_ops = pd.read_csv(\"../data/sp_ops/JN3604IMT_rules.tsv\", sep='\\t')\n",
    "min_ops = pd.read_csv(\"../data/sp_ops/minimal1224_all_uniprot.tsv\", sep='\\t')"
   ]
  },
  {
   "cell_type": "code",
   "execution_count": 4,
   "metadata": {},
   "outputs": [
    {
     "name": "stdout",
     "output_type": "stream",
     "text": [
      "set()\n"
     ]
    },
    {
     "data": {
      "text/html": [
       "<div>\n",
       "<style scoped>\n",
       "    .dataframe tbody tr th:only-of-type {\n",
       "        vertical-align: middle;\n",
       "    }\n",
       "\n",
       "    .dataframe tbody tr th {\n",
       "        vertical-align: top;\n",
       "    }\n",
       "\n",
       "    .dataframe thead th {\n",
       "        text-align: right;\n",
       "    }\n",
       "</style>\n",
       "<table border=\"1\" class=\"dataframe\">\n",
       "  <thead>\n",
       "    <tr style=\"text-align: right;\">\n",
       "      <th></th>\n",
       "      <th>Entry</th>\n",
       "      <th>Label</th>\n",
       "      <th>Sequence</th>\n",
       "    </tr>\n",
       "  </thead>\n",
       "  <tbody>\n",
       "    <tr>\n",
       "      <th>0</th>\n",
       "      <td>A1Z1Q3</td>\n",
       "      <td>rule0310_1;rule0006_177;rule0007_187;rule0007_...</td>\n",
       "      <td>MYPSNKKKKVWREEKERLLKMTLEERRKEYLRDYIPLNSILSWKEE...</td>\n",
       "    </tr>\n",
       "    <tr>\n",
       "      <th>1</th>\n",
       "      <td>A0A009IHW8</td>\n",
       "      <td>rule0310_1;rule0311_1</td>\n",
       "      <td>MSLEQKKGADIISKILQIQNSIGKTTSPSTLKTKLSEISRKEQENA...</td>\n",
       "    </tr>\n",
       "    <tr>\n",
       "      <th>2</th>\n",
       "      <td>A0A024B7W1</td>\n",
       "      <td>rule0010_65;rule0121_1;rule0011_51;rule0120_1</td>\n",
       "      <td>MKNPKKKSGGFRIVNMLKRGVARVSPFGGLKRLPAGLLLGHGPIRM...</td>\n",
       "    </tr>\n",
       "    <tr>\n",
       "      <th>3</th>\n",
       "      <td>A0A059TC02</td>\n",
       "      <td>rule0142_1;rule0143_2</td>\n",
       "      <td>MRSVSGQVVCVTGAGGFIASWLVKILLEKGYTVRGTVRNPDDPKNG...</td>\n",
       "    </tr>\n",
       "    <tr>\n",
       "      <th>4</th>\n",
       "      <td>A0A061AE05</td>\n",
       "      <td>rule0015_34;rule0014_29</td>\n",
       "      <td>MLTPRDENNEGDAMPMLKKPRYSSLSGQSTNITYQEHTISREERAA...</td>\n",
       "    </tr>\n",
       "  </tbody>\n",
       "</table>\n",
       "</div>"
      ],
      "text/plain": [
       "        Entry                                              Label  \\\n",
       "0      A1Z1Q3  rule0310_1;rule0006_177;rule0007_187;rule0007_...   \n",
       "1  A0A009IHW8                              rule0310_1;rule0311_1   \n",
       "2  A0A024B7W1      rule0010_65;rule0121_1;rule0011_51;rule0120_1   \n",
       "3  A0A059TC02                              rule0142_1;rule0143_2   \n",
       "4  A0A061AE05                            rule0015_34;rule0014_29   \n",
       "\n",
       "                                            Sequence  \n",
       "0  MYPSNKKKKVWREEKERLLKMTLEERRKEYLRDYIPLNSILSWKEE...  \n",
       "1  MSLEQKKGADIISKILQIQNSIGKTTSPSTLKTKLSEISRKEQENA...  \n",
       "2  MKNPKKKSGGFRIVNMLKRGVARVSPFGGLKRLPAGLLLGHGPIRM...  \n",
       "3  MRSVSGQVVCVTGAGGFIASWLVKILLEKGYTVRGTVRNPDDPKNG...  \n",
       "4  MLTPRDENNEGDAMPMLKKPRYSSLSGQSTNITYQEHTISREERAA...  "
      ]
     },
     "execution_count": 4,
     "metadata": {},
     "output_type": "execute_result"
    }
   ],
   "source": [
    "id2seq = defaultdict(set)\n",
    "for _, elt in sp_ops_raw.items():\n",
    "    if elt['imt_rules'] and elt['enzymes']:\n",
    "        for e in elt['enzymes']:\n",
    "                id2seq[e[0]].add(e[1])\n",
    "\n",
    "# Make sure only one seq per id\n",
    "for k,v in id2seq.items():\n",
    "     if len(v) > 1:\n",
    "          print(k,v)\n",
    "\n",
    "id2rule = defaultdict(set)\n",
    "for _, elt in sp_ops_raw.items():\n",
    "    if elt['imt_rules'] and elt['enzymes']:\n",
    "        for e in elt['enzymes']:\n",
    "            for r in elt['imt_rules']:\n",
    "                 id2rule[e[0]].add(r)\n",
    "\n",
    "print(set(id2rule.keys()) ^ set(id2seq.keys())) # Make sure these are the same\n",
    "\n",
    "data = {'Entry':[], 'Label':[], 'Sequence':[]}\n",
    "for id in id2seq.keys():\n",
    "     data['Entry'].append(id)\n",
    "     data['Label'].append(\";\".join(id2rule[id]))\n",
    "     data['Sequence'].append(list(id2seq[id])[0])\n",
    "\n",
    "# Save to sp_ops subdir\n",
    "\n",
    "df = pd.DataFrame(data=data)\n",
    "df.to_csv(\"../data/sp_ops/sp_ops.csv\", index=False, sep='\\t')\n",
    "df.head()"
   ]
  },
  {
   "cell_type": "code",
   "execution_count": 5,
   "metadata": {},
   "outputs": [
    {
     "name": "stdout",
     "output_type": "stream",
     "text": [
      "Constructing sp_ops sparse adjacency matrix\n",
      "3659\r"
     ]
    }
   ],
   "source": [
    "from src.utils import construct_sparse_adj_mat\n",
    "\n",
    "y, idx_sample, idx_feature = construct_sparse_adj_mat(\"sp_ops\")"
   ]
  },
  {
   "cell_type": "code",
   "execution_count": 6,
   "metadata": {},
   "outputs": [
    {
     "data": {
      "text/plain": [
       "(3660, 2271)"
      ]
     },
     "execution_count": 6,
     "metadata": {},
     "output_type": "execute_result"
    }
   ],
   "source": [
    "y.shape"
   ]
  }
 ],
 "metadata": {
  "kernelspec": {
   "display_name": "mine",
   "language": "python",
   "name": "python3"
  },
  "language_info": {
   "codemirror_mode": {
    "name": "ipython",
    "version": 3
   },
   "file_extension": ".py",
   "mimetype": "text/x-python",
   "name": "python",
   "nbconvert_exporter": "python",
   "pygments_lexer": "ipython3",
   "version": "3.11.0"
  }
 },
 "nbformat": 4,
 "nbformat_minor": 2
}
