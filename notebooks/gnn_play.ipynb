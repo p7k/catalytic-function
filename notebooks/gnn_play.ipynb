{
 "cells": [
  {
   "cell_type": "code",
   "execution_count": 1,
   "metadata": {},
   "outputs": [],
   "source": [
    "from rdkit import Chem\n",
    "from rdkit.Chem import Draw, AllChem\n",
    "from rdkit.Chem.Draw import IPythonConsole\n",
    "from src.utils import load_known_rxns\n",
    "import pandas as pd\n",
    "\n",
    "IPythonConsole.drawOptions.addAtomIndices=True"
   ]
  },
  {
   "cell_type": "markdown",
   "metadata": {},
   "source": [
    "# akg"
   ]
  },
  {
   "cell_type": "code",
   "execution_count": 22,
   "metadata": {},
   "outputs": [
    {
     "data": {
      "image/png": "[encoded data removed]",
      "text/plain": [
       "<rdkit.Chem.rdchem.Mol at 0x2b30a55d9150>"
      ]
     },
     "execution_count": 22,
     "metadata": {},
     "output_type": "execute_result"
    }
   ],
   "source": [
    "# Test mol\n",
    "\n",
    "smi = \"O=C(O)CCC(=O)C(=O)O\"\n",
    "mol = Chem.MolFromSmiles(smi)\n",
    "mol"
   ]
  },
  {
   "cell_type": "markdown",
   "metadata": {},
   "source": [
    "# One split RCGNN min ops multiclass results"
   ]
  },
  {
   "cell_type": "code",
   "execution_count": 1,
   "metadata": {},
   "outputs": [],
   "source": [
    "%load_ext autoreload\n",
    "%autoreload 2\n",
    "\n",
    "import torch\n",
    "from chemprop.data import build_dataloader\n",
    "from chemprop import models\n",
    "import pandas as pd\n",
    "import matplotlib.pyplot as plt\n",
    "from src.utils import load_known_rxns\n",
    "from src.utils import construct_sparse_adj_mat\n",
    "from src import data\n",
    "from src.featurizer import RCVNReactionMolGraphFeaturizer, MultiHotAtomFeaturizer, MultiHotBondFeaturizer\n",
    "from sklearn.model_selection import train_test_split\n",
    "import numpy as np\n",
    "from lightning import pytorch as pl\n",
    "from sklearn.metrics import f1_score, precision_score, recall_score, accuracy_score"
   ]
  },
  {
   "cell_type": "code",
   "execution_count": 14,
   "metadata": {},
   "outputs": [
    {
     "data": {
      "text/html": [
       "<div>\n",
       "<style scoped>\n",
       "    .dataframe tbody tr th:only-of-type {\n",
       "        vertical-align: middle;\n",
       "    }\n",
       "\n",
       "    .dataframe tbody tr th {\n",
       "        vertical-align: top;\n",
       "    }\n",
       "\n",
       "    .dataframe thead th {\n",
       "        text-align: right;\n",
       "    }\n",
       "</style>\n",
       "<table border=\"1\" class=\"dataframe\">\n",
       "  <thead>\n",
       "    <tr style=\"text-align: right;\">\n",
       "      <th></th>\n",
       "      <th>batch_averaged_test/ce</th>\n",
       "      <th>epoch</th>\n",
       "      <th>step</th>\n",
       "      <th>train_loss</th>\n",
       "    </tr>\n",
       "  </thead>\n",
       "  <tbody>\n",
       "    <tr>\n",
       "      <th>0</th>\n",
       "      <td>NaN</td>\n",
       "      <td>0</td>\n",
       "      <td>49</td>\n",
       "      <td>1734.673584</td>\n",
       "    </tr>\n",
       "    <tr>\n",
       "      <th>1</th>\n",
       "      <td>NaN</td>\n",
       "      <td>1</td>\n",
       "      <td>99</td>\n",
       "      <td>1109.704834</td>\n",
       "    </tr>\n",
       "    <tr>\n",
       "      <th>2</th>\n",
       "      <td>NaN</td>\n",
       "      <td>1</td>\n",
       "      <td>149</td>\n",
       "      <td>814.335144</td>\n",
       "    </tr>\n",
       "    <tr>\n",
       "      <th>3</th>\n",
       "      <td>NaN</td>\n",
       "      <td>2</td>\n",
       "      <td>199</td>\n",
       "      <td>647.530273</td>\n",
       "    </tr>\n",
       "    <tr>\n",
       "      <th>4</th>\n",
       "      <td>NaN</td>\n",
       "      <td>2</td>\n",
       "      <td>249</td>\n",
       "      <td>455.589600</td>\n",
       "    </tr>\n",
       "  </tbody>\n",
       "</table>\n",
       "</div>"
      ],
      "text/plain": [
       "   batch_averaged_test/ce  epoch  step   train_loss\n",
       "0                     NaN      0    49  1734.673584\n",
       "1                     NaN      1    99  1109.704834\n",
       "2                     NaN      1   149   814.335144\n",
       "3                     NaN      2   199   647.530273\n",
       "4                     NaN      2   249   455.589600"
      ]
     },
     "execution_count": 14,
     "metadata": {},
     "output_type": "execute_result"
    }
   ],
   "source": [
    "\n",
    "df = pd.read_csv(\"./artifacts/model_evals/gnn/rc_gnn_v0_sprhea_sp_folded_pt_rxns_x_min_ops_100_epochs_seed_1234/version_1/metrics.csv\")\n",
    "df.head()"
   ]
  },
  {
   "cell_type": "code",
   "execution_count": 15,
   "metadata": {},
   "outputs": [
    {
     "data": {
      "image/png": "[encoded data removed]",
      "text/plain": [
       "<Figure size 640x480 with 1 Axes>"
      ]
     },
     "metadata": {},
     "output_type": "display_data"
    }
   ],
   "source": [
    "plt.plot(df.loc[:,\"epoch\"], df.loc[:,\"train_loss\"])\n",
    "plt.xlabel('Epoch')\n",
    "plt.ylabel('Mean cross entropy loss')\n",
    "plt.show()"
   ]
  },
  {
   "cell_type": "code",
   "execution_count": 7,
   "metadata": {},
   "outputs": [
    {
     "name": "stdout",
     "output_type": "stream",
     "text": [
      "Constructing sprhea:sp_folded_pt_rxns_x_min_ops sparse adjacency matrix\n",
      "7093\r"
     ]
    }
   ],
   "source": [
    "# Load trained model\n",
    "path = \"./artifacts/model_evals/gnn/rc_gnn_last_agg_sprhea_sp_folded_pt_rxns_x_min_ops_100_epochs_seed_1234/version_0/checkpoints/epoch=99-step=8400.ckpt\"\n",
    "mpnn = models.MPNN.load_from_file(path, map_location=torch.device('cpu'))\n",
    "\n",
    "dataset = 'sprhea'\n",
    "toc = 'sp_folded_pt_rxns_x_min_ops'\n",
    "krs = load_known_rxns(\"./data/sprhea/known_rxns_240310_v2_folded_protein_transcript.json\")\n",
    "seed = 1234\n",
    "\n",
    "# Load data\n",
    "adj, idx_sample, idx_feature = construct_sparse_adj_mat(dataset, toc)\n",
    "feature_idx = {v:k for k,v in idx_feature.items()}\n",
    "X = [krs[k] for k in list(krs.keys())]\n",
    "min_rule_labels = [\"_\".join(sorted(elt['min_rules'])) for elt in X] # Rule names\n",
    "min_rule_idxs = np.array([feature_idx[elt] for elt in min_rule_labels]) # Indices in adj mat\n",
    "n_samples = len(X)\n",
    "n_classes = len(feature_idx)\n",
    "y = min_rule_idxs.reshape(-1,1) # Class index encoding\n",
    "\n",
    "# Split data\n",
    "X_train, X_test, y_train, y_test = train_test_split(X, y, random_state=seed)\n",
    "\n",
    "# Init featurizer\n",
    "featurizer = RCVNReactionMolGraphFeaturizer(\n",
    "    atom_featurizer=MultiHotAtomFeaturizer.no_stereo(),\n",
    "    bond_featurizer=MultiHotBondFeaturizer()\n",
    ")\n",
    "\n",
    "# Construct dataset\n",
    "datapoints_train = [data.RxnRCDatapoint.from_smi(kr, y=y_train[i]) for i, kr in enumerate(X_train)]\n",
    "datapoints_test = [data.RxnRCDatapoint.from_smi(kr, y=y_test[i]) for i, kr in enumerate(X_test)]\n",
    "\n",
    "dataset_train = data.RxnRCDataset(datapoints_train, featurizer=featurizer)\n",
    "dataset_test = data.RxnRCDataset(datapoints_test, featurizer=featurizer)\n",
    "\n",
    "data_loader_train = build_dataloader(dataset_train, shuffle=False)\n",
    "data_loader_test = build_dataloader(dataset_test, shuffle=False)\n"
   ]
  },
  {
   "cell_type": "code",
   "execution_count": 8,
   "metadata": {},
   "outputs": [
    {
     "name": "stderr",
     "output_type": "stream",
     "text": [
      "/home/spn1560/.conda/envs/hiec/lib/python3.11/site-packages/lightning/fabric/plugins/environments/slurm.py:204: The `srun` command is available on your system but is not used. HINT: If your intention is to run Lightning on SLURM, prepend your python command with `srun` like so: srun python /home/spn1560/.conda/envs/hiec/lib/python3.11/site-p ...\n",
      "GPU available: False, used: False\n",
      "TPU available: False, using: 0 TPU cores\n",
      "IPU available: False, using: 0 IPUs\n",
      "HPU available: False, using: 0 HPUs\n",
      "/home/spn1560/.conda/envs/hiec/lib/python3.11/site-packages/lightning/pytorch/trainer/connectors/logger_connector/logger_connector.py:75: Starting from v1.9.0, `tensorboardX` has been removed as a dependency of the `lightning.pytorch` package, due to potential conflicts with other packages in the ML ecosystem. For this reason, `logger=True` will use `CSVLogger` as the default logger, unless the `tensorboard` or `tensorboardX` packages are found. Please `pip install lightning[extra]` or one of them to enable TensorBoard support by default\n",
      "/home/spn1560/.conda/envs/hiec/lib/python3.11/site-packages/lightning/fabric/plugins/environments/slurm.py:204: The `srun` command is available on your system but is not used. HINT: If your intention is to run Lightning on SLURM, prepend your python command with `srun` like so: srun python /home/spn1560/.conda/envs/hiec/lib/python3.11/site-p ...\n",
      "/home/spn1560/.conda/envs/hiec/lib/python3.11/site-packages/lightning/pytorch/trainer/connectors/data_connector.py:441: The 'predict_dataloader' does not have many workers which may be a bottleneck. Consider increasing the value of the `num_workers` argument` to `num_workers=51` in the `DataLoader` to improve performance.\n"
     ]
    },
    {
     "data": {
      "application/vnd.jupyter.widget-view+json": {
       "model_id": "2ec86f2d48ac435e860f6d629910018b",
       "version_major": 2,
       "version_minor": 0
      },
      "text/plain": [
       "Predicting: |          | 0/? [00:00<?, ?it/s]"
      ]
     },
     "metadata": {},
     "output_type": "display_data"
    }
   ],
   "source": [
    "with torch.inference_mode():\n",
    "    trainer = pl.Trainer(\n",
    "        logger=None,\n",
    "        enable_progress_bar=True,\n",
    "        accelerator=\"cpu\",\n",
    "        devices=1\n",
    "    )\n",
    "    test_preds = trainer.predict(mpnn, data_loader_test)"
   ]
  },
  {
   "cell_type": "code",
   "execution_count": 9,
   "metadata": {},
   "outputs": [],
   "source": [
    "test_preds = np.concatenate(test_preds, axis=0).reshape(-1, n_classes)\n",
    "y_pred = np.argmax(test_preds, axis=1).reshape(-1,)\n",
    "y_true = dataset_test.Y.reshape(-1,)"
   ]
  },
  {
   "cell_type": "code",
   "execution_count": 11,
   "metadata": {},
   "outputs": [
    {
     "name": "stdout",
     "output_type": "stream",
     "text": [
      "{'f1': 0.6940097756755753, 'precision': 0.69464994040852, 'recall': 0.7138142425586514, 'accuracy': 0.9177001127395716}\n"
     ]
    },
    {
     "name": "stderr",
     "output_type": "stream",
     "text": [
      "/home/spn1560/.conda/envs/hiec/lib/python3.11/site-packages/sklearn/metrics/_classification.py:1469: UndefinedMetricWarning: Precision is ill-defined and being set to 0.0 in labels with no predicted samples. Use `zero_division` parameter to control this behavior.\n",
      "  _warn_prf(average, modifier, msg_start, len(result))\n",
      "/home/spn1560/.conda/envs/hiec/lib/python3.11/site-packages/sklearn/metrics/_classification.py:1469: UndefinedMetricWarning: Recall is ill-defined and being set to 0.0 in labels with no true samples. Use `zero_division` parameter to control this behavior.\n",
      "  _warn_prf(average, modifier, msg_start, len(result))\n"
     ]
    }
   ],
   "source": [
    "\n",
    "scorers = {\n",
    "    'f1': lambda y_true, y_pred: f1_score(y_true, y_pred, average='macro'),\n",
    "    'precision': lambda y_true, y_pred: precision_score(y_true, y_pred, average='macro'),\n",
    "    'recall': lambda y_true, y_pred: recall_score(y_true, y_pred, average='macro'),\n",
    "    'accuracy': accuracy_score\n",
    "}\n",
    "\n",
    "scores = {}\n",
    "\n",
    "for k, scorer in scorers.items():\n",
    "    scores[k] = scorer(y_true, y_pred)\n",
    "\n",
    "print(scores)"
   ]
  },
  {
   "cell_type": "code",
   "execution_count": 20,
   "metadata": {},
   "outputs": [],
   "source": [
    "foo = next(iter(data_loader_train))"
   ]
  },
  {
   "cell_type": "code",
   "execution_count": 46,
   "metadata": {},
   "outputs": [
    {
     "data": {
      "text/plain": [
       "torch.Size([64, 67])"
      ]
     },
     "execution_count": 46,
     "metadata": {},
     "output_type": "execute_result"
    }
   ],
   "source": [
    "last_idxs = torch.tensor([torch.argwhere(foo.bmg.batch == i)[-1,0] for i in range(64)])\n",
    "foo.bmg.V[last_idxs, :].shape"
   ]
  },
  {
   "cell_type": "markdown",
   "metadata": {},
   "source": [
    "# Experiment w/ getting all atom mapping"
   ]
  },
  {
   "cell_type": "code",
   "execution_count": 38,
   "metadata": {},
   "outputs": [
    {
     "name": "stdout",
     "output_type": "stream",
     "text": [
      "The autoreload extension is already loaded. To reload it, use:\n",
      "  %reload_ext autoreload\n"
     ]
    }
   ],
   "source": [
    "%load_ext autoreload\n",
    "%autoreload 2\n",
    "\n",
    "from rdkit import Chem\n",
    "from rdkit.Chem import Draw, AllChem\n",
    "from rdkit.Chem.Draw import IPythonConsole\n",
    "from src.utils import load_known_rxns\n",
    "from src.atom_mapping import *\n",
    "import pandas as pd\n",
    "\n",
    "IPythonConsole.drawOptions.addAtomIndices=True"
   ]
  },
  {
   "cell_type": "code",
   "execution_count": 39,
   "metadata": {},
   "outputs": [
    {
     "data": {
      "text/html": [
       "<div>\n",
       "<style scoped>\n",
       "    .dataframe tbody tr th:only-of-type {\n",
       "        vertical-align: middle;\n",
       "    }\n",
       "\n",
       "    .dataframe tbody tr th {\n",
       "        vertical-align: top;\n",
       "    }\n",
       "\n",
       "    .dataframe thead th {\n",
       "        text-align: right;\n",
       "    }\n",
       "</style>\n",
       "<table border=\"1\" class=\"dataframe\">\n",
       "  <thead>\n",
       "    <tr style=\"text-align: right;\">\n",
       "      <th></th>\n",
       "      <th>Reactants</th>\n",
       "      <th>SMARTS</th>\n",
       "      <th>Products</th>\n",
       "      <th>Comments</th>\n",
       "    </tr>\n",
       "    <tr>\n",
       "      <th>Name</th>\n",
       "      <th></th>\n",
       "      <th></th>\n",
       "      <th></th>\n",
       "      <th></th>\n",
       "    </tr>\n",
       "  </thead>\n",
       "  <tbody>\n",
       "    <tr>\n",
       "      <th>rule0001</th>\n",
       "      <td>Any;Any</td>\n",
       "      <td>[#6:1]-[#8:2].[#8:3]&gt;&gt;[#6:1]-[#8:3].[#8:2]</td>\n",
       "      <td>Any;Any</td>\n",
       "      <td>A0A060PLD9;A0A0P0YNP7;A0A0P9RZM9;A1XCQ0;A3E242...</td>\n",
       "    </tr>\n",
       "    <tr>\n",
       "      <th>rule0002</th>\n",
       "      <td>Any;NAD_CoF</td>\n",
       "      <td>[#6:1]-[#8:2].[#6:3]1:[#6:4]:[#6:5]:[#6:6]:[#7...</td>\n",
       "      <td>NADH_CoF;Any</td>\n",
       "      <td>A0A023RBJ1;A0A060KZ16;A0A060TBM3;A0A072UJB3;A0...</td>\n",
       "    </tr>\n",
       "    <tr>\n",
       "      <th>rule0003</th>\n",
       "      <td>NADH_CoF;Any</td>\n",
       "      <td>[#6:1]1=[#6:2]-[#7:3]-[#6:4]=[#6:5]-[#6:6]-1.[...</td>\n",
       "      <td>Any;NAD_CoF</td>\n",
       "      <td>A0A023RBJ1;A0A060KZ16;A0A060TBM3;A0A072UJB3;A0...</td>\n",
       "    </tr>\n",
       "    <tr>\n",
       "      <th>rule0004</th>\n",
       "      <td>Any;NADH_CoF;O2</td>\n",
       "      <td>[#6:1].[#6:2]1=[#6:3]-[#7:4]-[#6:5]=[#6:6]-[#6...</td>\n",
       "      <td>Any;NAD_CoF;WATER</td>\n",
       "      <td>A0A1P8W705;A0A250DUW2;A1Z745;A5HMH6;A5HMH7;A5H...</td>\n",
       "    </tr>\n",
       "    <tr>\n",
       "      <th>rule0005</th>\n",
       "      <td>Any;NAD_CoF;WATER</td>\n",
       "      <td>[#6:1]-[#8:2].[#6:3]1:[#6:4]:[#6:5]:[#6:6]:[#7...</td>\n",
       "      <td>Any;NADH_CoF;O2</td>\n",
       "      <td>A0A1P8W705;A0A250DUW2;A1Z745;A5HMH6;A5HMH7;A5H...</td>\n",
       "    </tr>\n",
       "  </tbody>\n",
       "</table>\n",
       "</div>"
      ],
      "text/plain": [
       "                  Reactants  \\\n",
       "Name                          \n",
       "rule0001            Any;Any   \n",
       "rule0002        Any;NAD_CoF   \n",
       "rule0003       NADH_CoF;Any   \n",
       "rule0004    Any;NADH_CoF;O2   \n",
       "rule0005  Any;NAD_CoF;WATER   \n",
       "\n",
       "                                                     SMARTS  \\\n",
       "Name                                                          \n",
       "rule0001         [#6:1]-[#8:2].[#8:3]>>[#6:1]-[#8:3].[#8:2]   \n",
       "rule0002  [#6:1]-[#8:2].[#6:3]1:[#6:4]:[#6:5]:[#6:6]:[#7...   \n",
       "rule0003  [#6:1]1=[#6:2]-[#7:3]-[#6:4]=[#6:5]-[#6:6]-1.[...   \n",
       "rule0004  [#6:1].[#6:2]1=[#6:3]-[#7:4]-[#6:5]=[#6:6]-[#6...   \n",
       "rule0005  [#6:1]-[#8:2].[#6:3]1:[#6:4]:[#6:5]:[#6:6]:[#7...   \n",
       "\n",
       "                   Products                                           Comments  \n",
       "Name                                                                            \n",
       "rule0001            Any;Any  A0A060PLD9;A0A0P0YNP7;A0A0P9RZM9;A1XCQ0;A3E242...  \n",
       "rule0002       NADH_CoF;Any  A0A023RBJ1;A0A060KZ16;A0A060TBM3;A0A072UJB3;A0...  \n",
       "rule0003        Any;NAD_CoF  A0A023RBJ1;A0A060KZ16;A0A060TBM3;A0A072UJB3;A0...  \n",
       "rule0004  Any;NAD_CoF;WATER  A0A1P8W705;A0A250DUW2;A1Z745;A5HMH6;A5HMH7;A5H...  \n",
       "rule0005    Any;NADH_CoF;O2  A0A1P8W705;A0A250DUW2;A1Z745;A5HMH6;A5HMH7;A5H...  "
      ]
     },
     "execution_count": 39,
     "metadata": {},
     "output_type": "execute_result"
    }
   ],
   "source": [
    "i = 25\n",
    "krs = load_known_rxns(\"./data/sprhea/known_rxns_240310_v2_folded_protein_transcript.json\")\n",
    "k = list(krs.keys())[i]\n",
    "smarts = krs[k]['smarts']\n",
    "rcs = krs[k]['rcs']\n",
    "min_rules = krs[k]['min_rules']\n",
    "\n",
    "min_ops = pd.read_csv(\"./data/sprhea/minimal1224_all_uniprot.tsv\", sep='\\t')\n",
    "min_ops.set_index(\"Name\", inplace=True)\n",
    "min_ops.head()"
   ]
  },
  {
   "cell_type": "code",
   "execution_count": 40,
   "metadata": {},
   "outputs": [
    {
     "data": {
      "image/png": "[encoded data removed]",
      "text/plain": [
       "<rdkit.Chem.rdChemReactions.ChemicalReaction at 0x2b0b56c5a880>"
      ]
     },
     "execution_count": 40,
     "metadata": {},
     "output_type": "execute_result"
    }
   ],
   "source": [
    "# k = list(krs.keys())[i]\n",
    "# smarts = krs[k]['smarts']\n",
    "# i +=1\n",
    "AllChem.ReactionFromSmarts(smarts, useSmiles=True)"
   ]
  },
  {
   "cell_type": "code",
   "execution_count": 41,
   "metadata": {},
   "outputs": [
    {
     "name": "stdout",
     "output_type": "stream",
     "text": [
      "(1, 0) [1, 3]\n",
      "(0,) [2]\n"
     ]
    }
   ],
   "source": [
    "rule = min_ops.loc[min_rules[0], 'SMARTS']\n",
    "operator = Chem.rdChemReactions.ReactionFromSmarts(rule)\n",
    "reactants = [Chem.MolFromSmiles(elt) for elt in smarts.split(\">>\")[0].split('.')]\n",
    "products = [Chem.MolFromSmiles(elt) for elt in smarts.split(\">>\")[1].split('.')]\n",
    "\n",
    "am_smarts = atom_map_rxn(smarts, rule, rcs[0], rcs[1], ((0, 1),))"
   ]
  },
  {
   "cell_type": "code",
   "execution_count": 42,
   "metadata": {},
   "outputs": [
    {
     "data": {
      "image/png": "[encoded data removed]",
      "text/plain": [
       "<rdkit.Chem.rdChemReactions.ChemicalReaction at 0x2b0b50dd4270>"
      ]
     },
     "execution_count": 42,
     "metadata": {},
     "output_type": "execute_result"
    }
   ],
   "source": [
    "AllChem.ReactionFromSmarts(am_smarts, useSmiles=True)"
   ]
  },
  {
   "cell_type": "code",
   "execution_count": 43,
   "metadata": {},
   "outputs": [
    {
     "name": "stdout",
     "output_type": "stream",
     "text": [
      "['[C:1]([OH:3])([c:11]1[c:1]([OH:25])[c:26]2[c:7]([c:8]([Cl:9])[cH:10]1)[CH2:6][CH:5]([CH3:4])[O:29][C:2]2=[O:28])=[O:12]', '[NH2:3][CH:13]([CH2:14][c:15]1[cH:16][cH:17][cH:18][cH:19][cH:20]1)[C:21](=[O:22])[OH:23]']\n"
     ]
    }
   ],
   "source": [
    "print(am_smarts.split(\">>\")[1].split(\".\"))"
   ]
  },
  {
   "cell_type": "code",
   "execution_count": 44,
   "metadata": {},
   "outputs": [
    {
     "data": {
      "image/png": "[encoded data removed]",
      "text/plain": [
       "<IPython.core.display.Image object>"
      ]
     },
     "execution_count": 44,
     "metadata": {},
     "output_type": "execute_result"
    }
   ],
   "source": [
    "output_am = [Chem.MolFromSmiles(Chem.CanonSmiles(elt)) for elt in am_smarts.split(\">>\")[1].split(\".\")]\n",
    "Draw.MolsToGridImage(output_am, subImgSize=(400, 400))"
   ]
  },
  {
   "cell_type": "code",
   "execution_count": 27,
   "metadata": {},
   "outputs": [
    {
     "name": "stdout",
     "output_type": "stream",
     "text": [
      "['CC1Cc2c(Cl)cc(C(=O)O)c(O)c2C(=O)O1', 'NC(Cc1ccccc1)C(=O)O']\n"
     ]
    }
   ],
   "source": [
    "print(smarts.split(\">>\")[1].split('.'))"
   ]
  },
  {
   "cell_type": "code",
   "execution_count": 14,
   "metadata": {},
   "outputs": [
    {
     "data": {
      "image/png": "[encoded data removed]",
      "text/plain": [
       "<IPython.core.display.Image object>"
      ]
     },
     "execution_count": 14,
     "metadata": {},
     "output_type": "execute_result"
    }
   ],
   "source": [
    "Draw.MolsToGridImage(products, subImgSize=(400, 400))"
   ]
  },
  {
   "cell_type": "code",
   "execution_count": 45,
   "metadata": {},
   "outputs": [
    {
     "data": {
      "image/png": "[encoded data removed]",
      "text/plain": [
       "<IPython.core.display.Image object>"
      ]
     },
     "execution_count": 45,
     "metadata": {},
     "output_type": "execute_result"
    }
   ],
   "source": [
    "input_am = [Chem.MolFromSmiles(Chem.CanonSmiles(elt)) for elt in am_smarts.split(\">>\")[0].split(\".\")]\n",
    "Draw.MolsToGridImage(input_am, subImgSize=(400, 400))"
   ]
  },
  {
   "cell_type": "code",
   "execution_count": 99,
   "metadata": {},
   "outputs": [
    {
     "data": {
      "text/plain": [
       "[[[8, 10], [0]], [[8, 10], [0]]]"
      ]
     },
     "execution_count": 99,
     "metadata": {},
     "output_type": "execute_result"
    }
   ],
   "source": [
    "rcs"
   ]
  },
  {
   "cell_type": "code",
   "execution_count": 96,
   "metadata": {},
   "outputs": [
    {
     "data": {
      "text/plain": [
       "'[#6:1]-[#7:2].[#8:3]>>[#6:1]-[#8:3].[#7:2]'"
      ]
     },
     "execution_count": 96,
     "metadata": {},
     "output_type": "execute_result"
    }
   ],
   "source": [
    "rule"
   ]
  },
  {
   "cell_type": "code",
   "execution_count": 1,
   "metadata": {},
   "outputs": [],
   "source": [
    "import pandas as pd\n",
    "import numpy as np\n",
    "from src.utils import load_embed"
   ]
  },
  {
   "cell_type": "code",
   "execution_count": 2,
   "metadata": {},
   "outputs": [
    {
     "name": "stdout",
     "output_type": "stream",
     "text": [
      "Category: A, Subcategory: X\n",
      "  Category Subcategory  Value  Value2\n",
      "0        A           X     10      10\n",
      "2        A           X     30      30\n",
      "<class 'pandas.core.frame.DataFrame'>\n",
      "\n",
      "Category: A, Subcategory: Z\n",
      "  Category Subcategory  Value  Value2\n",
      "4        A           Z     50      50\n",
      "<class 'pandas.core.frame.DataFrame'>\n",
      "\n",
      "Category: B, Subcategory: Y\n",
      "  Category Subcategory  Value  Value2\n",
      "1        B           Y     20      20\n",
      "3        B           Y     40      40\n",
      "<class 'pandas.core.frame.DataFrame'>\n",
      "\n",
      "Category: C, Subcategory: X\n",
      "  Category Subcategory  Value  Value2\n",
      "5        C           X     60     400\n",
      "6        C           X     70     700\n",
      "<class 'pandas.core.frame.DataFrame'>\n",
      "\n"
     ]
    }
   ],
   "source": [
    "import pandas as pd\n",
    "\n",
    "# Sample DataFrame\n",
    "data = {\n",
    "    'Category': ['A', 'B', 'A', 'B', 'A', 'C', 'C'],\n",
    "    'Subcategory': ['X', 'Y', 'X', 'Y', 'Z', 'X', 'X'],\n",
    "    'Value': [10, 20, 30, 40, 50, 60, 70],\n",
    "    'Value2': [10, 20, 30, 40, 50, 400, 700]\n",
    "}\n",
    "\n",
    "df = pd.DataFrame(data)\n",
    "\n",
    "# Grouping by 'Category' and 'Subcategory'\n",
    "grouped = df.groupby(['Category', 'Subcategory'])\n",
    "\n",
    "# Iterate over the groups and print them\n",
    "for (category, subcategory), group in grouped:\n",
    "    print(f\"Category: {category}, Subcategory: {subcategory}\")\n",
    "    print(group)\n",
    "    print(type(group))\n",
    "    print()\n"
   ]
  },
  {
   "cell_type": "code",
   "execution_count": 3,
   "metadata": {},
   "outputs": [
    {
     "data": {
      "text/plain": [
       "array([[ 60, 400],\n",
       "       [ 70, 700]])"
      ]
     },
     "execution_count": 3,
     "metadata": {},
     "output_type": "execute_result"
    }
   ],
   "source": [
    "group.loc[:, ['Value', 'Value2']].to_numpy()"
   ]
  },
  {
   "cell_type": "code",
   "execution_count": 4,
   "metadata": {},
   "outputs": [
    {
     "name": "stdout",
     "output_type": "stream",
     "text": [
      "10\n",
      "20\n",
      "30\n",
      "40\n",
      "50\n",
      "60\n",
      "70\n"
     ]
    }
   ],
   "source": [
    "for elt in df.loc[:,'Value']:\n",
    "    print(elt)"
   ]
  },
  {
   "cell_type": "code",
   "execution_count": 11,
   "metadata": {},
   "outputs": [
    {
     "data": {
      "text/plain": [
       "(array([[ 0.,  1.,  2.,  3.,  4.,  5.,  6.,  7.,  8.,  9.],\n",
       "        [10., 11., 12., 13., 14., 15., 16., 17., 18., 19.]], dtype=float32),\n",
       " (2,))"
      ]
     },
     "execution_count": 11,
     "metadata": {},
     "output_type": "execute_result"
    }
   ],
   "source": [
    "d = 10\n",
    "tp = np.dtype([('sample_embed', np.float32, (d,)), ('feature', str), ('y', int)])\n",
    "data = np.zeros(2, dtype=tp)\n",
    "data['sample_embed']= [np.arange(d), np.arange(d, d*2)]\n",
    "data['feature'] = ['foo', 'bar']\n",
    "data['y'] = [0, 1]\n",
    "data['sample_embed'], data['y'].shape"
   ]
  },
  {
   "cell_type": "code",
   "execution_count": 12,
   "metadata": {},
   "outputs": [
    {
     "data": {
      "text/plain": [
       "array(['', ''], dtype='<U0')"
      ]
     },
     "execution_count": 12,
     "metadata": {},
     "output_type": "execute_result"
    }
   ],
   "source": [
    "data['feature']"
   ]
  },
  {
   "cell_type": "code",
   "execution_count": 16,
   "metadata": {},
   "outputs": [
    {
     "name": "stdout",
     "output_type": "stream",
     "text": [
      "[0. 1. 2. 3. 4. 5. 6. 7. 8. 9.]\n",
      "[10. 11. 12. 13. 14. 15. 16. 17. 18. 19.]\n"
     ]
    }
   ],
   "source": [
    "for row in data:\n",
    "    print(row['sample_embed'])"
   ]
  },
  {
   "cell_type": "code",
   "execution_count": 3,
   "metadata": {},
   "outputs": [
    {
     "data": {
      "text/plain": [
       "(1280,)"
      ]
     },
     "execution_count": 3,
     "metadata": {},
     "output_type": "execute_result"
    }
   ],
   "source": [
    "data_dir = \"/projects/p30041/spn1560/hiec/data\"\n",
    "scratch_dir = \"/scratch/spn1560\"\n",
    "ds_name = 'sprhea'\n",
    "sample_embed_type = 'esm'\n",
    "sample_name = 'Q0WSX8'\n",
    "test_embed = load_embed(f\"{data_dir}/{ds_name}/{sample_embed_type}/{sample_name}.pt\", embed_key=33)[1].numpy()\n",
    "test_embed.shape"
   ]
  },
  {
   "cell_type": "code",
   "execution_count": 7,
   "metadata": {},
   "outputs": [
    {
     "data": {
      "text/plain": [
       "(2,)"
      ]
     },
     "execution_count": 7,
     "metadata": {},
     "output_type": "execute_result"
    }
   ],
   "source": [
    "foo = np.array(1)\n",
    "bar = np.array(0)\n",
    "np.array([foo, bar]).shape\n"
   ]
  },
  {
   "cell_type": "markdown",
   "metadata": {},
   "source": [
    "# Dict learning. Ensure trainability and loadability from checkpointability"
   ]
  },
  {
   "cell_type": "code",
   "execution_count": 1,
   "metadata": {},
   "outputs": [],
   "source": [
    "from src.model import MPNNDimRed\n",
    "from src.nn import LinDimRed, AttentionAggregation, BondMessagePassingDict\n",
    "from chemprop.nn import MeanAggregation, BondMessagePassing, BinaryClassificationFFN, Aggregation\n",
    "import torch"
   ]
  },
  {
   "cell_type": "code",
   "execution_count": 2,
   "metadata": {},
   "outputs": [],
   "source": [
    "d_prot = 50\n",
    "d_h_mpnn = 20\n",
    "mp = BondMessagePassingDict()\n",
    "agg = AttentionAggregation(input_dim=d_h_mpnn)\n",
    "pred_head = BinaryClassificationFFN()\n",
    "\n",
    "\n",
    "model = MPNNDimRed(\n",
    "        reduce_X_d=LinDimRed(d_in=d_prot, d_out=d_h_mpnn),\n",
    "        message_passing=mp,\n",
    "        agg=agg,\n",
    "        predictor=pred_head,\n",
    "    )"
   ]
  },
  {
   "cell_type": "code",
   "execution_count": 3,
   "metadata": {},
   "outputs": [
    {
     "name": "stdout",
     "output_type": "stream",
     "text": [
      "Layer: message_passing.W_i.weight | Size: torch.Size([300, 86]) | Values : tensor([[-0.0061, -0.0986, -0.1009, -0.0911,  0.0976,  0.0725, -0.0262,  0.0054,\n",
      "          0.0279, -0.1050, -0.0440,  0.0204,  0.0699, -0.0898, -0.0438, -0.0875,\n",
      "         -0.0336, -0.0893,  0.0016, -0.0477, -0.0038, -0.1027,  0.0965, -0.0544,\n",
      "          0.0406,  0.1040,  0.0372,  0.0330,  0.0772,  0.0856,  0.0794, -0.0626,\n",
      "         -0.0786, -0.0585,  0.0180,  0.0562,  0.0644, -0.0123,  0.0272, -0.0889,\n",
      "         -0.0965,  0.0042, -0.0819, -0.0414, -0.0041, -0.0656, -0.0114,  0.0827,\n",
      "         -0.0015, -0.0870, -0.0524, -0.0258, -0.0642, -0.0967, -0.1039, -0.0256,\n",
      "          0.0115, -0.0506,  0.0394,  0.0465,  0.1041,  0.0676, -0.0589,  0.1067,\n",
      "         -0.0977, -0.0959,  0.0306, -0.0252, -0.0704, -0.0101, -0.1066, -0.0460,\n",
      "          0.1053, -0.0219,  0.0134,  0.0378, -0.0212, -0.0846,  0.0975,  0.0086,\n",
      "         -0.0765, -0.0849, -0.0774, -0.0385, -0.0091, -0.0040],\n",
      "        [-0.0620, -0.0100,  0.0767,  0.0465,  0.0423, -0.0900, -0.0040, -0.0496,\n",
      "         -0.0236, -0.0723,  0.0870, -0.0146, -0.0251,  0.0124,  0.0743,  0.0502,\n",
      "         -0.0526, -0.0542, -0.0097, -0.0281,  0.0080,  0.0168,  0.0756,  0.0665,\n",
      "          0.0402, -0.0602,  0.0987, -0.0444,  0.0705,  0.0752,  0.0933,  0.0641,\n",
      "         -0.0552,  0.0340, -0.1056,  0.0731,  0.0556,  0.0581, -0.0759, -0.0169,\n",
      "          0.0616,  0.0002, -0.0963, -0.0651,  0.0521, -0.0473,  0.0774,  0.0273,\n",
      "          0.0963, -0.0180,  0.1018, -0.0742, -0.0480,  0.0479,  0.0186, -0.0756,\n",
      "          0.0159,  0.0512, -0.0041,  0.0463,  0.0401,  0.1058, -0.0706,  0.0756,\n",
      "         -0.0771, -0.0133,  0.0073, -0.0289, -0.1015, -0.0109,  0.1002,  0.0436,\n",
      "          0.0455,  0.0995,  0.0593,  0.0199, -0.0255, -0.0454,  0.0822,  0.0609,\n",
      "          0.0657,  0.0864, -0.0027,  0.1034, -0.0813,  0.0134]],\n",
      "       grad_fn=<SliceBackward0>) \n",
      "\n",
      "Layer: message_passing.W_h.weight | Size: torch.Size([300, 300]) | Values : tensor([[ 4.9292e-02, -2.0287e-02,  5.4125e-02,  5.7368e-03, -3.4244e-02,\n",
      "         -5.5283e-02,  5.2573e-02, -5.6428e-02, -4.8418e-02,  1.6027e-02,\n",
      "          4.1282e-02, -4.6589e-02,  3.4498e-02, -4.9806e-02,  3.7151e-02,\n",
      "          3.4143e-02,  1.6819e-02, -2.9909e-02,  1.7808e-02, -7.0743e-03,\n",
      "         -4.2538e-02,  5.1693e-02, -3.3447e-02, -8.7400e-03,  4.2578e-02,\n",
      "         -3.3248e-03,  1.7966e-02, -5.3265e-02, -2.6002e-02, -2.7082e-02,\n",
      "          4.7815e-02,  2.7566e-02, -5.6208e-02, -5.4220e-02,  5.7271e-02,\n",
      "         -9.1098e-03,  1.9446e-02, -1.1799e-02,  3.5630e-02, -3.8054e-02,\n",
      "          6.4055e-03,  1.8650e-02,  2.4365e-02, -1.7870e-02, -4.4795e-02,\n",
      "         -8.7632e-03,  5.5934e-02, -4.8905e-02,  1.9497e-02, -5.0723e-02,\n",
      "         -3.3773e-02,  1.7491e-02,  1.2771e-03,  2.7659e-02,  4.1488e-02,\n",
      "         -8.4904e-03,  4.4702e-02,  1.2849e-02, -4.7067e-02,  9.6815e-03,\n",
      "         -4.5174e-02, -5.0176e-02, -1.6979e-02,  2.7334e-02,  5.3267e-02,\n",
      "         -4.3899e-02, -4.5417e-02,  2.2160e-02,  2.3934e-02,  4.9264e-02,\n",
      "          3.3777e-02, -3.8207e-02, -4.5794e-02,  5.0413e-02,  4.7935e-02,\n",
      "         -3.3437e-02,  3.7171e-02,  1.1905e-02,  8.7167e-03, -3.5461e-02,\n",
      "         -1.1708e-02, -4.2986e-02, -2.0177e-02, -3.7545e-02,  5.0424e-02,\n",
      "         -2.6136e-02, -5.2760e-02,  5.3251e-03,  3.8374e-02,  4.0860e-02,\n",
      "          3.1927e-02,  3.7645e-02,  4.0288e-02, -3.7089e-02,  5.1356e-02,\n",
      "         -4.9387e-02,  2.6109e-02, -3.5940e-02,  1.5661e-03,  5.6454e-02,\n",
      "         -5.2717e-02,  3.7094e-02,  5.0952e-02, -3.8821e-02, -5.2979e-02,\n",
      "          1.8205e-02,  3.8940e-02,  1.5323e-02,  2.0247e-02, -2.0384e-02,\n",
      "          5.6641e-02, -1.3396e-02, -3.6209e-02,  2.5752e-02,  3.9898e-02,\n",
      "          1.9473e-02,  1.0214e-02,  4.3926e-02, -3.3218e-02, -2.9468e-02,\n",
      "          3.8863e-02,  7.6955e-03,  4.3314e-02,  1.4806e-02,  5.3401e-02,\n",
      "         -5.4045e-02, -3.6681e-02,  4.9594e-02,  3.2360e-02,  5.2877e-02,\n",
      "          3.2955e-02,  4.2877e-02,  3.2078e-02,  5.3821e-02, -5.7256e-02,\n",
      "         -5.0509e-02,  3.4709e-02, -4.8504e-02,  4.7945e-02, -7.2854e-03,\n",
      "          4.3850e-02,  1.0883e-02, -5.4695e-02,  3.9593e-02,  3.1543e-02,\n",
      "          4.5008e-02, -1.1915e-03, -2.2566e-02,  4.9315e-02,  2.5354e-03,\n",
      "          1.3128e-02,  1.6008e-02,  3.6673e-02,  5.1525e-02,  3.8725e-02,\n",
      "         -9.6110e-04, -4.6548e-02,  3.6452e-03, -4.8225e-02,  4.6442e-02,\n",
      "          3.4723e-02,  5.2680e-02,  2.7222e-02, -3.9856e-02,  2.8447e-02,\n",
      "          1.0698e-02, -3.3056e-02, -3.0298e-02, -1.1232e-02,  2.7719e-02,\n",
      "         -3.3707e-02, -9.1353e-03, -2.7778e-02,  3.1269e-03,  2.5174e-02,\n",
      "          2.6359e-02, -2.5100e-02, -2.9490e-03, -2.4189e-02, -2.5413e-02,\n",
      "          8.3644e-03, -5.7729e-03,  5.1499e-03, -5.4041e-03,  1.8781e-02,\n",
      "          4.1282e-02, -2.2300e-02,  3.5980e-02,  4.6027e-02,  1.2674e-02,\n",
      "         -3.1450e-02, -5.0321e-03, -2.0158e-02, -1.1371e-04,  1.9081e-02,\n",
      "          5.2160e-02,  1.7131e-02,  5.4529e-02,  5.6659e-02, -2.8653e-02,\n",
      "         -3.8199e-02,  5.3317e-02, -3.7742e-02,  1.6785e-02, -3.3156e-02,\n",
      "         -4.9200e-02,  3.7480e-03, -9.3287e-03,  1.5143e-02, -3.3512e-02,\n",
      "          5.2702e-02, -3.6488e-03, -2.6173e-02,  4.8724e-02,  3.8872e-02,\n",
      "          1.6985e-03,  1.3344e-02, -1.7146e-02, -2.1266e-02, -2.8096e-02,\n",
      "         -4.2905e-02, -2.2837e-02,  2.8122e-02,  4.2007e-02, -5.7264e-02,\n",
      "          1.9567e-02,  1.8036e-02,  4.3121e-02,  1.2350e-02,  3.1503e-02,\n",
      "         -3.7316e-02, -6.6296e-03,  1.5697e-02,  4.8140e-02,  2.6462e-02,\n",
      "         -4.2816e-02,  4.3232e-02, -5.1595e-02, -4.8449e-02,  3.6067e-02,\n",
      "          1.5641e-02, -2.9483e-03, -4.2742e-02,  5.2429e-02, -5.0068e-02,\n",
      "          3.5181e-02,  5.1381e-02, -2.7479e-02, -4.1132e-02, -3.3802e-02,\n",
      "          2.8585e-02, -1.9278e-02, -2.4393e-02,  1.2877e-02, -2.9577e-03,\n",
      "         -5.3496e-02, -4.6370e-03, -3.4305e-02,  5.2428e-02,  4.1325e-02,\n",
      "         -2.0394e-03, -5.6402e-02,  4.4813e-02, -3.0078e-02,  1.1216e-02,\n",
      "         -4.3424e-02,  4.4269e-02,  5.2851e-03,  3.6900e-02,  5.7705e-02,\n",
      "          4.1646e-02, -5.2804e-02,  2.3603e-04,  2.9329e-02,  3.8196e-02,\n",
      "          1.6582e-02, -2.5883e-02,  5.1989e-02, -1.7343e-02, -6.7298e-05,\n",
      "          3.9737e-02,  3.3502e-02,  1.9311e-02, -2.9587e-02,  1.4875e-02,\n",
      "         -2.6359e-02, -3.8873e-02,  1.2995e-02, -4.8488e-03, -2.0343e-02,\n",
      "          1.3895e-02, -2.9598e-02,  4.2629e-02,  4.3596e-02, -3.4443e-02,\n",
      "          4.3602e-02,  4.6836e-02, -2.3192e-02,  4.6684e-03, -3.4997e-03],\n",
      "        [-3.1780e-02,  3.3019e-02,  3.6648e-04, -1.7507e-03, -5.0851e-02,\n",
      "          2.7895e-02, -2.8351e-02, -2.6278e-02, -4.0571e-02,  3.3096e-02,\n",
      "         -5.0958e-02,  4.7935e-02, -2.5907e-02, -4.5991e-02,  9.6365e-03,\n",
      "         -2.8871e-02, -4.4298e-02,  6.4352e-03, -5.1789e-02,  2.2153e-02,\n",
      "         -1.7671e-02,  5.5005e-02,  5.1698e-02,  4.6731e-02,  4.0162e-02,\n",
      "         -1.5238e-02,  2.0417e-03,  1.4269e-02,  3.5532e-02, -5.0471e-04,\n",
      "          2.4617e-02, -1.4637e-02,  5.4173e-02,  9.6450e-03, -2.4205e-02,\n",
      "         -2.0456e-02,  4.8172e-02,  1.2504e-02,  1.0802e-02, -2.6142e-02,\n",
      "          4.8002e-02, -5.4486e-02,  9.5814e-04,  3.8498e-03, -2.3175e-02,\n",
      "          4.5844e-02,  1.5687e-03,  3.8662e-02, -6.4684e-03,  2.0225e-02,\n",
      "         -2.5564e-02, -8.7792e-04,  5.7010e-02,  2.8065e-02, -6.4454e-03,\n",
      "          2.7149e-02,  2.1967e-02, -2.3336e-02, -3.9586e-02,  5.6144e-02,\n",
      "         -6.3303e-03, -1.2513e-02,  1.6148e-02, -3.2271e-02,  3.7208e-02,\n",
      "          3.5535e-02, -1.5908e-02, -6.2653e-03, -1.5796e-02, -2.4179e-02,\n",
      "         -5.8145e-03,  1.0834e-02,  3.9347e-02, -4.0549e-02,  4.7293e-02,\n",
      "          6.1227e-03,  8.3684e-03,  5.4126e-02,  4.1070e-02,  5.0174e-02,\n",
      "          4.4442e-02,  3.7348e-03,  3.7427e-02, -5.5646e-02, -2.5361e-02,\n",
      "          5.3324e-02, -2.6320e-02,  5.3334e-03, -7.5785e-03,  3.3211e-03,\n",
      "          1.3204e-03, -1.9325e-02, -4.8672e-02, -3.6350e-02,  1.8811e-02,\n",
      "         -2.0917e-02,  2.1398e-02, -2.5346e-02, -3.0914e-02,  2.3558e-02,\n",
      "          1.7572e-02,  4.9257e-02,  1.3709e-03,  6.8299e-04,  6.4557e-03,\n",
      "          1.0443e-03,  3.3559e-02, -4.0853e-02, -1.1763e-02, -2.6994e-02,\n",
      "         -5.0975e-02,  1.4746e-02,  4.3448e-03,  2.5510e-02,  3.8843e-02,\n",
      "          4.1171e-02, -2.8185e-02, -2.3939e-02,  5.1208e-02,  2.4159e-02,\n",
      "         -1.4863e-02, -3.9333e-02, -3.6862e-02,  4.6252e-02,  4.3342e-02,\n",
      "         -4.7697e-02,  3.0780e-02, -4.1665e-02,  1.8352e-02, -4.9710e-02,\n",
      "         -3.6304e-02,  4.1345e-02,  1.9271e-02, -3.4558e-03, -4.2277e-02,\n",
      "          3.4198e-02,  4.6717e-02, -2.3162e-03, -1.6980e-02, -4.5489e-02,\n",
      "         -1.9249e-02, -8.2952e-03, -3.8497e-02,  2.3310e-02, -2.9737e-02,\n",
      "         -4.7211e-02, -1.0120e-02, -4.8215e-02, -4.9373e-02, -4.3097e-02,\n",
      "          3.0607e-02,  2.8184e-03,  1.1605e-02,  5.2103e-02, -3.6976e-02,\n",
      "          4.8033e-02,  4.2955e-03,  9.3018e-03, -3.2149e-03, -5.7171e-03,\n",
      "          4.3480e-03,  5.3236e-02,  1.9298e-02, -3.4742e-02, -2.1037e-02,\n",
      "         -5.0614e-02, -3.5146e-02,  7.9119e-03,  2.1508e-02,  2.7691e-02,\n",
      "          1.0883e-02, -2.1138e-02,  1.6986e-02, -2.4254e-02, -4.0212e-02,\n",
      "         -2.0131e-02,  3.4721e-02,  1.1422e-02,  4.0147e-02,  4.4753e-02,\n",
      "          3.4402e-02,  5.5414e-02,  1.6621e-02, -2.9528e-02, -6.2627e-03,\n",
      "         -1.0027e-02, -4.1775e-02,  1.8733e-03, -1.1395e-02, -4.1147e-02,\n",
      "         -1.1466e-02, -9.1355e-03,  2.4862e-03,  5.6869e-02,  4.4452e-02,\n",
      "         -4.5219e-02, -5.0211e-02, -3.3114e-02, -4.8384e-03,  1.5632e-02,\n",
      "          4.0269e-02, -2.5848e-02, -1.5292e-02,  3.3910e-02, -4.3102e-02,\n",
      "         -3.7919e-02,  4.4234e-02,  5.7397e-02,  2.7665e-02,  3.3677e-02,\n",
      "          5.3481e-02,  4.3157e-03,  1.2879e-03, -2.0044e-02, -4.6230e-03,\n",
      "          2.5534e-02,  1.0693e-02,  3.8298e-02,  8.1386e-03,  1.0144e-02,\n",
      "          1.9881e-02,  3.9312e-02,  2.9187e-02, -2.9050e-02, -4.9041e-02,\n",
      "         -5.6135e-02, -3.4588e-02,  2.0074e-02,  3.1661e-02,  1.6887e-02,\n",
      "          3.8761e-02, -2.4848e-03, -1.9981e-04,  5.5133e-02, -4.8763e-02,\n",
      "          4.8341e-02,  7.8738e-03,  1.8126e-02, -5.5700e-02, -1.3869e-02,\n",
      "          1.8540e-02,  4.4262e-02,  4.0048e-02, -2.6061e-02, -4.3895e-02,\n",
      "         -5.3037e-03,  2.5077e-02,  3.2321e-02, -5.6633e-02,  4.5060e-02,\n",
      "          3.5097e-02, -1.7596e-02, -2.2301e-02,  5.5844e-02, -1.8296e-02,\n",
      "         -5.2360e-02, -5.2668e-02,  4.5839e-02,  1.2789e-02,  5.1812e-02,\n",
      "         -2.0435e-03,  3.0660e-02, -4.3813e-03, -4.8287e-02,  3.2092e-02,\n",
      "         -1.9692e-02, -1.9739e-02, -4.8862e-02,  3.6619e-02,  3.8383e-02,\n",
      "         -2.4004e-02, -1.5409e-02, -3.1982e-02,  4.9022e-02, -4.3779e-03,\n",
      "         -3.7392e-02, -4.3233e-04,  4.6162e-02,  2.4636e-02,  5.0022e-02,\n",
      "          2.2105e-04, -8.1879e-03,  1.7633e-02, -3.7831e-02, -3.5715e-02,\n",
      "          5.4640e-02,  5.0626e-02, -4.8697e-02, -5.3684e-02, -4.6100e-02,\n",
      "         -2.8264e-02, -9.4785e-03,  2.8864e-02, -4.5046e-02, -2.3162e-03,\n",
      "         -3.0685e-02, -3.8053e-02,  2.3429e-02, -4.0941e-02,  4.0490e-03]],\n",
      "       grad_fn=<SliceBackward0>) \n",
      "\n",
      "Layer: message_passing.W_o.weight | Size: torch.Size([300, 372]) | Values : tensor([[-0.0386, -0.0186, -0.0348, -0.0275,  0.0484, -0.0255, -0.0420,  0.0001,\n",
      "          0.0150,  0.0478,  0.0054, -0.0366,  0.0359, -0.0136, -0.0033, -0.0457,\n",
      "         -0.0472,  0.0218,  0.0499,  0.0092,  0.0195,  0.0385, -0.0301, -0.0037,\n",
      "         -0.0254,  0.0405, -0.0325,  0.0328, -0.0462,  0.0231,  0.0469, -0.0080,\n",
      "         -0.0334, -0.0250,  0.0065,  0.0388,  0.0048,  0.0398,  0.0413, -0.0407,\n",
      "         -0.0196,  0.0144,  0.0016,  0.0268,  0.0021,  0.0448, -0.0292, -0.0500,\n",
      "         -0.0225,  0.0471, -0.0280,  0.0349, -0.0029, -0.0221, -0.0441,  0.0492,\n",
      "          0.0075, -0.0124, -0.0347,  0.0236,  0.0493,  0.0117, -0.0458,  0.0336,\n",
      "         -0.0070,  0.0086, -0.0005,  0.0108,  0.0197, -0.0303,  0.0461,  0.0031,\n",
      "          0.0287,  0.0140, -0.0369,  0.0009, -0.0280,  0.0264, -0.0115,  0.0182,\n",
      "         -0.0486, -0.0186, -0.0012, -0.0482,  0.0180, -0.0219, -0.0470,  0.0427,\n",
      "          0.0419,  0.0398,  0.0149,  0.0227, -0.0065, -0.0360, -0.0291, -0.0041,\n",
      "         -0.0343, -0.0362,  0.0150,  0.0091, -0.0149,  0.0015,  0.0209, -0.0413,\n",
      "         -0.0121, -0.0072,  0.0095,  0.0336,  0.0498,  0.0071,  0.0256, -0.0440,\n",
      "          0.0108, -0.0432,  0.0404,  0.0416, -0.0098,  0.0410,  0.0423, -0.0418,\n",
      "          0.0149,  0.0319,  0.0114, -0.0184, -0.0187, -0.0102,  0.0473, -0.0516,\n",
      "         -0.0318, -0.0050,  0.0088, -0.0232, -0.0518, -0.0122,  0.0313, -0.0225,\n",
      "         -0.0374,  0.0081,  0.0131,  0.0127,  0.0307, -0.0101, -0.0404,  0.0242,\n",
      "          0.0395,  0.0320, -0.0414,  0.0445, -0.0051,  0.0050,  0.0475,  0.0491,\n",
      "         -0.0155,  0.0207, -0.0168, -0.0036, -0.0212,  0.0038, -0.0450,  0.0032,\n",
      "         -0.0384,  0.0174,  0.0291, -0.0163,  0.0157,  0.0245, -0.0436,  0.0094,\n",
      "         -0.0331,  0.0285, -0.0142,  0.0003,  0.0358, -0.0482,  0.0428,  0.0150,\n",
      "          0.0287,  0.0290,  0.0422,  0.0077, -0.0305,  0.0476, -0.0324, -0.0499,\n",
      "         -0.0478, -0.0483, -0.0431, -0.0195, -0.0159, -0.0320,  0.0199, -0.0110,\n",
      "          0.0279, -0.0224, -0.0201, -0.0390,  0.0466,  0.0182,  0.0037, -0.0044,\n",
      "         -0.0437, -0.0433, -0.0269, -0.0211,  0.0018, -0.0248,  0.0031,  0.0020,\n",
      "          0.0265,  0.0348, -0.0227, -0.0261,  0.0094, -0.0428, -0.0267, -0.0175,\n",
      "         -0.0014, -0.0006, -0.0373,  0.0199,  0.0297, -0.0227,  0.0144,  0.0281,\n",
      "         -0.0398,  0.0079, -0.0113, -0.0508,  0.0387,  0.0034,  0.0381,  0.0164,\n",
      "         -0.0475,  0.0343,  0.0113,  0.0115,  0.0344,  0.0400, -0.0289,  0.0118,\n",
      "          0.0045,  0.0388, -0.0464,  0.0424, -0.0067,  0.0106,  0.0437, -0.0400,\n",
      "         -0.0140, -0.0114, -0.0461,  0.0259, -0.0099, -0.0457,  0.0458, -0.0214,\n",
      "         -0.0226, -0.0513, -0.0120,  0.0188, -0.0110, -0.0311,  0.0148,  0.0287,\n",
      "          0.0148, -0.0313, -0.0373,  0.0027, -0.0283,  0.0188, -0.0304,  0.0352,\n",
      "          0.0374, -0.0180, -0.0099,  0.0343, -0.0241,  0.0322,  0.0390,  0.0238,\n",
      "          0.0244,  0.0151, -0.0414,  0.0174, -0.0191,  0.0166, -0.0508,  0.0336,\n",
      "          0.0150, -0.0260, -0.0281, -0.0244, -0.0277,  0.0045, -0.0402, -0.0472,\n",
      "         -0.0498,  0.0164,  0.0492,  0.0468, -0.0206, -0.0396, -0.0377, -0.0374,\n",
      "          0.0034,  0.0313, -0.0011, -0.0305,  0.0053,  0.0172, -0.0145,  0.0252,\n",
      "          0.0139,  0.0510,  0.0256, -0.0173, -0.0419, -0.0318,  0.0458,  0.0410,\n",
      "         -0.0089,  0.0065, -0.0094, -0.0358, -0.0120, -0.0516,  0.0503,  0.0051,\n",
      "         -0.0246,  0.0264,  0.0223,  0.0370, -0.0391,  0.0465,  0.0010,  0.0051,\n",
      "         -0.0156, -0.0399,  0.0377,  0.0007,  0.0398, -0.0415, -0.0296, -0.0098,\n",
      "          0.0210,  0.0499, -0.0026,  0.0219, -0.0450, -0.0287, -0.0168, -0.0020,\n",
      "         -0.0493,  0.0301, -0.0153,  0.0428,  0.0182,  0.0167, -0.0064,  0.0309,\n",
      "         -0.0068, -0.0380,  0.0362, -0.0298, -0.0498,  0.0033,  0.0073, -0.0001,\n",
      "         -0.0381, -0.0130,  0.0293,  0.0435],\n",
      "        [-0.0337, -0.0422,  0.0032,  0.0320, -0.0289, -0.0429, -0.0242, -0.0370,\n",
      "         -0.0283,  0.0160, -0.0085,  0.0078,  0.0229, -0.0124,  0.0100, -0.0104,\n",
      "          0.0468, -0.0384, -0.0387,  0.0443, -0.0430, -0.0299,  0.0259, -0.0215,\n",
      "          0.0024, -0.0463, -0.0384, -0.0016, -0.0065, -0.0372, -0.0109,  0.0308,\n",
      "          0.0327,  0.0182,  0.0291, -0.0444, -0.0299,  0.0217, -0.0279, -0.0098,\n",
      "         -0.0089, -0.0406,  0.0171, -0.0115, -0.0297,  0.0170, -0.0056, -0.0054,\n",
      "          0.0435, -0.0228, -0.0156, -0.0216, -0.0054,  0.0461, -0.0010, -0.0040,\n",
      "          0.0163,  0.0324,  0.0456,  0.0067, -0.0339,  0.0230, -0.0074,  0.0462,\n",
      "         -0.0369,  0.0282,  0.0197, -0.0265, -0.0175,  0.0497, -0.0168,  0.0332,\n",
      "         -0.0232,  0.0470, -0.0149, -0.0152, -0.0346, -0.0203,  0.0312,  0.0073,\n",
      "         -0.0482,  0.0416, -0.0105, -0.0222, -0.0359,  0.0127, -0.0272,  0.0423,\n",
      "          0.0365, -0.0034, -0.0478, -0.0046,  0.0092,  0.0424, -0.0097,  0.0364,\n",
      "          0.0516,  0.0258,  0.0066, -0.0284,  0.0503,  0.0505, -0.0293, -0.0040,\n",
      "          0.0014, -0.0370,  0.0004, -0.0167, -0.0480,  0.0350, -0.0452, -0.0095,\n",
      "         -0.0248,  0.0102, -0.0275,  0.0355, -0.0076, -0.0073, -0.0230, -0.0317,\n",
      "         -0.0298, -0.0502,  0.0510,  0.0356, -0.0410, -0.0291, -0.0076,  0.0263,\n",
      "         -0.0006, -0.0301,  0.0020, -0.0059,  0.0105, -0.0286, -0.0020, -0.0213,\n",
      "          0.0472, -0.0109, -0.0182, -0.0281,  0.0054, -0.0472, -0.0052, -0.0218,\n",
      "          0.0004, -0.0169, -0.0268,  0.0406, -0.0267,  0.0426,  0.0191, -0.0101,\n",
      "          0.0153,  0.0064,  0.0150, -0.0363, -0.0355,  0.0436, -0.0085,  0.0109,\n",
      "          0.0455,  0.0079,  0.0029,  0.0260, -0.0226,  0.0471, -0.0309,  0.0218,\n",
      "          0.0249, -0.0439, -0.0274,  0.0403, -0.0459,  0.0083,  0.0512, -0.0189,\n",
      "          0.0051,  0.0460, -0.0303,  0.0219,  0.0201, -0.0199,  0.0185,  0.0101,\n",
      "         -0.0032, -0.0118,  0.0161, -0.0348,  0.0473,  0.0071, -0.0423, -0.0023,\n",
      "         -0.0351,  0.0291, -0.0052, -0.0330,  0.0003,  0.0319,  0.0279, -0.0223,\n",
      "         -0.0318, -0.0347, -0.0308, -0.0490, -0.0309,  0.0106,  0.0007, -0.0458,\n",
      "          0.0154,  0.0305,  0.0330,  0.0123,  0.0125,  0.0165, -0.0437, -0.0235,\n",
      "         -0.0505,  0.0200,  0.0457, -0.0417, -0.0429, -0.0264,  0.0287,  0.0502,\n",
      "          0.0099,  0.0087, -0.0384,  0.0034,  0.0132, -0.0269,  0.0496,  0.0262,\n",
      "          0.0036, -0.0280,  0.0003,  0.0394,  0.0344, -0.0260,  0.0496, -0.0275,\n",
      "          0.0420,  0.0138,  0.0126, -0.0399, -0.0441,  0.0449, -0.0243, -0.0358,\n",
      "          0.0260,  0.0456, -0.0011, -0.0062, -0.0279,  0.0259, -0.0095,  0.0349,\n",
      "         -0.0460,  0.0289,  0.0226, -0.0354,  0.0005, -0.0502,  0.0055,  0.0374,\n",
      "         -0.0091,  0.0159, -0.0461,  0.0098, -0.0256,  0.0290, -0.0036,  0.0260,\n",
      "         -0.0351,  0.0299,  0.0058, -0.0430,  0.0242,  0.0160,  0.0032,  0.0064,\n",
      "         -0.0282,  0.0024,  0.0292, -0.0220, -0.0383,  0.0332, -0.0205, -0.0069,\n",
      "         -0.0496,  0.0287,  0.0311,  0.0252, -0.0454,  0.0054,  0.0358,  0.0089,\n",
      "          0.0162,  0.0251,  0.0333,  0.0393,  0.0429, -0.0345, -0.0450, -0.0309,\n",
      "         -0.0372,  0.0212,  0.0410,  0.0447,  0.0292, -0.0494, -0.0318,  0.0371,\n",
      "         -0.0226,  0.0173, -0.0187, -0.0385,  0.0336,  0.0421, -0.0160,  0.0314,\n",
      "          0.0172, -0.0131, -0.0345,  0.0389,  0.0376, -0.0321,  0.0188,  0.0039,\n",
      "         -0.0428,  0.0320, -0.0251, -0.0067, -0.0185,  0.0431,  0.0197, -0.0472,\n",
      "         -0.0366,  0.0032,  0.0233,  0.0079,  0.0362, -0.0175, -0.0084,  0.0041,\n",
      "         -0.0403,  0.0293,  0.0172, -0.0410,  0.0101,  0.0475, -0.0287,  0.0210,\n",
      "          0.0510, -0.0017,  0.0459,  0.0456, -0.0051, -0.0445,  0.0503,  0.0114,\n",
      "         -0.0389,  0.0455,  0.0289, -0.0361, -0.0287,  0.0414,  0.0340,  0.0041,\n",
      "          0.0228, -0.0331, -0.0311, -0.0465]], grad_fn=<SliceBackward0>) \n",
      "\n",
      "Layer: message_passing.W_o.bias | Size: torch.Size([300]) | Values : tensor([ 0.0266, -0.0206], grad_fn=<SliceBackward0>) \n",
      "\n",
      "Layer: agg.ffn.0.0.weight | Size: torch.Size([300, 20]) | Values : tensor([[-0.0077,  0.0260,  0.2122,  0.0649,  0.1840, -0.0541, -0.1735,  0.0881,\n",
      "         -0.1750,  0.1381, -0.2086,  0.1236, -0.0700,  0.0704, -0.2036,  0.0718,\n",
      "          0.0856, -0.1034,  0.1975, -0.0004],\n",
      "        [-0.1188, -0.1121, -0.0052, -0.0804,  0.0695, -0.0328, -0.0191,  0.1659,\n",
      "         -0.0571,  0.0105, -0.0535, -0.1702,  0.0273,  0.1153, -0.1253,  0.1381,\n",
      "          0.2212,  0.0218, -0.1739,  0.1712]], grad_fn=<SliceBackward0>) \n",
      "\n",
      "Layer: agg.ffn.0.0.bias | Size: torch.Size([300]) | Values : tensor([-0.2235, -0.1547], grad_fn=<SliceBackward0>) \n",
      "\n",
      "Layer: agg.ffn.1.2.weight | Size: torch.Size([1, 300]) | Values : tensor([[ 5.6031e-02, -3.8007e-02, -1.4631e-02,  7.5210e-03, -5.0393e-02,\n",
      "         -5.1003e-02,  1.3477e-02, -3.4724e-02,  4.9592e-02,  7.1445e-03,\n",
      "         -1.6331e-02,  4.3813e-03, -3.0294e-02,  2.7519e-02,  4.4283e-03,\n",
      "         -5.6765e-02,  2.9607e-02,  3.3764e-02, -1.4632e-02,  4.3404e-03,\n",
      "         -3.2481e-03,  3.6653e-02,  2.6593e-02,  3.0008e-05, -4.7442e-02,\n",
      "          2.2888e-02,  3.3946e-02, -1.7627e-02, -5.4627e-02, -3.3944e-02,\n",
      "         -5.2484e-02, -4.2922e-02,  3.3116e-02, -3.7287e-02, -4.3107e-02,\n",
      "          1.5166e-02,  3.2820e-02, -4.9013e-02, -1.2352e-02,  5.7377e-03,\n",
      "         -2.5624e-03,  1.9922e-02,  2.7630e-02,  2.1734e-02, -7.7383e-03,\n",
      "          2.6902e-02,  1.9726e-02,  5.4727e-03,  2.2239e-02,  1.2288e-02,\n",
      "          1.7463e-02, -2.0568e-02,  6.6624e-03,  4.3316e-02, -5.3572e-02,\n",
      "         -4.8065e-02, -2.7816e-02,  2.9472e-02,  5.1556e-02, -3.6644e-02,\n",
      "          5.7052e-03,  4.3353e-02,  1.6003e-02,  5.3107e-02, -1.6092e-02,\n",
      "         -4.1456e-02,  3.9829e-02, -2.0615e-02,  1.0510e-02,  5.7566e-02,\n",
      "          3.2658e-02,  2.9850e-02, -2.4815e-03,  3.8868e-02,  2.8544e-02,\n",
      "          4.2977e-02,  3.1670e-02,  1.8219e-02,  1.3376e-02, -8.0540e-03,\n",
      "          5.4102e-02, -4.3416e-02,  2.0083e-03, -3.3665e-02,  2.6792e-02,\n",
      "         -5.1634e-02, -5.6140e-02, -4.9014e-02,  3.9815e-02,  3.1739e-02,\n",
      "          4.5062e-02, -1.3986e-02, -3.0814e-02,  2.7427e-02,  5.6618e-02,\n",
      "          4.9988e-02,  1.6670e-02,  1.2215e-02, -1.7754e-03,  2.0118e-02,\n",
      "          5.7188e-03,  1.3610e-02,  3.5769e-02,  4.8565e-02, -1.0762e-02,\n",
      "         -2.8482e-02, -3.8273e-02,  9.6535e-03,  1.1686e-02, -3.2618e-02,\n",
      "          4.7625e-02,  1.6177e-02,  3.0280e-02,  5.6913e-03, -1.6483e-02,\n",
      "         -4.1507e-02,  4.9564e-02,  2.2309e-02, -5.2654e-02,  5.4033e-03,\n",
      "          2.0173e-02,  4.5631e-02, -1.0885e-02,  3.4877e-02, -1.7443e-02,\n",
      "          5.3843e-02, -1.6939e-02, -2.8466e-02, -2.8512e-02,  3.2542e-02,\n",
      "         -4.0966e-02, -5.3922e-02,  2.1601e-02,  9.4691e-03, -8.6871e-03,\n",
      "         -5.3192e-02,  1.9198e-02, -3.1090e-02,  4.6061e-02, -1.0695e-02,\n",
      "          2.8726e-02,  5.0647e-02, -3.3969e-02,  4.4797e-02,  5.5694e-03,\n",
      "         -3.8051e-02, -4.5660e-02,  7.9039e-03,  2.1632e-03,  2.3071e-02,\n",
      "          5.6278e-02,  5.0758e-02, -3.3571e-02, -3.0111e-03, -3.1521e-02,\n",
      "          1.9617e-02,  3.2375e-02, -5.7613e-02,  4.2372e-02, -2.8747e-02,\n",
      "          6.8815e-03, -2.7832e-02, -3.1875e-02,  3.0043e-02, -3.7611e-02,\n",
      "         -5.6260e-02,  3.3398e-02,  3.0116e-02,  4.8741e-02, -4.5004e-02,\n",
      "         -5.0104e-02, -5.0884e-02,  4.2922e-02, -5.4685e-02, -9.8339e-03,\n",
      "          4.2762e-03, -2.1266e-02,  3.3067e-02,  1.6272e-02,  2.8101e-02,\n",
      "          4.5464e-02, -1.1440e-02,  1.4837e-02,  2.5995e-02,  2.5018e-02,\n",
      "         -3.9092e-02, -5.7404e-02,  5.7135e-02, -2.1921e-02, -3.3208e-02,\n",
      "          2.9961e-02, -1.1878e-02,  2.0449e-02, -1.8989e-03, -2.9724e-02,\n",
      "         -4.3611e-02,  2.2277e-02,  6.3061e-03, -4.3416e-02,  1.6937e-02,\n",
      "          5.2749e-02, -1.7800e-02, -2.7070e-04, -5.2241e-02,  2.7459e-02,\n",
      "          1.4071e-02, -5.5394e-02,  2.8105e-02, -3.6586e-02, -5.0661e-02,\n",
      "         -1.2476e-02,  1.6153e-02, -8.1941e-03,  2.6943e-02, -1.0905e-02,\n",
      "         -1.0973e-02,  1.6224e-02, -4.1627e-02,  1.3541e-02,  1.8594e-02,\n",
      "          3.3755e-02,  1.7194e-02,  4.1165e-02, -8.0279e-03,  4.1658e-02,\n",
      "          4.6754e-02, -4.0431e-02, -5.0781e-02, -5.3494e-02, -5.0260e-02,\n",
      "         -1.5823e-02, -4.5531e-02, -3.8728e-02,  1.1013e-02, -1.1787e-02,\n",
      "          2.1930e-02,  1.4166e-02,  3.9170e-03,  1.9293e-02, -2.6823e-02,\n",
      "          4.5708e-02, -3.9207e-02, -2.4525e-02,  2.4725e-02, -1.9204e-02,\n",
      "         -3.3917e-02, -3.3252e-02, -3.9620e-02,  3.2130e-02, -1.3167e-02,\n",
      "         -1.0302e-02, -1.1098e-02,  3.7740e-03, -3.1653e-02, -4.6709e-02,\n",
      "          1.0537e-02,  4.1626e-02, -5.0858e-02, -2.5595e-02,  4.0272e-02,\n",
      "         -1.8319e-02, -8.6960e-03,  5.1609e-02,  3.6713e-02,  3.7530e-02,\n",
      "         -1.1442e-02, -2.8980e-02,  5.4724e-02,  4.9530e-03,  4.0323e-02,\n",
      "          1.1061e-02,  5.5139e-02,  3.0298e-03,  4.6347e-02, -1.0502e-02,\n",
      "          6.6534e-03,  3.6191e-02, -4.5948e-02, -2.8496e-02, -7.3786e-03,\n",
      "         -2.7270e-02,  1.5695e-02, -3.7383e-02, -2.2507e-03,  3.5833e-02,\n",
      "         -4.5468e-02,  1.3597e-02, -2.2892e-03, -2.9908e-02,  4.1297e-02,\n",
      "          9.4104e-03,  1.9172e-02,  1.9139e-02,  2.3023e-02, -2.3153e-02,\n",
      "         -5.6267e-02,  3.2197e-02, -2.4889e-02,  5.0908e-02, -1.6207e-02]],\n",
      "       grad_fn=<SliceBackward0>) \n",
      "\n",
      "Layer: agg.ffn.1.2.bias | Size: torch.Size([1]) | Values : tensor([0.0430], grad_fn=<SliceBackward0>) \n",
      "\n",
      "Layer: bn.weight | Size: torch.Size([300]) | Values : tensor([1., 1.], grad_fn=<SliceBackward0>) \n",
      "\n",
      "Layer: bn.bias | Size: torch.Size([300]) | Values : tensor([0., 0.], grad_fn=<SliceBackward0>) \n",
      "\n",
      "Layer: predictor.ffn.0.0.weight | Size: torch.Size([300, 300]) | Values : tensor([[ 2.2794e-02, -5.2325e-02, -2.5858e-02,  9.4857e-04, -3.3661e-03,\n",
      "         -2.1747e-02, -5.6147e-02, -2.9011e-02,  3.4585e-03, -3.4530e-02,\n",
      "          5.5147e-02, -4.8254e-02,  5.1049e-02,  3.0391e-02, -3.5251e-02,\n",
      "         -8.7199e-04,  3.1666e-02,  4.7891e-02, -4.6581e-03, -2.1186e-02,\n",
      "          2.0087e-02,  9.7244e-03, -3.8295e-02,  1.7402e-02, -2.2630e-02,\n",
      "         -2.3662e-02, -6.9166e-03, -1.0735e-02, -3.8064e-02,  5.2387e-02,\n",
      "          1.2236e-02,  3.0573e-02, -2.1217e-02,  3.4786e-02,  5.3503e-02,\n",
      "         -5.6623e-02, -4.1501e-02, -4.9215e-02, -4.9484e-02, -5.3131e-02,\n",
      "         -1.4937e-02, -4.3001e-02,  1.7080e-02, -1.4917e-02, -5.4224e-03,\n",
      "         -2.6252e-03,  4.4775e-02, -4.9513e-02, -5.1895e-02, -2.7108e-02,\n",
      "         -3.7637e-02, -1.6111e-02,  3.3130e-02, -4.7265e-03, -1.8188e-02,\n",
      "         -5.6791e-02, -3.1170e-02,  2.2893e-02, -4.5347e-02, -4.7107e-02,\n",
      "          7.8734e-03,  1.6858e-02, -2.2688e-02,  3.7850e-02,  1.3084e-02,\n",
      "          2.3309e-02,  6.0622e-03, -9.5738e-03, -9.6378e-03, -3.8652e-02,\n",
      "          3.7065e-02, -3.7002e-02,  1.0668e-02,  5.0368e-02, -2.3265e-02,\n",
      "          1.2450e-02,  2.1888e-02, -1.2471e-02,  2.7874e-02, -3.2772e-02,\n",
      "         -2.3260e-02, -1.6522e-02,  6.9241e-03, -8.8845e-03,  2.3161e-02,\n",
      "         -9.2924e-03,  1.2275e-02,  5.2814e-02, -2.9318e-02, -1.0596e-03,\n",
      "         -2.9903e-02, -1.3784e-02,  3.7996e-02,  4.4308e-02,  1.3141e-02,\n",
      "          1.1178e-03,  7.6011e-03, -5.1554e-02,  5.7733e-02,  4.1295e-02,\n",
      "         -1.4954e-02, -4.5875e-02,  1.7053e-02, -3.5376e-02, -1.6814e-02,\n",
      "         -4.1595e-02,  5.5838e-02,  5.3205e-02,  2.5850e-02,  4.2384e-02,\n",
      "          5.7291e-02,  3.6533e-02, -1.0033e-02, -2.0814e-02,  6.4261e-04,\n",
      "          3.3439e-02, -2.7797e-02,  8.9876e-03,  1.0220e-02, -2.2972e-02,\n",
      "         -3.2332e-02, -3.2030e-02,  1.3137e-02, -3.2921e-02, -2.0423e-02,\n",
      "          4.1614e-03,  3.0589e-02, -3.9695e-02,  4.3601e-04, -3.2867e-02,\n",
      "          7.7643e-04, -2.3331e-02,  4.5919e-03, -4.0238e-02,  1.2897e-02,\n",
      "          4.2991e-03,  2.2701e-02,  2.0681e-02,  4.2805e-02, -2.1751e-02,\n",
      "          4.8462e-02, -4.3459e-02,  6.5407e-03, -4.4635e-02, -3.8075e-02,\n",
      "          4.9276e-02,  1.7812e-02,  5.5310e-02,  1.2435e-02, -5.4489e-02,\n",
      "          2.2008e-02, -4.2586e-02, -6.9530e-03,  3.8337e-02, -4.0979e-02,\n",
      "         -5.2623e-02,  2.1373e-02, -3.5046e-02, -8.5605e-04, -1.3690e-03,\n",
      "         -3.2963e-04, -4.2822e-02,  4.6492e-02, -3.1808e-02, -2.0770e-02,\n",
      "         -2.7125e-02, -1.0102e-02, -1.7264e-02, -3.7982e-02,  5.4023e-02,\n",
      "          1.7578e-02,  1.9349e-03, -9.0435e-03, -3.7853e-02,  4.6761e-03,\n",
      "          4.4301e-03,  3.4720e-03, -6.0224e-03,  5.5405e-02,  2.9873e-02,\n",
      "         -1.7979e-02,  2.3406e-02,  5.3601e-02, -3.1373e-02,  3.9310e-03,\n",
      "         -3.0071e-02,  4.3226e-02, -2.4882e-02, -3.6964e-02, -4.0265e-02,\n",
      "         -3.4552e-02,  5.0964e-02,  2.3288e-02, -4.9273e-02, -4.7110e-02,\n",
      "         -3.0606e-02,  5.2862e-03,  3.8646e-02, -7.9207e-03,  4.7355e-02,\n",
      "          4.6521e-02, -4.1818e-02, -1.6372e-02,  3.3484e-02,  2.7784e-04,\n",
      "          3.4322e-02, -2.0162e-02,  2.5672e-02,  6.3071e-03,  2.0636e-02,\n",
      "          1.2198e-02,  5.2728e-02,  4.3057e-02, -7.5866e-04,  7.6365e-03,\n",
      "          4.6088e-02, -3.3297e-02, -2.6447e-03,  3.8755e-02,  6.9926e-03,\n",
      "         -5.7598e-02, -1.0002e-02, -9.8144e-03, -3.5799e-02, -5.1239e-02,\n",
      "         -2.3362e-02,  1.6012e-04, -7.1041e-03, -4.5510e-02,  1.5396e-02,\n",
      "          5.6800e-02, -4.7336e-02,  2.2901e-03,  4.1466e-02, -9.7522e-03,\n",
      "         -3.4170e-03,  4.0444e-02, -1.6738e-02,  1.3197e-02,  2.6059e-02,\n",
      "         -4.5172e-02, -3.3702e-02, -3.4189e-02,  2.8816e-02, -5.2801e-02,\n",
      "          1.6105e-02, -4.0950e-02,  1.7396e-02,  2.7348e-02,  3.9495e-03,\n",
      "         -4.9509e-02, -2.0028e-02,  3.0864e-02, -1.1631e-02,  4.0644e-02,\n",
      "         -8.2947e-03,  1.9699e-02,  2.3851e-02,  5.6172e-02,  3.3891e-03,\n",
      "         -2.1691e-02,  4.2629e-02, -1.5575e-02,  2.7287e-02, -1.7858e-03,\n",
      "          2.4023e-02, -5.3938e-02, -3.6017e-02, -4.3175e-02,  2.2955e-02,\n",
      "         -2.7305e-02, -5.7214e-02,  1.2565e-02, -4.0877e-02,  4.5827e-03,\n",
      "          2.5256e-02, -3.6282e-02, -3.0784e-03, -3.8034e-02, -5.6119e-02,\n",
      "         -1.1871e-02,  3.8887e-02,  2.8223e-02,  5.3263e-02,  2.7157e-03,\n",
      "         -2.4146e-02,  1.9118e-02,  1.2953e-02, -3.8884e-03,  3.2821e-02,\n",
      "          4.4243e-02,  5.8337e-03,  3.8335e-02,  8.5117e-03, -3.4591e-02,\n",
      "         -8.0949e-03, -3.2734e-02, -7.8223e-03, -2.1458e-02,  3.1381e-02],\n",
      "        [ 3.8323e-02,  1.8326e-02, -4.4430e-02, -9.2349e-03, -5.5719e-02,\n",
      "         -4.2585e-02, -3.7951e-02,  5.4597e-02, -5.4632e-02,  1.6486e-03,\n",
      "          2.4890e-02, -4.6512e-03,  9.3910e-03, -6.9591e-03, -2.7110e-02,\n",
      "          5.6776e-02,  2.0054e-02,  3.7883e-02, -3.2213e-02, -5.3106e-02,\n",
      "          5.1315e-02,  1.4548e-02,  1.2954e-02, -4.7219e-02,  5.9434e-03,\n",
      "         -4.5108e-02,  3.0453e-02, -5.0386e-02,  4.7151e-02,  4.4747e-03,\n",
      "         -5.0512e-02,  6.6247e-03,  3.3389e-02, -3.1355e-04, -9.6500e-05,\n",
      "         -1.5216e-02,  2.4221e-02,  8.0196e-03, -2.0672e-02,  2.0548e-02,\n",
      "          3.9616e-02, -8.0536e-03, -7.3306e-03,  1.1080e-02,  4.0264e-02,\n",
      "          5.4655e-02,  2.2041e-02,  1.9986e-02,  2.8709e-02,  4.3255e-02,\n",
      "         -4.1508e-02, -4.7574e-02,  5.2375e-02, -4.1628e-02, -5.4964e-02,\n",
      "         -1.4200e-02, -2.7267e-02,  5.5753e-02,  3.4196e-02, -3.7535e-02,\n",
      "          3.3431e-02, -2.6198e-02, -5.0256e-02,  5.3395e-02,  2.4802e-02,\n",
      "         -4.1325e-02,  2.6265e-02,  3.1976e-03, -2.6351e-02, -4.7381e-02,\n",
      "          2.2716e-02, -4.1131e-02, -6.3252e-03,  2.7644e-02, -4.0770e-02,\n",
      "         -2.5532e-02,  1.0103e-02, -1.9865e-02,  4.4704e-02,  4.2789e-02,\n",
      "         -3.8154e-02,  2.4803e-02,  5.5312e-03, -2.6048e-02, -2.2551e-02,\n",
      "          3.9441e-02, -4.9193e-02, -4.4146e-02,  2.4840e-02, -1.9990e-02,\n",
      "         -4.6121e-02,  5.6996e-02,  2.4386e-02, -3.3924e-02, -2.4229e-02,\n",
      "          3.8649e-02, -5.3951e-03, -1.7733e-02, -5.4245e-02, -2.2826e-02,\n",
      "         -1.8790e-02,  1.6140e-02,  2.2065e-02, -3.2739e-02, -1.3243e-04,\n",
      "          3.8564e-02, -2.3462e-02, -3.2019e-02, -2.7141e-02,  2.2307e-02,\n",
      "          2.0305e-02,  3.8637e-02, -4.2918e-02,  4.2619e-02, -8.1819e-03,\n",
      "          4.8806e-02,  2.0372e-02,  4.4570e-02,  1.7331e-02, -3.1101e-02,\n",
      "         -1.1038e-02, -4.5025e-02,  1.6833e-02, -3.5504e-03, -5.6039e-02,\n",
      "          2.3214e-02,  3.7872e-02, -4.1143e-02, -1.5701e-02,  4.1241e-02,\n",
      "         -1.8721e-03, -5.1768e-02,  5.7075e-02,  7.2843e-03,  5.6313e-02,\n",
      "          1.3618e-02, -1.5845e-02, -8.7418e-03,  1.8481e-02, -4.3484e-02,\n",
      "         -3.1687e-02,  1.3689e-02,  3.7307e-02,  3.0579e-02, -2.0013e-02,\n",
      "          2.3445e-03,  2.3451e-02,  1.4871e-02,  5.4041e-02, -5.3327e-02,\n",
      "         -1.2139e-02, -5.7231e-02,  3.5169e-02, -4.5136e-02, -1.5935e-03,\n",
      "         -3.1065e-02, -4.1989e-02, -3.5343e-02, -1.3448e-02,  5.0751e-02,\n",
      "         -3.7806e-02, -4.3391e-03, -4.9716e-02, -4.2432e-02, -5.2709e-02,\n",
      "          1.3265e-02,  5.6862e-02, -5.5779e-03,  4.5171e-02, -4.2796e-02,\n",
      "          2.0574e-02, -1.9563e-02, -3.9135e-02,  5.6714e-02,  5.5296e-02,\n",
      "         -3.5389e-02,  4.8600e-02,  3.7410e-02, -5.5125e-02,  3.7862e-02,\n",
      "         -4.5198e-02, -2.0191e-02, -2.8811e-02, -4.2066e-02,  3.6131e-02,\n",
      "          3.3531e-02,  1.1947e-02,  8.0294e-03, -5.6484e-02, -1.6072e-03,\n",
      "          7.9677e-03,  5.1940e-02,  4.2472e-02,  3.8134e-02,  1.1312e-03,\n",
      "         -4.7685e-02,  7.2635e-03, -1.4505e-02, -6.3926e-03,  2.1989e-02,\n",
      "          5.5613e-02,  1.1752e-02, -3.8836e-02, -5.0308e-02,  4.0141e-03,\n",
      "          2.6153e-02,  2.8112e-02, -3.5270e-02,  5.6676e-02,  5.7299e-02,\n",
      "          1.1623e-02, -4.1417e-02, -2.6177e-02,  2.9802e-02,  2.9346e-03,\n",
      "         -5.5362e-02, -5.3092e-02, -5.7308e-03, -1.0838e-02,  1.3773e-02,\n",
      "         -2.2733e-02,  1.9445e-02,  2.8264e-02, -6.1392e-06,  1.1297e-02,\n",
      "         -5.7203e-02,  3.1288e-03, -2.8816e-02, -5.0884e-02,  1.5726e-02,\n",
      "         -5.0046e-02,  3.2418e-02,  9.5260e-03, -4.7111e-02,  3.2300e-02,\n",
      "         -3.0985e-02, -4.5330e-02,  3.2379e-02,  1.5510e-02,  1.6591e-03,\n",
      "         -2.4303e-02,  1.6448e-02, -3.2035e-03,  5.2628e-02, -6.5160e-03,\n",
      "          1.5400e-02, -4.7683e-02, -3.0976e-02,  3.3322e-02, -4.1164e-02,\n",
      "         -2.2283e-02,  5.5607e-02, -5.4348e-02,  1.5910e-02, -3.9208e-03,\n",
      "         -1.7655e-02, -4.0237e-02,  4.8223e-02,  2.8360e-02,  1.2136e-02,\n",
      "         -2.3906e-02,  2.0077e-02, -1.3480e-02, -2.5826e-02, -3.1414e-02,\n",
      "          7.8573e-03,  5.7601e-02,  2.5515e-02, -1.3117e-02, -1.8096e-02,\n",
      "         -3.4478e-02, -2.5835e-02,  5.7489e-02, -5.4546e-02, -4.8635e-02,\n",
      "         -5.1460e-03, -2.2315e-02, -2.7854e-02, -3.1741e-02, -2.6693e-02,\n",
      "         -3.3402e-02,  4.9883e-02,  2.2947e-02, -3.8893e-02,  2.7453e-02,\n",
      "          2.7204e-02, -2.3197e-02,  1.9946e-03,  2.0044e-02, -4.8310e-02,\n",
      "          5.2905e-02, -2.7817e-03, -4.1998e-02,  5.2323e-03,  1.5056e-02,\n",
      "          3.0285e-02, -3.2403e-02,  3.6932e-02,  8.2960e-03,  3.3050e-02]],\n",
      "       grad_fn=<SliceBackward0>) \n",
      "\n",
      "Layer: predictor.ffn.0.0.bias | Size: torch.Size([300]) | Values : tensor([-0.0518, -0.0156], grad_fn=<SliceBackward0>) \n",
      "\n",
      "Layer: predictor.ffn.1.2.weight | Size: torch.Size([1, 300]) | Values : tensor([[-5.9097e-03, -2.2985e-02, -5.6774e-02,  5.1828e-03,  4.5560e-02,\n",
      "         -2.3162e-02,  1.5960e-02, -4.7819e-02,  2.7224e-02, -4.2888e-02,\n",
      "          2.8948e-03,  4.0853e-02,  1.9614e-02,  4.3362e-02,  3.8879e-02,\n",
      "          5.0987e-02,  2.9324e-02, -3.2261e-02, -2.6061e-02,  5.1342e-02,\n",
      "         -3.8695e-02, -5.2506e-02,  2.0535e-03,  3.2260e-02,  2.9756e-02,\n",
      "         -1.2341e-02,  5.1092e-03,  5.3883e-02,  2.6681e-03, -9.7955e-03,\n",
      "          5.3398e-03, -1.5638e-02,  2.8167e-02,  1.3340e-02, -1.9405e-02,\n",
      "          1.0322e-02, -1.0471e-02,  3.7789e-02,  2.2559e-02, -5.4841e-02,\n",
      "         -1.9131e-02, -5.2544e-02, -1.0298e-02, -2.1741e-02, -1.8834e-02,\n",
      "          2.6421e-02, -3.2930e-02, -3.6239e-02, -4.9909e-02, -4.7372e-02,\n",
      "         -9.7959e-05,  3.0840e-02, -6.6744e-03,  2.2322e-02, -1.3455e-02,\n",
      "         -3.8003e-02, -2.3198e-02, -5.0263e-02, -3.9383e-02, -4.2146e-02,\n",
      "          2.4035e-02, -5.0444e-02,  3.6564e-02,  3.3010e-02,  5.7493e-02,\n",
      "         -2.7763e-02, -2.6433e-03, -1.5732e-02, -2.9485e-03, -2.0992e-02,\n",
      "         -2.3896e-02,  2.2004e-02,  4.4645e-02, -1.8637e-02,  3.3732e-02,\n",
      "          5.0214e-02,  3.7627e-02, -2.2539e-02, -4.6999e-02,  2.4584e-02,\n",
      "         -4.6952e-02, -3.2333e-02, -2.2637e-03,  2.4052e-03, -4.4416e-02,\n",
      "         -6.7424e-04, -2.1119e-02,  4.7075e-02,  6.1671e-03,  5.7497e-04,\n",
      "         -1.1051e-02, -4.4371e-02, -3.7664e-02, -2.6001e-02, -5.1816e-03,\n",
      "          5.4942e-02,  1.1593e-02, -4.5490e-02, -3.4603e-02, -3.2835e-02,\n",
      "         -1.5545e-02,  1.8166e-02,  9.0338e-04,  4.8151e-02,  2.0918e-02,\n",
      "         -2.2616e-02, -1.9574e-03,  2.6735e-03, -5.1183e-02,  9.6217e-03,\n",
      "          2.5183e-02,  1.6199e-02,  3.2621e-03,  5.6436e-02,  2.2337e-02,\n",
      "          5.3832e-02,  3.4680e-02,  5.5022e-02,  2.5017e-02,  3.0621e-02,\n",
      "         -1.4425e-02,  1.8167e-02,  1.6527e-02, -3.8936e-02, -2.8416e-02,\n",
      "         -5.5392e-02, -4.8131e-02, -1.6924e-02, -5.5037e-02, -1.0710e-02,\n",
      "         -8.2748e-03, -2.7120e-02,  1.0087e-02, -5.6755e-02,  4.9448e-02,\n",
      "          5.6030e-02,  9.9803e-03, -2.5523e-02,  4.3035e-03,  2.3571e-02,\n",
      "          1.3318e-02,  1.5513e-03,  1.4913e-02,  1.1080e-02, -4.5968e-02,\n",
      "         -9.8615e-03,  4.6284e-02,  3.6583e-02,  1.0966e-02, -2.0798e-02,\n",
      "         -4.0373e-02,  5.4198e-02, -2.1477e-02,  3.5794e-02, -4.8024e-02,\n",
      "         -3.1613e-02,  1.6721e-02,  4.9005e-02,  2.9130e-03, -1.0276e-02,\n",
      "         -6.4104e-03, -3.3695e-02,  4.7229e-02,  4.8041e-03, -1.8297e-03,\n",
      "         -5.1990e-02, -2.7855e-02,  3.4560e-02, -8.9800e-03, -2.5531e-02,\n",
      "         -7.5167e-04, -5.2363e-03, -5.2648e-02,  5.4703e-02, -4.8922e-02,\n",
      "          3.3689e-03,  5.1636e-02, -3.4483e-02,  5.2340e-03, -2.2808e-02,\n",
      "          3.4455e-02,  7.9476e-03,  1.2568e-02,  1.3358e-02, -1.3219e-02,\n",
      "         -3.4375e-02, -2.5355e-02, -1.8767e-02, -3.9892e-02, -4.8008e-02,\n",
      "         -1.7318e-02, -4.8801e-02,  1.2480e-02,  4.7544e-02,  1.6467e-02,\n",
      "         -4.9553e-02,  5.3017e-02, -4.9500e-02,  4.1940e-02, -5.2672e-02,\n",
      "         -2.0040e-02,  3.3391e-02,  5.4421e-02,  5.1297e-03, -4.4254e-02,\n",
      "          2.8330e-02, -2.4505e-02,  4.0347e-02,  9.4455e-03,  4.0355e-02,\n",
      "          3.6657e-03, -1.2378e-02,  2.7892e-02, -5.4984e-02,  6.7154e-03,\n",
      "         -3.6773e-02,  2.0168e-02, -3.0977e-02,  4.2602e-02,  7.6255e-03,\n",
      "          3.2916e-03,  1.9767e-02, -4.8389e-03,  5.6952e-02,  2.3595e-03,\n",
      "          3.2125e-02,  4.8239e-02,  1.1077e-02,  9.1861e-03, -3.1959e-02,\n",
      "         -9.2596e-03,  7.0504e-03,  1.7323e-02, -3.9854e-02, -5.2162e-02,\n",
      "         -2.1449e-02,  3.4159e-02,  3.7295e-02,  1.3527e-02,  5.7641e-02,\n",
      "          2.6034e-02,  5.2017e-02,  3.6573e-02, -4.1274e-02,  4.3863e-02,\n",
      "         -5.0889e-03,  2.5353e-02, -4.0994e-02, -3.6089e-02, -4.0434e-02,\n",
      "          2.5279e-02,  1.4321e-02, -2.9712e-02,  3.1200e-02,  3.1996e-02,\n",
      "          5.6212e-02, -6.4252e-03,  2.8813e-02, -1.3671e-02,  1.8638e-03,\n",
      "          1.2481e-02,  2.3384e-02, -2.2155e-02,  9.5623e-03,  4.8556e-02,\n",
      "         -5.4910e-02, -2.7423e-02,  5.2157e-02, -2.2309e-02,  4.2204e-02,\n",
      "         -1.7916e-02, -4.8096e-02, -4.7409e-02, -3.4621e-03,  4.8878e-02,\n",
      "         -6.4928e-03,  1.8584e-02,  4.5705e-02, -2.7615e-03,  5.3450e-02,\n",
      "          2.8875e-02,  5.6939e-02, -1.3872e-02,  4.3805e-02,  1.9363e-02,\n",
      "         -4.8849e-02,  3.3514e-02,  1.5221e-02,  3.2662e-02, -2.2642e-02,\n",
      "         -5.4414e-02, -3.0773e-02,  5.4803e-02,  2.0483e-02,  9.5651e-03,\n",
      "          7.7261e-03,  1.2606e-02,  5.7537e-02,  4.5701e-03, -6.5405e-03]],\n",
      "       grad_fn=<SliceBackward0>) \n",
      "\n",
      "Layer: predictor.ffn.1.2.bias | Size: torch.Size([1]) | Values : tensor([0.0366], grad_fn=<SliceBackward0>) \n",
      "\n",
      "Layer: reduce_X_d.linear_layer.weight | Size: torch.Size([20, 50]) | Values : tensor([[-0.1004, -0.0496, -0.0527,  0.0809,  0.0958, -0.1185,  0.1249,  0.0736,\n",
      "         -0.0760, -0.0637, -0.0129,  0.0783, -0.1340,  0.0622,  0.1141,  0.0263,\n",
      "         -0.0164, -0.0919, -0.0226, -0.0967, -0.0173, -0.0464, -0.0022,  0.0669,\n",
      "         -0.0800, -0.1359,  0.0557,  0.1303,  0.1279,  0.0546, -0.1185,  0.0407,\n",
      "          0.0799, -0.0106, -0.1334, -0.1058, -0.0907, -0.0422,  0.0231,  0.1335,\n",
      "         -0.0962, -0.1093,  0.0656, -0.0319,  0.0648,  0.0220, -0.0268, -0.0372,\n",
      "          0.0715, -0.1184],\n",
      "        [-0.0430,  0.0660,  0.0533, -0.0897,  0.0909,  0.1238, -0.1108,  0.0238,\n",
      "          0.0442, -0.0469,  0.0447, -0.0939, -0.1194,  0.0989,  0.0939,  0.0027,\n",
      "         -0.0765, -0.0513, -0.1204, -0.0223, -0.1140, -0.1184,  0.1014,  0.1389,\n",
      "          0.0203,  0.1027,  0.1118,  0.0816,  0.0823,  0.1332, -0.0252, -0.0275,\n",
      "          0.0296, -0.0127, -0.0948,  0.1238, -0.0728,  0.1070,  0.0096, -0.0832,\n",
      "          0.0193, -0.0858, -0.1134, -0.0705, -0.0838,  0.0329, -0.1163, -0.0864,\n",
      "          0.0704, -0.0736]], grad_fn=<SliceBackward0>) \n",
      "\n",
      "Layer: reduce_X_d.linear_layer.bias | Size: torch.Size([20]) | Values : tensor([0.0109, 0.1049], grad_fn=<SliceBackward0>) \n",
      "\n"
     ]
    }
   ],
   "source": [
    "for name, param in model.named_parameters():\n",
    "    print(f\"Layer: {name} | Size: {param.size()} | Values : {param[:2]} \\n\")"
   ]
  },
  {
   "cell_type": "code",
   "execution_count": null,
   "metadata": {},
   "outputs": [
    {
     "ename": "",
     "evalue": "",
     "output_type": "error",
     "traceback": [
      "\u001b[1;31mFailed to start the Kernel. \n",
      "\u001b[1;31mJupyter Server crashed. Unable to connect. \n",
      "\u001b[1;31mError code from Jupyter: 1\n",
      "\u001b[1;31mTraceback (most recent call last):\n",
      "\u001b[1;31m  File \"/home/spn1560/.conda/envs/hiec/bin/jupyter-notebook\", line 7, in <module>\n",
      "\u001b[1;31m    from notebook.app import main\n",
      "\u001b[1;31m  File \"/home/spn1560/.conda/envs/hiec/lib/python3.11/site-packages/notebook/app.py\", line 20, in <module>\n",
      "\u001b[1;31m    from jupyterlab.commands import (  # type:ignore[import-untyped]\n",
      "\u001b[1;31m  File \"/home/spn1560/.conda/envs/hiec/lib/python3.11/site-packages/jupyterlab/__init__.py\", line 8, in <module>\n",
      "\u001b[1;31m    from .handlers.announcements import (\n",
      "\u001b[1;31m  File \"/home/spn1560/.conda/envs/hiec/lib/python3.11/site-packages/jupyterlab/handlers/announcements.py\", line 15, in <module>\n",
      "\u001b[1;31m    from jupyterlab_server.translation_utils import translator\n",
      "\u001b[1;31m  File \"/home/spn1560/.conda/envs/hiec/lib/python3.11/site-packages/jupyterlab_server/__init__.py\", line 6, in <module>\n",
      "\u001b[1;31m    from .app import LabServerApp\n",
      "\u001b[1;31m  File \"/home/spn1560/.conda/envs/hiec/lib/python3.11/site-packages/jupyterlab_server/app.py\", line 15, in <module>\n",
      "\u001b[1;31m    from .handlers import LabConfig, add_handlers\n",
      "\u001b[1;31m  File \"/home/spn1560/.conda/envs/hiec/lib/python3.11/site-packages/jupyterlab_server/handlers.py\", line 21, in <module>\n",
      "\u001b[1;31m    from .listings_handler import ListingsHandler, fetch_listings\n",
      "\u001b[1;31m  File \"/home/spn1560/.conda/envs/hiec/lib/python3.11/site-packages/jupyterlab_server/listings_handler.py\", line 10, in <module>\n",
      "\u001b[1;31m    import requests\n",
      "\u001b[1;31m  File \"/home/spn1560/.conda/envs/hiec/lib/python3.11/site-packages/requests/__init__.py\", line 48, in <module>\n",
      "\u001b[1;31m    from charset_normalizer import __version__ as charset_normalizer_version\n",
      "\u001b[1;31m  File \"/home/spn1560/.conda/envs/hiec/lib/python3.11/site-packages/charset_normalizer/__init__.py\", line 23, in <module>\n",
      "\u001b[1;31m    from charset_normalizer.api import from_fp, from_path, from_bytes, normalize\n",
      "\u001b[1;31m  File \"/home/spn1560/.conda/envs/hiec/lib/python3.11/site-packages/charset_normalizer/api.py\", line 10, in <module>\n",
      "\u001b[1;31m    from charset_normalizer.md import mess_ratio\n",
      "\u001b[1;31mAttributeError: partially initialized module 'charset_normalizer' has no attribute 'md__mypyc' (most likely due to a circular import). \n",
      "\u001b[1;31mView Jupyter <a href='command:jupyter.viewOutput'>log</a> for further details."
     ]
    }
   ],
   "source": [
    "path = \"/home/spn1560/hiec/data/new/new_80.clstr\"\n",
    "\n",
    "def parse_clusters(file_path):\n",
    "    clusters = {}\n",
    "    current_cluster = None\n",
    "\n",
    "    with open(file_path, 'r') as file:\n",
    "        for line in file:\n",
    "            line = line.strip()\n",
    "            if line.startswith(\">Cluster\"):\n",
    "                # Extract cluster number from the line\n",
    "                cluster_number = int(line.split()[1])\n",
    "                current_cluster = []\n",
    "                clusters[cluster_number] = current_cluster\n",
    "            elif current_cluster is not None:\n",
    "                current_cluster.append(line)\n",
    "\n",
    "    return clusters\n",
    "\n",
    "# Example usage:\n",
    "file_path = path  # Replace with your file path\n",
    "clusters_dict = parse_clusters(file_path)\n",
    "\n",
    "# Print the clusters dictionary\n",
    "for cluster_num, lines in clusters_dict.items():\n",
    "    print(f\"Cluster {cluster_num}:\")\n",
    "    for line in lines:\n",
    "        print(line)\n",
    "\n",
    "# Accessing specific clusters:\n",
    "# lines_of_cluster_41 = clusters_dict[41]\n"
   ]
  }
 ],
 "metadata": {
  "kernelspec": {
   "display_name": "hiec",
   "language": "python",
   "name": "python3"
  },
  "language_info": {
   "codemirror_mode": {
    "name": "ipython",
    "version": 3
   },
   "file_extension": ".py",
   "mimetype": "text/x-python",
   "name": "python",
   "nbconvert_exporter": "python",
   "pygments_lexer": "ipython3",
   "version": "3.11.0"
  }
 },
 "nbformat": 4,
 "nbformat_minor": 2
}
