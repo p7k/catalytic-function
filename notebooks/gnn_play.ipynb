{
 "cells": [
  {
   "cell_type": "code",
   "execution_count": 20,
   "metadata": {},
   "outputs": [
    {
     "name": "stdout",
     "output_type": "stream",
     "text": [
      "The autoreload extension is already loaded. To reload it, use:\n",
      "  %reload_ext autoreload\n"
     ]
    }
   ],
   "source": [
    "from rdkit import Chem\n",
    "from rdkit.Chem import Draw\n",
    "from rdkit.Chem.Draw import IPythonConsole\n",
    "\n",
    "IPythonConsole.drawOptions.addAtomIndices=True"
   ]
  },
  {
   "cell_type": "code",
   "execution_count": 3,
   "metadata": {},
   "outputs": [
    {
     "data": {
      "image/png": "[encoded data removed]",
      "text/plain": [
       "<rdkit.Chem.rdchem.Mol at 0x2b64d4b85690>"
      ]
     },
     "execution_count": 3,
     "metadata": {},
     "output_type": "execute_result"
    }
   ],
   "source": [
    "# Test mol\n",
    "\n",
    "smi = \"O=C(O)CCC(=O)C(=O)O\"\n",
    "mol = Chem.MolFromSmiles(smi)\n",
    "mol"
   ]
  },
  {
   "cell_type": "code",
   "execution_count": 6,
   "metadata": {},
   "outputs": [
    {
     "name": "stdout",
     "output_type": "stream",
     "text": [
      "The autoreload extension is already loaded. To reload it, use:\n",
      "  %reload_ext autoreload\n"
     ]
    }
   ],
   "source": [
    "%load_ext autoreload\n",
    "%autoreload 2\n",
    "\n",
    "import torch\n",
    "from chemprop.data import build_dataloader\n",
    "from chemprop import models\n",
    "import pandas as pd\n",
    "import matplotlib.pyplot as plt\n",
    "from src.utils import load_known_rxns\n",
    "from src.utils import construct_sparse_adj_mat\n",
    "from src import data\n",
    "from src.featurizer import RCVNReactionMolGraphFeaturizer, MultiHotAtomFeaturizer, MultiHotBondFeaturizer\n",
    "from sklearn.model_selection import train_test_split\n",
    "import numpy as np\n",
    "from lightning import pytorch as pl\n",
    "from sklearn.metrics import f1_score, precision_score, recall_score, accuracy_score"
   ]
  },
  {
   "cell_type": "code",
   "execution_count": 2,
   "metadata": {},
   "outputs": [
    {
     "data": {
      "text/html": [
       "<div>\n",
       "<style scoped>\n",
       "    .dataframe tbody tr th:only-of-type {\n",
       "        vertical-align: middle;\n",
       "    }\n",
       "\n",
       "    .dataframe tbody tr th {\n",
       "        vertical-align: top;\n",
       "    }\n",
       "\n",
       "    .dataframe thead th {\n",
       "        text-align: right;\n",
       "    }\n",
       "</style>\n",
       "<table border=\"1\" class=\"dataframe\">\n",
       "  <thead>\n",
       "    <tr style=\"text-align: right;\">\n",
       "      <th></th>\n",
       "      <th>batch_averaged_test/ce</th>\n",
       "      <th>epoch</th>\n",
       "      <th>step</th>\n",
       "      <th>train_loss</th>\n",
       "    </tr>\n",
       "  </thead>\n",
       "  <tbody>\n",
       "    <tr>\n",
       "      <th>0</th>\n",
       "      <td>NaN</td>\n",
       "      <td>0</td>\n",
       "      <td>49</td>\n",
       "      <td>1734.673584</td>\n",
       "    </tr>\n",
       "    <tr>\n",
       "      <th>1</th>\n",
       "      <td>NaN</td>\n",
       "      <td>1</td>\n",
       "      <td>99</td>\n",
       "      <td>1109.704834</td>\n",
       "    </tr>\n",
       "    <tr>\n",
       "      <th>2</th>\n",
       "      <td>NaN</td>\n",
       "      <td>1</td>\n",
       "      <td>149</td>\n",
       "      <td>814.335144</td>\n",
       "    </tr>\n",
       "    <tr>\n",
       "      <th>3</th>\n",
       "      <td>NaN</td>\n",
       "      <td>2</td>\n",
       "      <td>199</td>\n",
       "      <td>647.530273</td>\n",
       "    </tr>\n",
       "    <tr>\n",
       "      <th>4</th>\n",
       "      <td>NaN</td>\n",
       "      <td>2</td>\n",
       "      <td>249</td>\n",
       "      <td>455.589600</td>\n",
       "    </tr>\n",
       "  </tbody>\n",
       "</table>\n",
       "</div>"
      ],
      "text/plain": [
       "   batch_averaged_test/ce  epoch  step   train_loss\n",
       "0                     NaN      0    49  1734.673584\n",
       "1                     NaN      1    99  1109.704834\n",
       "2                     NaN      1   149   814.335144\n",
       "3                     NaN      2   199   647.530273\n",
       "4                     NaN      2   249   455.589600"
      ]
     },
     "execution_count": 2,
     "metadata": {},
     "output_type": "execute_result"
    }
   ],
   "source": [
    "\n",
    "df = pd.read_csv(\"./artifacts/model_evals/gnn/rc_gnn_v0_sprhea_sp_folded_pt_rxns_x_min_ops_100_epochs_seed_1234/version_1/metrics.csv\")\n",
    "df.head()"
   ]
  },
  {
   "cell_type": "code",
   "execution_count": 3,
   "metadata": {},
   "outputs": [
    {
     "data": {
      "image/png": "[encoded data removed]",
      "text/plain": [
       "<Figure size 640x480 with 1 Axes>"
      ]
     },
     "metadata": {},
     "output_type": "display_data"
    }
   ],
   "source": [
    "plt.plot(df.loc[:,\"epoch\"], df.loc[:,\"train_loss\"])\n",
    "plt.show()"
   ]
  },
  {
   "cell_type": "code",
   "execution_count": 4,
   "metadata": {},
   "outputs": [
    {
     "name": "stdout",
     "output_type": "stream",
     "text": [
      "Constructing sprhea:sp_folded_pt_rxns_x_min_ops sparse adjacency matrix\n",
      "7093\r"
     ]
    }
   ],
   "source": [
    "# Load trained model\n",
    "path = \"./artifacts/model_evals/gnn/rc_gnn_v0_sprhea_sp_folded_pt_rxns_x_min_ops_100_epochs_seed_1234/version_1/checkpoints/epoch=99-step=8400.ckpt\"\n",
    "mpnn = models.MPNN.load_from_file(path, map_location=torch.device('cpu'))\n",
    "\n",
    "dataset = 'sprhea'\n",
    "toc = 'sp_folded_pt_rxns_x_min_ops'\n",
    "krs = load_known_rxns(\"./data/sprhea/known_rxns_240310_v2_folded_protein_transcript.json\")\n",
    "seed = 1234\n",
    "\n",
    "# Load data\n",
    "adj, idx_sample, idx_feature = construct_sparse_adj_mat(dataset, toc)\n",
    "feature_idx = {v:k for k,v in idx_feature.items()}\n",
    "X = [krs[k] for k in list(krs.keys())]\n",
    "min_rule_labels = [\"_\".join(sorted(elt['min_rules'])) for elt in X] # Rule names\n",
    "min_rule_idxs = np.array([feature_idx[elt] for elt in min_rule_labels]) # Indices in adj mat\n",
    "n_samples = len(X)\n",
    "n_classes = len(feature_idx)\n",
    "y = min_rule_idxs.reshape(-1,1) # Class index encoding\n",
    "\n",
    "# Split data\n",
    "X_train, X_test, y_train, y_test = train_test_split(X, y, random_state=seed)\n",
    "\n",
    "# Init featurizer\n",
    "featurizer = RCVNReactionMolGraphFeaturizer(\n",
    "    atom_featurizer=MultiHotAtomFeaturizer.no_stereo(),\n",
    "    bond_featurizer=MultiHotBondFeaturizer()\n",
    ")\n",
    "\n",
    "# Construct dataset\n",
    "datapoints_train = [data.RxnRCDatapoint.from_smi(kr, y=y_train[i]) for i, kr in enumerate(X_train)]\n",
    "datapoints_test = [data.RxnRCDatapoint.from_smi(kr, y=y_test[i]) for i, kr in enumerate(X_test)]\n",
    "\n",
    "dataset_train = data.RxnRCDataset(datapoints_train, featurizer=featurizer)\n",
    "dataset_test = data.RxnRCDataset(datapoints_test, featurizer=featurizer)\n",
    "\n",
    "data_loader_train = build_dataloader(dataset_train, shuffle=False)\n",
    "data_loader_test = build_dataloader(dataset_test, shuffle=False)\n"
   ]
  },
  {
   "cell_type": "code",
   "execution_count": 5,
   "metadata": {},
   "outputs": [
    {
     "name": "stderr",
     "output_type": "stream",
     "text": [
      "/home/spn1560/.conda/envs/hiec/lib/python3.11/site-packages/lightning/fabric/plugins/environments/slurm.py:204: The `srun` command is available on your system but is not used. HINT: If your intention is to run Lightning on SLURM, prepend your python command with `srun` like so: srun python /home/spn1560/.conda/envs/hiec/lib/python3.11/site-p ...\n",
      "GPU available: False, used: False\n",
      "TPU available: False, using: 0 TPU cores\n",
      "IPU available: False, using: 0 IPUs\n",
      "HPU available: False, using: 0 HPUs\n",
      "/home/spn1560/.conda/envs/hiec/lib/python3.11/site-packages/lightning/pytorch/trainer/connectors/logger_connector/logger_connector.py:75: Starting from v1.9.0, `tensorboardX` has been removed as a dependency of the `lightning.pytorch` package, due to potential conflicts with other packages in the ML ecosystem. For this reason, `logger=True` will use `CSVLogger` as the default logger, unless the `tensorboard` or `tensorboardX` packages are found. Please `pip install lightning[extra]` or one of them to enable TensorBoard support by default\n",
      "/home/spn1560/.conda/envs/hiec/lib/python3.11/site-packages/lightning/fabric/plugins/environments/slurm.py:204: The `srun` command is available on your system but is not used. HINT: If your intention is to run Lightning on SLURM, prepend your python command with `srun` like so: srun python /home/spn1560/.conda/envs/hiec/lib/python3.11/site-p ...\n",
      "/home/spn1560/.conda/envs/hiec/lib/python3.11/site-packages/lightning/pytorch/trainer/connectors/data_connector.py:441: The 'predict_dataloader' does not have many workers which may be a bottleneck. Consider increasing the value of the `num_workers` argument` to `num_workers=51` in the `DataLoader` to improve performance.\n"
     ]
    },
    {
     "data": {
      "application/vnd.jupyter.widget-view+json": {
       "model_id": "a237af9d276a4183a6b8d1896159c198",
       "version_major": 2,
       "version_minor": 0
      },
      "text/plain": [
       "Predicting: |          | 0/? [00:00<?, ?it/s]"
      ]
     },
     "metadata": {},
     "output_type": "display_data"
    }
   ],
   "source": [
    "with torch.inference_mode():\n",
    "    trainer = pl.Trainer(\n",
    "        logger=None,\n",
    "        enable_progress_bar=True,\n",
    "        accelerator=\"cpu\",\n",
    "        devices=1\n",
    "    )\n",
    "    test_preds = trainer.predict(mpnn, data_loader_test)"
   ]
  },
  {
   "cell_type": "code",
   "execution_count": null,
   "metadata": {},
   "outputs": [],
   "source": [
    "test_preds = np.concatenate(test_preds, axis=0).reshape(-1, n_classes)\n",
    "y_pred = np.argmax(test_preds, axis=1).reshape(-1,)\n",
    "y_true = dataset_test.Y.reshape(-1,)"
   ]
  },
  {
   "cell_type": "code",
   "execution_count": 18,
   "metadata": {},
   "outputs": [
    {
     "name": "stdout",
     "output_type": "stream",
     "text": [
      "{'f1': 0.6851028424140526, 'precision': 0.6763747507593376, 'recall': 0.7130462987664987, 'accuracy': 0.9470124013528749}\n"
     ]
    },
    {
     "name": "stderr",
     "output_type": "stream",
     "text": [
      "/home/spn1560/.conda/envs/hiec/lib/python3.11/site-packages/sklearn/metrics/_classification.py:1469: UndefinedMetricWarning: Precision is ill-defined and being set to 0.0 in labels with no predicted samples. Use `zero_division` parameter to control this behavior.\n",
      "  _warn_prf(average, modifier, msg_start, len(result))\n",
      "/home/spn1560/.conda/envs/hiec/lib/python3.11/site-packages/sklearn/metrics/_classification.py:1469: UndefinedMetricWarning: Recall is ill-defined and being set to 0.0 in labels with no true samples. Use `zero_division` parameter to control this behavior.\n",
      "  _warn_prf(average, modifier, msg_start, len(result))\n"
     ]
    }
   ],
   "source": [
    "\n",
    "scorers = {\n",
    "    'f1': lambda y_true, y_pred: f1_score(y_true, y_pred, average='macro'),\n",
    "    'precision': lambda y_true, y_pred: precision_score(y_true, y_pred, average='macro'),\n",
    "    'recall': lambda y_true, y_pred: recall_score(y_true, y_pred, average='macro'),\n",
    "    'accuracy': accuracy_score\n",
    "}\n",
    "\n",
    "scores = {}\n",
    "\n",
    "for k, scorer in scorers.items():\n",
    "    scores[k] = scorer(y_true, y_pred)\n",
    "\n",
    "print(scores)"
   ]
  }
 ],
 "metadata": {
  "kernelspec": {
   "display_name": "hiec",
   "language": "python",
   "name": "python3"
  },
  "language_info": {
   "codemirror_mode": {
    "name": "ipython",
    "version": 3
   },
   "file_extension": ".py",
   "mimetype": "text/x-python",
   "name": "python",
   "nbconvert_exporter": "python",
   "pygments_lexer": "ipython3",
   "version": "3.11.0"
  }
 },
 "nbformat": 4,
 "nbformat_minor": 2
}
