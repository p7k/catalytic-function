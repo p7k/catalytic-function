{
 "cells": [
  {
   "cell_type": "markdown",
   "metadata": {},
   "source": [
    "Construct Entry | EC number | Sequence csv for erxprot as for CLEAN's datasets"
   ]
  },
  {
   "cell_type": "code",
   "execution_count": 11,
   "metadata": {},
   "outputs": [],
   "source": [
    "from src.utils import load_json\n",
    "from collections import defaultdict\n",
    "import pandas as pd\n",
    "import subprocess\n",
    "import os\n",
    "import torch"
   ]
  },
  {
   "cell_type": "code",
   "execution_count": 45,
   "metadata": {},
   "outputs": [
    {
     "name": "stdout",
     "output_type": "stream",
     "text": [
      "104200 104200\n"
     ]
    }
   ],
   "source": [
    "# Create csv index in format of other datasets\n",
    "\n",
    "f = load_json('../data/erxprot/sequences/sequences.json')\n",
    "id2ec = defaultdict(list)\n",
    "id2seq = {}\n",
    "for ec, v in f.items():\n",
    "    for elt in v:\n",
    "        id = list(elt.keys())[0]\n",
    "        seq = elt[id]\n",
    "        id2ec[id].append(ec)\n",
    "        id2seq[id] = seq\n",
    "\n",
    "print(len(id2ec), len(id2seq))\n",
    "\n",
    "data = []\n",
    "for k in id2ec.keys():\n",
    "    data.append([k, ';'.join(id2ec[k]), id2seq[k]])\n",
    "\n",
    "header = ['Entry', 'EC number', 'Sequence']\n",
    "df = pd.DataFrame(data, columns=header)\n",
    "df.to_csv('../data/erxprot/erxprot.csv', index=False, sep='\\t')"
   ]
  },
  {
   "cell_type": "code",
   "execution_count": 15,
   "metadata": {},
   "outputs": [],
   "source": [
    "# # Re-name erxprot pt files ONLY RUN ONCE\n",
    "\n",
    "# for dir in ['../data/erxprot/clean/', '../data/erxprot/esm/']:\n",
    "#     for fn in os.listdir(dir):\n",
    "#         id = fn.split('|')[0].strip()\n",
    "#         cmd = [\"mv\", dir + fn, dir + id + '.pt']\n",
    "#         subprocess.run(cmd)"
   ]
  },
  {
   "cell_type": "code",
   "execution_count": 7,
   "metadata": {},
   "outputs": [
    {
     "name": "stdout",
     "output_type": "stream",
     "text": [
      "0.14423657628370382\n"
     ]
    }
   ],
   "source": [
    "# Overlap in enzymes\n",
    "\n",
    "erx_csv = pd.read_csv('../data/erxprot/erxprot.csv', delimiter='\\t')\n",
    "erx_csv.set_index('Entry', inplace=True)\n",
    "\n",
    "swissprot = pd.read_csv('../data/swissprot/swissprot.csv', delimiter='\\t')\n",
    "swissprot.set_index('Entry', inplace=True)\n",
    "\n",
    "print(len(set(erx_csv.index) & set(swissprot.index)) / len(set(erx_csv.index) | set(swissprot.index)))\n",
    "idx_intersect = list(set(erx_csv.index) & set(swissprot.index))"
   ]
  },
  {
   "cell_type": "code",
   "execution_count": 3,
   "metadata": {},
   "outputs": [
    {
     "name": "stdout",
     "output_type": "stream",
     "text": [
      "0.8378031154649108\n"
     ]
    }
   ],
   "source": [
    "# Overlap in EC numbers\n",
    "\n",
    "erx_csv = pd.read_csv('../data/erxprot/erxprot.csv', delimiter='\\t')\n",
    "erx_csv.set_index('Entry', inplace=True)\n",
    "\n",
    "swissprot = pd.read_csv('../data/swissprot/swissprot.csv', delimiter='\\t')\n",
    "swissprot.set_index('Entry', inplace=True)\n",
    "\n",
    "erx_ec = []\n",
    "for elt in erx_csv.loc[:, 'EC number']:\n",
    "    for sub in elt.split(';'):\n",
    "        erx_ec.append(sub)\n",
    "\n",
    "swiss_ec = []\n",
    "for elt in swissprot.loc[:, 'EC number']:\n",
    "    for sub in elt.split(';'):\n",
    "        swiss_ec.append(sub)\n",
    "\n",
    "print(len(set(erx_ec) & set(swiss_ec)) / len(set(erx_ec) | set(swiss_ec)))\n",
    "idx_intersect = list(set(erx_ec) & set(swiss_ec))"
   ]
  },
  {
   "cell_type": "code",
   "execution_count": 12,
   "metadata": {},
   "outputs": [
    {
     "name": "stdout",
     "output_type": "stream",
     "text": [
      "0.8055647020085611\n",
      "0.8140076526368325\n"
     ]
    }
   ],
   "source": [
    "# Overlap in EC numbers\n",
    "\n",
    "first = 'swissprot'\n",
    "second = 'erxprot'\n",
    "\n",
    "first_df = pd.read_csv(f\"../data/{first}/{first}.csv\", delimiter='\\t')\n",
    "first_df.set_index('Entry', inplace=True)\n",
    "\n",
    "second_df = pd.read_csv(f\"../data/{second}/{second}.csv\", delimiter='\\t')\n",
    "second_df.set_index('Entry', inplace=True)\n",
    "\n",
    "first_ec = []\n",
    "for elt in first_df.loc[:, 'EC number']:\n",
    "    first_ec.append(elt.split(';')[0])\n",
    "\n",
    "second_ec = []\n",
    "for elt in second_df.loc[:, 'EC number']:\n",
    "    second_ec.append(elt.split(';')[0])\n",
    "\n",
    "print(len(set(first_ec) & set(second_ec)) / len(set(first_ec) | set(second_ec)))\n",
    "print(len(set(first_ec) & set(second_ec)) / len(set(second_ec)))\n",
    "ec_intersect = list(set(first_ec) & set(second_ec))"
   ]
  },
  {
   "cell_type": "code",
   "execution_count": 8,
   "metadata": {},
   "outputs": [],
   "source": [
    "# Get consistent / discrepant ecs, update erxport\n",
    "# w/ swissprot ec + extras\n",
    "cons = []\n",
    "discrep = []\n",
    "\n",
    "for idx in idx_intersect:\n",
    "    swiss = swissprot.loc[idx, 'EC number']\n",
    "    erx = erx_csv.loc[idx, 'EC number']\n",
    "    if sorted(swiss.split(';')) == sorted(erx.split(';')):\n",
    "        updated = swiss.split(';')\n",
    "        erx_csv.loc[idx, 'EC number'] = ';'.join(updated)\n",
    "        cons.append(idx)\n",
    "    else:\n",
    "        discrep.append(idx)\n",
    "        erx_extra = list(set(erx.split(';')) - set(swiss.split(';')))\n",
    "        updated = swiss.split(';') + erx_extra\n",
    "        erx_csv.loc[idx, 'EC number'] = ';'.join(updated)\n",
    "\n",
    "\n",
    "erx_csv.to_csv('../data/erxprot/erxprot.csv', sep='\\t')"
   ]
  },
  {
   "cell_type": "code",
   "execution_count": 9,
   "metadata": {},
   "outputs": [
    {
     "data": {
      "text/plain": [
       "(41314, 481, 0.9884914463452567, 0.011508553654743391)"
      ]
     },
     "execution_count": 9,
     "metadata": {},
     "output_type": "execute_result"
    }
   ],
   "source": [
    "len(cons), len(discrep), len(cons) / len(idx_intersect), len(discrep) / len(idx_intersect)"
   ]
  },
  {
   "cell_type": "code",
   "execution_count": 5,
   "metadata": {},
   "outputs": [
    {
     "data": {
      "text/html": [
       "<div>\n",
       "<style scoped>\n",
       "    .dataframe tbody tr th:only-of-type {\n",
       "        vertical-align: middle;\n",
       "    }\n",
       "\n",
       "    .dataframe tbody tr th {\n",
       "        vertical-align: top;\n",
       "    }\n",
       "\n",
       "    .dataframe thead th {\n",
       "        text-align: right;\n",
       "    }\n",
       "</style>\n",
       "<table border=\"1\" class=\"dataframe\">\n",
       "  <thead>\n",
       "    <tr style=\"text-align: right;\">\n",
       "      <th></th>\n",
       "      <th>EC number</th>\n",
       "      <th>Sequence</th>\n",
       "    </tr>\n",
       "    <tr>\n",
       "      <th>Entry</th>\n",
       "      <th></th>\n",
       "      <th></th>\n",
       "    </tr>\n",
       "  </thead>\n",
       "  <tbody>\n",
       "    <tr>\n",
       "      <th>P11766</th>\n",
       "      <td>1.1.1.1;1.1.1.284</td>\n",
       "      <td>MANEVIKCKAAVAWEAGKPLSIEEIEVAPPKAHEVRIKIIATAVCH...</td>\n",
       "    </tr>\n",
       "    <tr>\n",
       "      <th>P07327</th>\n",
       "      <td>1.1.1.1</td>\n",
       "      <td>MSTAGKVIKCKAAVLWELKKPFSIEEVEVAPPKAHEVRIKMVAVGI...</td>\n",
       "    </tr>\n",
       "    <tr>\n",
       "      <th>P28332</th>\n",
       "      <td>1.1.1.1</td>\n",
       "      <td>MSTTGQVIRCKAAILWKPGAPFSIEEVEVAPPKAKEVRIKVVATGL...</td>\n",
       "    </tr>\n",
       "    <tr>\n",
       "      <th>P00326</th>\n",
       "      <td>1.1.1.1</td>\n",
       "      <td>MSTAGKVIKCKAAVLWELKKPFSIEEVEVAPPKAHEVRIKMVAAGI...</td>\n",
       "    </tr>\n",
       "    <tr>\n",
       "      <th>P40394</th>\n",
       "      <td>1.1.1.105;1.1.1.1;1.1.1.66</td>\n",
       "      <td>MFAEIQIQDKDRMGTAGKVIKCKAAVLWEQKQPFSIEEIEVAPPKT...</td>\n",
       "    </tr>\n",
       "  </tbody>\n",
       "</table>\n",
       "</div>"
      ],
      "text/plain": [
       "                         EC number  \\\n",
       "Entry                                \n",
       "P11766           1.1.1.1;1.1.1.284   \n",
       "P07327                     1.1.1.1   \n",
       "P28332                     1.1.1.1   \n",
       "P00326                     1.1.1.1   \n",
       "P40394  1.1.1.105;1.1.1.1;1.1.1.66   \n",
       "\n",
       "                                                 Sequence  \n",
       "Entry                                                      \n",
       "P11766  MANEVIKCKAAVAWEAGKPLSIEEIEVAPPKAHEVRIKIIATAVCH...  \n",
       "P07327  MSTAGKVIKCKAAVLWELKKPFSIEEVEVAPPKAHEVRIKMVAVGI...  \n",
       "P28332  MSTTGQVIRCKAAILWKPGAPFSIEEVEVAPPKAKEVRIKVVATGL...  \n",
       "P00326  MSTAGKVIKCKAAVLWELKKPFSIEEVEVAPPKAHEVRIKMVAAGI...  \n",
       "P40394  MFAEIQIQDKDRMGTAGKVIKCKAAVLWEQKQPFSIEEIEVAPPKT...  "
      ]
     },
     "execution_count": 5,
     "metadata": {},
     "output_type": "execute_result"
    }
   ],
   "source": [
    "erx_csv.head()"
   ]
  },
  {
   "cell_type": "code",
   "execution_count": 6,
   "metadata": {},
   "outputs": [
    {
     "data": {
      "text/html": [
       "<div>\n",
       "<style scoped>\n",
       "    .dataframe tbody tr th:only-of-type {\n",
       "        vertical-align: middle;\n",
       "    }\n",
       "\n",
       "    .dataframe tbody tr th {\n",
       "        vertical-align: top;\n",
       "    }\n",
       "\n",
       "    .dataframe thead th {\n",
       "        text-align: right;\n",
       "    }\n",
       "</style>\n",
       "<table border=\"1\" class=\"dataframe\">\n",
       "  <thead>\n",
       "    <tr style=\"text-align: right;\">\n",
       "      <th></th>\n",
       "      <th>EC number</th>\n",
       "      <th>Sequence</th>\n",
       "    </tr>\n",
       "    <tr>\n",
       "      <th>Entry</th>\n",
       "      <th></th>\n",
       "      <th></th>\n",
       "    </tr>\n",
       "  </thead>\n",
       "  <tbody>\n",
       "    <tr>\n",
       "      <th>P51451</th>\n",
       "      <td>2.7.10.2</td>\n",
       "      <td>MGLVSSKKPDKEKPIKEKDKGQWSPLKVSAQDKDAPPLPPLVVFNH...</td>\n",
       "    </tr>\n",
       "    <tr>\n",
       "      <th>C7C422</th>\n",
       "      <td>3.5.2.6</td>\n",
       "      <td>MELPNIMHPVAKLSTALAAALMLSGCMPGEIRPTIGQQMETGDQRF...</td>\n",
       "    </tr>\n",
       "    <tr>\n",
       "      <th>Q07457</th>\n",
       "      <td>2.3.2.27</td>\n",
       "      <td>MTAEPATKKIKLELSDPSEPLTQSDVIAFQKEALFRCINRRRVDFE...</td>\n",
       "    </tr>\n",
       "    <tr>\n",
       "      <th>Q07009</th>\n",
       "      <td>3.4.22.53</td>\n",
       "      <td>MAGIAMKLAKDREAAEGLGSHERAIKYLNQDYETLRNECLEAGALF...</td>\n",
       "    </tr>\n",
       "    <tr>\n",
       "      <th>Q9TTH8</th>\n",
       "      <td>3.4.22.54</td>\n",
       "      <td>MPTVISASVAPRTGAEPRSPGPIAQAAQGKGTEAGGGNPSGIYSAI...</td>\n",
       "    </tr>\n",
       "  </tbody>\n",
       "</table>\n",
       "</div>"
      ],
      "text/plain": [
       "        EC number                                           Sequence\n",
       "Entry                                                               \n",
       "P51451   2.7.10.2  MGLVSSKKPDKEKPIKEKDKGQWSPLKVSAQDKDAPPLPPLVVFNH...\n",
       "C7C422    3.5.2.6  MELPNIMHPVAKLSTALAAALMLSGCMPGEIRPTIGQQMETGDQRF...\n",
       "Q07457   2.3.2.27  MTAEPATKKIKLELSDPSEPLTQSDVIAFQKEALFRCINRRRVDFE...\n",
       "Q07009  3.4.22.53  MAGIAMKLAKDREAAEGLGSHERAIKYLNQDYETLRNECLEAGALF...\n",
       "Q9TTH8  3.4.22.54  MPTVISASVAPRTGAEPRSPGPIAQAAQGKGTEAGGGNPSGIYSAI..."
      ]
     },
     "execution_count": 6,
     "metadata": {},
     "output_type": "execute_result"
    }
   ],
   "source": [
    "swissprot.head()"
   ]
  },
  {
   "cell_type": "code",
   "execution_count": 14,
   "metadata": {},
   "outputs": [
    {
     "data": {
      "text/plain": [
       "{'label': 'A0A2D1BLU4 | 1.14.14.51',\n",
       " 'mean_representations': {32: tensor([ 1.8712, -5.3498, -1.0984,  ...,  2.1770, -2.3396, -4.5177])}}"
      ]
     },
     "execution_count": 14,
     "metadata": {},
     "output_type": "execute_result"
    }
   ],
   "source": [
    "# Check that current erxprot csv has same sequence as associate with erx's original files\n",
    "erx_csv = pd.read_csv('../data/erxprot/erxprot.csv', delimiter='\\t')\n",
    "erx_csv.set_index('Entry', inplace=True)\n",
    "ddir = '/home/stef/Downloads/proteins/'\n",
    "\n",
    "ls = list(os.listdir(ddir))\n",
    "# erx_original = {elt.split('|')[0].strip() : elt.split()}\n",
    "\n",
    "for fn in os.listdir(ddir):\n",
    "    foo = torch.load(ddir + fn)\n",
    "    break\n",
    "foo\n"
   ]
  },
  {
   "cell_type": "code",
   "execution_count": null,
   "metadata": {},
   "outputs": [],
   "source": []
  }
 ],
 "metadata": {
  "kernelspec": {
   "display_name": "hiec",
   "language": "python",
   "name": "python3"
  },
  "language_info": {
   "codemirror_mode": {
    "name": "ipython",
    "version": 3
   },
   "file_extension": ".py",
   "mimetype": "text/x-python",
   "name": "python",
   "nbconvert_exporter": "python",
   "pygments_lexer": "ipython3",
   "version": "3.11.5"
  }
 },
 "nbformat": 4,
 "nbformat_minor": 2
}
