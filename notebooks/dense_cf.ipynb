{
 "cells": [
  {
   "cell_type": "code",
   "execution_count": 1,
   "metadata": {},
   "outputs": [],
   "source": [
    "import pandas as pd\n",
    "import numpy as np\n",
    "import os\n",
    "from sklearn.metrics import accuracy_score, roc_auc_score\n",
    "import scipy as sp\n",
    "from sys import getsizeof\n",
    "import time\n",
    "from src.utils import load_embed\n",
    "import torch"
   ]
  },
  {
   "cell_type": "code",
   "execution_count": 2,
   "metadata": {},
   "outputs": [],
   "source": [
    "# Load table of contents\n",
    "\n",
    "dataset = 'new'\n",
    "embed_type = 'esm'\n",
    "\n",
    "\n",
    "rng = np.random.default_rng(seed=1234)\n",
    "data_path = f\"../data/{dataset}/\"\n",
    "\n",
    "# Read data table of contents csv\n",
    "df = pd.read_csv(data_path + f\"{dataset}.csv\", delimiter='\\t')\n",
    "df.set_index('Entry', inplace=True)\n",
    "entry_idxs = list(df.index)\n",
    "ec_idxs = set()\n",
    "for elt in df.loc[:, \"EC number\"]:\n",
    "    for ec in elt.split(';'):\n",
    "        ec_idxs.add(ec)\n",
    "ec_idxs = list(ec_idxs)\n",
    "\n",
    "n_samples = len(entry_idxs)\n",
    "n_features = len(ec_idxs)"
   ]
  },
  {
   "cell_type": "code",
   "execution_count": 10,
   "metadata": {},
   "outputs": [],
   "source": [
    "# Load all embeds into a numpy array\n",
    "embeds = []\n",
    "for elt in entry_idxs:\n",
    "    embeds.append(load_embed(data_path + f\"{embed_type}/{elt}.pt\", embed_key=33)[1])\n",
    "\n",
    "embeds = np.vstack(embeds)\n",
    "embeds /= np.sqrt(np.square(embeds).sum(axis=1)).reshape(-1,1)"
   ]
  },
  {
   "cell_type": "code",
   "execution_count": 11,
   "metadata": {},
   "outputs": [],
   "source": [
    "# In batches of ~1500 embeddings, matmul embeds, save resulting sim matrix blocks\n",
    "\n",
    "batch_size = 20\n",
    "fn_pref = f\"protein_x_protein_{embed_type}_similarity_batch\"\n",
    "save_to = data_path + 'sim_mats/' + fn_pref\n",
    "\n",
    "\n",
    "n_batches = embeds.shape[0] // batch_size + 1\n",
    "for i in range(n_batches):\n",
    "    similarity_batch = embeds[i * batch_size : (i + 1) * batch_size] @ embeds.T\n",
    "    np.save(save_to + f\"_{i}.npy\", similarity_batch)"
   ]
  },
  {
   "cell_type": "code",
   "execution_count": 3,
   "metadata": {},
   "outputs": [
    {
     "name": "stdout",
     "output_type": "stream",
     "text": [
      "Get ones to mask\n",
      "Get zeros to mask\n",
      "n0:1\r"
     ]
    }
   ],
   "source": [
    "# Load protein x function matrix into csr\n",
    "y_fn = \"protein_x_catalytic_function.npz\"\n",
    "rng = np.random.default_rng(seed=825)\n",
    "path = f\"../data/{dataset}/\"\n",
    "y = sp.sparse.load_npz(path + y_fn)\n",
    "row, col = y.nonzero()\n",
    "\n",
    "\n",
    "# Mask out\n",
    "percent_to_mask = 0.01\n",
    "n_mask = int((len(row) * percent_to_mask) / 2) # 50-50 split of 1s and 0s of 1% of elements\n",
    "\n",
    "# Sample ones\n",
    "print(\"Get ones to mask\")\n",
    "rnd_idxs = rng.integers(0, len(row), size=(n_mask,))\n",
    "mask_row, mask_col, y_true = zip(*[(row[idx], col[idx], 1) for idx in rnd_idxs])\n",
    "mask_row, mask_col, y_true = list(mask_row), list(mask_col), list(y_true)\n",
    "\n",
    "# Mask ones\n",
    "for elt in range(len(mask_row)):\n",
    "    i, j = mask_row[elt], mask_col[elt]\n",
    "    y[i, j] = 0\n",
    "\n",
    "y.eliminate_zeros()\n",
    "\n",
    "# Sample zeros\n",
    "print(\"Get zeros to mask\")\n",
    "n0 = 0\n",
    "sampled_ones_idxs = list(zip(mask_row, mask_col))\n",
    "while n0 < n_mask:\n",
    "    print(f\"n0:{n0}\", end='\\r')\n",
    "    sampled_idx = (rng.integers(0, n_samples), rng.integers(0, n_features))\n",
    "\n",
    "    if sampled_idx not in sampled_ones_idxs:\n",
    "        mask_row.append(sampled_idx[0])\n",
    "        mask_col.append(sampled_idx[1])\n",
    "        y_true.append(0)\n",
    "        n0 += 1"
   ]
  },
  {
   "cell_type": "code",
   "execution_count": 16,
   "metadata": {},
   "outputs": [],
   "source": [
    "# In batches, matmul esm_sim_i against y\n",
    "k = 3\n",
    "y_hat = []\n",
    "for i in range(n_batches):\n",
    "    sim_mat = np.load(save_to + f\"_{i}.npy\")\n",
    "\n",
    "    # k-threshold\n",
    "    threshes = np.sort(sim_mat, axis=1)[:, -k].reshape(-1, 1)\n",
    "    sim_mat[sim_mat < threshes] = 0\n",
    "\n",
    "    # Normalize\n",
    "    sim_mat /= sim_mat.sum(axis=1).reshape(-1, 1)\n",
    "\n",
    "    \n",
    "    y_hat.append(sp.sparse.csr_array(sim_mat @ y))\n",
    "\n",
    "y_hat = sp.sparse.vstack(y_hat).tocsr() # Stack into full y_hat"
   ]
  },
  {
   "cell_type": "code",
   "execution_count": 17,
   "metadata": {},
   "outputs": [
    {
     "name": "stdout",
     "output_type": "stream",
     "text": [
      "Accuracy: 1.0\n",
      "ROC AUC: 1.0\n",
      "Done\n"
     ]
    }
   ],
   "source": [
    "# Predict and evaluate\n",
    "\n",
    "y_true = np.array(y_true)\n",
    "y_pred = np.array(y_hat[mask_row, mask_col]).reshape(-1,)\n",
    "\n",
    "accuracy = accuracy_score(y_true, y_pred>0)\n",
    "roc_auc = roc_auc_score(y_true, y_pred>0)\n",
    "\n",
    "print(f\"Accuracy: {accuracy}\")\n",
    "print(f\"ROC AUC: {roc_auc}\")\n",
    "\n",
    "\n",
    "print(\"Done\")"
   ]
  },
  {
   "cell_type": "code",
   "execution_count": 6,
   "metadata": {},
   "outputs": [
    {
     "data": {
      "text/plain": [
       "<392x5 sparse matrix of type '<class 'numpy.int64'>'\n",
       "\twith 15 stored elements in Compressed Sparse Row format>"
      ]
     },
     "execution_count": 6,
     "metadata": {},
     "output_type": "execute_result"
    }
   ],
   "source": [
    "y[: , :5]"
   ]
  },
  {
   "cell_type": "code",
   "execution_count": 7,
   "metadata": {},
   "outputs": [
    {
     "data": {
      "text/plain": [
       "array([3, 4])"
      ]
     },
     "execution_count": 7,
     "metadata": {},
     "output_type": "execute_result"
    }
   ],
   "source": [
    "np.array([1,2,3,4])[-2:]"
   ]
  }
 ],
 "metadata": {
  "kernelspec": {
   "display_name": "hiec",
   "language": "python",
   "name": "python3"
  },
  "language_info": {
   "codemirror_mode": {
    "name": "ipython",
    "version": 3
   },
   "file_extension": ".py",
   "mimetype": "text/x-python",
   "name": "python",
   "nbconvert_exporter": "python",
   "pygments_lexer": "ipython3",
   "version": "3.11.5"
  }
 },
 "nbformat": 4,
 "nbformat_minor": 2
}
