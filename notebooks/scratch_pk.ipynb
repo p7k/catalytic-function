{
 "cells": [
  {
   "cell_type": "code",
   "execution_count": 18,
   "id": "205b847fbea420b2",
   "metadata": {},
   "outputs": [],
   "source": [
    "import re\n",
    "from pathlib import Path\n",
    "from itertools import chain\n",
    "\n",
    "import yaml\n",
    "import pandas as pd\n",
    "import plotly.express as px\n",
    "import plotly.graph_objects as go\n",
    "from plotly.subplots import make_subplots"
   ]
  },
  {
   "cell_type": "code",
   "execution_count": 65,
   "id": "a4c07101-bf4d-41c6-b688-65d9d8dddfbb",
   "metadata": {},
   "outputs": [],
   "source": [
    "# ptn_exper = re.compile(r'(?P<hp_idx>\\d+)_hp_idx_split_(?P<split>\\d+)_of_\\d+/version_(?P<version>\\d+)')\n",
    "ptn_exper = re.compile(r'(?P<hp_idx>\\d+)_hp_idx_split_(?P<split>\\d+)_of_\\d+/version_')"
   ]
  },
  {
   "cell_type": "code",
   "execution_count": 66,
   "id": "376a3220-eb43-4c8d-92e2-caeb0375af86",
   "metadata": {},
   "outputs": [],
   "source": [
    "dir_proj = Path('/projects/b1039/trw7841')\n",
    "dir_evals = dir_proj / 'hiec/artifacts/model_evals/gnn'\n",
    "dir_logs = Path('/home/trw7841/src/catalytic-function/logs/')\n",
    "\n",
    "fp_experiments = dir_evals / 'experiments.csv'"
   ]
  },
  {
   "cell_type": "code",
   "execution_count": 67,
   "id": "963917c8-5d1d-4900-8b9b-3e7f97f13336",
   "metadata": {},
   "outputs": [
    {
     "data": {
      "text/html": [
       "<div>\n",
       "<style scoped>\n",
       "    .dataframe tbody tr th:only-of-type {\n",
       "        vertical-align: middle;\n",
       "    }\n",
       "\n",
       "    .dataframe tbody tr th {\n",
       "        vertical-align: top;\n",
       "    }\n",
       "\n",
       "    .dataframe thead th {\n",
       "        text-align: right;\n",
       "    }\n",
       "</style>\n",
       "<table border=\"1\" class=\"dataframe\">\n",
       "  <thead>\n",
       "    <tr style=\"text-align: right;\">\n",
       "      <th></th>\n",
       "      <th>n_epochs</th>\n",
       "      <th>pred_head</th>\n",
       "      <th>message_passing</th>\n",
       "      <th>agg</th>\n",
       "      <th>d_h_encoder</th>\n",
       "      <th>model</th>\n",
       "      <th>featurizer</th>\n",
       "      <th>encoder_depth</th>\n",
       "      <th>toc</th>\n",
       "      <th>n_splits</th>\n",
       "      <th>split_strategy</th>\n",
       "      <th>neg_multiple</th>\n",
       "      <th>embed_type</th>\n",
       "      <th>seed</th>\n",
       "      <th>dataset_name</th>\n",
       "      <th>split_sim_threshold</th>\n",
       "      <th>embed_dim</th>\n",
       "    </tr>\n",
       "    <tr>\n",
       "      <th>hp_idx</th>\n",
       "      <th></th>\n",
       "      <th></th>\n",
       "      <th></th>\n",
       "      <th></th>\n",
       "      <th></th>\n",
       "      <th></th>\n",
       "      <th></th>\n",
       "      <th></th>\n",
       "      <th></th>\n",
       "      <th></th>\n",
       "      <th></th>\n",
       "      <th></th>\n",
       "      <th></th>\n",
       "      <th></th>\n",
       "      <th></th>\n",
       "      <th></th>\n",
       "      <th></th>\n",
       "    </tr>\n",
       "  </thead>\n",
       "  <tbody>\n",
       "    <tr>\n",
       "      <th>281</th>\n",
       "      <td>5</td>\n",
       "      <td>dot_sig</td>\n",
       "      <td>bondwise</td>\n",
       "      <td>last</td>\n",
       "      <td>300</td>\n",
       "      <td>mpnn_dim_red</td>\n",
       "      <td>rxn_rc</td>\n",
       "      <td>NaN</td>\n",
       "      <td>v3_folded_pt_ns</td>\n",
       "      <td>5</td>\n",
       "      <td>homology</td>\n",
       "      <td>1</td>\n",
       "      <td>esm</td>\n",
       "      <td>1234</td>\n",
       "      <td>sprhea</td>\n",
       "      <td>0.8</td>\n",
       "      <td>1280</td>\n",
       "    </tr>\n",
       "    <tr>\n",
       "      <th>282</th>\n",
       "      <td>5</td>\n",
       "      <td>binary</td>\n",
       "      <td>bondwise</td>\n",
       "      <td>last</td>\n",
       "      <td>50</td>\n",
       "      <td>mpnn_dim_red</td>\n",
       "      <td>rxn_rc</td>\n",
       "      <td>NaN</td>\n",
       "      <td>v3_folded_pt_ns</td>\n",
       "      <td>5</td>\n",
       "      <td>homology</td>\n",
       "      <td>1</td>\n",
       "      <td>esm</td>\n",
       "      <td>1234</td>\n",
       "      <td>sprhea</td>\n",
       "      <td>0.8</td>\n",
       "      <td>1280</td>\n",
       "    </tr>\n",
       "    <tr>\n",
       "      <th>283</th>\n",
       "      <td>5</td>\n",
       "      <td>binary</td>\n",
       "      <td>bondwise</td>\n",
       "      <td>last</td>\n",
       "      <td>300</td>\n",
       "      <td>mpnn_dim_red</td>\n",
       "      <td>rxn_rc</td>\n",
       "      <td>NaN</td>\n",
       "      <td>v3_folded_pt_ns</td>\n",
       "      <td>5</td>\n",
       "      <td>homology</td>\n",
       "      <td>1</td>\n",
       "      <td>esm</td>\n",
       "      <td>1234</td>\n",
       "      <td>sprhea</td>\n",
       "      <td>0.8</td>\n",
       "      <td>1280</td>\n",
       "    </tr>\n",
       "    <tr>\n",
       "      <th>284</th>\n",
       "      <td>2</td>\n",
       "      <td>dot_sig</td>\n",
       "      <td>bondwise</td>\n",
       "      <td>last</td>\n",
       "      <td>50</td>\n",
       "      <td>mpnn_dim_red</td>\n",
       "      <td>rxn_rc</td>\n",
       "      <td>3.0</td>\n",
       "      <td>v3_folded_pt_ns</td>\n",
       "      <td>5</td>\n",
       "      <td>homology</td>\n",
       "      <td>1</td>\n",
       "      <td>esm</td>\n",
       "      <td>1234</td>\n",
       "      <td>sprhea</td>\n",
       "      <td>0.8</td>\n",
       "      <td>1280</td>\n",
       "    </tr>\n",
       "    <tr>\n",
       "      <th>285</th>\n",
       "      <td>2</td>\n",
       "      <td>binary</td>\n",
       "      <td>bondwise</td>\n",
       "      <td>last</td>\n",
       "      <td>50</td>\n",
       "      <td>mpnn_dim_red</td>\n",
       "      <td>rxn_rc</td>\n",
       "      <td>3.0</td>\n",
       "      <td>v3_folded_pt_ns</td>\n",
       "      <td>5</td>\n",
       "      <td>homology</td>\n",
       "      <td>1</td>\n",
       "      <td>esm</td>\n",
       "      <td>1234</td>\n",
       "      <td>sprhea</td>\n",
       "      <td>0.8</td>\n",
       "      <td>1280</td>\n",
       "    </tr>\n",
       "  </tbody>\n",
       "</table>\n",
       "</div>"
      ],
      "text/plain": [
       "        n_epochs pred_head message_passing   agg  d_h_encoder         model  \\\n",
       "hp_idx                                                                        \n",
       "281            5   dot_sig        bondwise  last          300  mpnn_dim_red   \n",
       "282            5    binary        bondwise  last           50  mpnn_dim_red   \n",
       "283            5    binary        bondwise  last          300  mpnn_dim_red   \n",
       "284            2   dot_sig        bondwise  last           50  mpnn_dim_red   \n",
       "285            2    binary        bondwise  last           50  mpnn_dim_red   \n",
       "\n",
       "       featurizer  encoder_depth              toc  n_splits split_strategy  \\\n",
       "hp_idx                                                                       \n",
       "281        rxn_rc            NaN  v3_folded_pt_ns         5       homology   \n",
       "282        rxn_rc            NaN  v3_folded_pt_ns         5       homology   \n",
       "283        rxn_rc            NaN  v3_folded_pt_ns         5       homology   \n",
       "284        rxn_rc            3.0  v3_folded_pt_ns         5       homology   \n",
       "285        rxn_rc            3.0  v3_folded_pt_ns         5       homology   \n",
       "\n",
       "        neg_multiple embed_type  seed dataset_name  split_sim_threshold  \\\n",
       "hp_idx                                                                    \n",
       "281                1        esm  1234       sprhea                  0.8   \n",
       "282                1        esm  1234       sprhea                  0.8   \n",
       "283                1        esm  1234       sprhea                  0.8   \n",
       "284                1        esm  1234       sprhea                  0.8   \n",
       "285                1        esm  1234       sprhea                  0.8   \n",
       "\n",
       "        embed_dim  \n",
       "hp_idx             \n",
       "281          1280  \n",
       "282          1280  \n",
       "283          1280  \n",
       "284          1280  \n",
       "285          1280  "
      ]
     },
     "execution_count": 67,
     "metadata": {},
     "output_type": "execute_result"
    }
   ],
   "source": [
    "df_experiments = pd.read_table(fp_experiments, index_col=0).rename_axis('hp_idx')\n",
    "df_experiments.tail()"
   ]
  },
  {
   "cell_type": "code",
   "execution_count": 68,
   "id": "5dd5e968-b9fb-4cff-824a-d536da6e5a3b",
   "metadata": {},
   "outputs": [],
   "source": [
    "fps_test_scores = list(chain.from_iterable(\n",
    "    dir_evals.glob(f'{hp_idx}_hp_idx*/**/test_scores.json') for hp_idx in [284,285]))\n",
    "fps_metrics = list(dir_evals.glob('284_hp_idx*/**/metrics.csv'))\n",
    "fps_hparams = list(dir_evals.glob('284_hp_idx*/**/hparams.yaml'))"
   ]
  },
  {
   "cell_type": "code",
   "execution_count": 71,
   "id": "c4663a4b-7083-4c17-b626-37c570d36b64",
   "metadata": {},
   "outputs": [],
   "source": [
    "def load_metrics(hp_idxs: list[int], *, dir_evals: Path = dir_evals) -> pd.DataFrame:\n",
    "    fps_test_scores = chain.from_iterable(\n",
    "        dir_evals.glob(f'{idx}_hp_idx*/**/test_scores.json') for idx in hp_idxs\n",
    "    )\n",
    "    dfs = (\n",
    "        pd.read_json(fp, lines=True).assign(\n",
    "            **{k: int(v) for k, v in ptn_exper.search(fp.as_posix()).groupdict().items()}\n",
    "        )\n",
    "        for fp in fps_test_scores\n",
    "    )\n",
    "    return pd.concat(dfs).set_index(['hp_idx', 'split'])"
   ]
  },
  {
   "cell_type": "code",
   "execution_count": 75,
   "id": "01119b09-411f-4d04-ba76-9990a88ea476",
   "metadata": {},
   "outputs": [
    {
     "data": {
      "text/html": [
       "<div>\n",
       "<style scoped>\n",
       "    .dataframe tbody tr th:only-of-type {\n",
       "        vertical-align: middle;\n",
       "    }\n",
       "\n",
       "    .dataframe tbody tr th {\n",
       "        vertical-align: top;\n",
       "    }\n",
       "\n",
       "    .dataframe thead th {\n",
       "        text-align: right;\n",
       "    }\n",
       "</style>\n",
       "<table border=\"1\" class=\"dataframe\">\n",
       "  <thead>\n",
       "    <tr style=\"text-align: right;\">\n",
       "      <th></th>\n",
       "      <th></th>\n",
       "      <th>f1</th>\n",
       "      <th>precision</th>\n",
       "      <th>recall</th>\n",
       "      <th>accuracy</th>\n",
       "      <th>n_epochs</th>\n",
       "      <th>pred_head</th>\n",
       "      <th>message_passing</th>\n",
       "      <th>agg</th>\n",
       "      <th>d_h_encoder</th>\n",
       "      <th>model</th>\n",
       "      <th>...</th>\n",
       "      <th>encoder_depth</th>\n",
       "      <th>toc</th>\n",
       "      <th>n_splits</th>\n",
       "      <th>split_strategy</th>\n",
       "      <th>neg_multiple</th>\n",
       "      <th>embed_type</th>\n",
       "      <th>seed</th>\n",
       "      <th>dataset_name</th>\n",
       "      <th>split_sim_threshold</th>\n",
       "      <th>embed_dim</th>\n",
       "    </tr>\n",
       "    <tr>\n",
       "      <th>hp_idx</th>\n",
       "      <th>split</th>\n",
       "      <th></th>\n",
       "      <th></th>\n",
       "      <th></th>\n",
       "      <th></th>\n",
       "      <th></th>\n",
       "      <th></th>\n",
       "      <th></th>\n",
       "      <th></th>\n",
       "      <th></th>\n",
       "      <th></th>\n",
       "      <th></th>\n",
       "      <th></th>\n",
       "      <th></th>\n",
       "      <th></th>\n",
       "      <th></th>\n",
       "      <th></th>\n",
       "      <th></th>\n",
       "      <th></th>\n",
       "      <th></th>\n",
       "      <th></th>\n",
       "      <th></th>\n",
       "    </tr>\n",
       "  </thead>\n",
       "  <tbody>\n",
       "    <tr>\n",
       "      <th rowspan=\"5\" valign=\"top\">284</th>\n",
       "      <th>3</th>\n",
       "      <td>0.871951</td>\n",
       "      <td>0.872682</td>\n",
       "      <td>0.871221</td>\n",
       "      <td>0.873409</td>\n",
       "      <td>2</td>\n",
       "      <td>dot_sig</td>\n",
       "      <td>bondwise</td>\n",
       "      <td>last</td>\n",
       "      <td>50</td>\n",
       "      <td>mpnn_dim_red</td>\n",
       "      <td>...</td>\n",
       "      <td>3.0</td>\n",
       "      <td>v3_folded_pt_ns</td>\n",
       "      <td>5</td>\n",
       "      <td>homology</td>\n",
       "      <td>1</td>\n",
       "      <td>esm</td>\n",
       "      <td>1234</td>\n",
       "      <td>sprhea</td>\n",
       "      <td>0.8</td>\n",
       "      <td>1280</td>\n",
       "    </tr>\n",
       "    <tr>\n",
       "      <th>5</th>\n",
       "      <td>0.757679</td>\n",
       "      <td>0.861830</td>\n",
       "      <td>0.675987</td>\n",
       "      <td>0.796578</td>\n",
       "      <td>2</td>\n",
       "      <td>dot_sig</td>\n",
       "      <td>bondwise</td>\n",
       "      <td>last</td>\n",
       "      <td>50</td>\n",
       "      <td>mpnn_dim_red</td>\n",
       "      <td>...</td>\n",
       "      <td>3.0</td>\n",
       "      <td>v3_folded_pt_ns</td>\n",
       "      <td>5</td>\n",
       "      <td>homology</td>\n",
       "      <td>1</td>\n",
       "      <td>esm</td>\n",
       "      <td>1234</td>\n",
       "      <td>sprhea</td>\n",
       "      <td>0.8</td>\n",
       "      <td>1280</td>\n",
       "    </tr>\n",
       "    <tr>\n",
       "      <th>4</th>\n",
       "      <td>0.878152</td>\n",
       "      <td>0.868329</td>\n",
       "      <td>0.888199</td>\n",
       "      <td>0.873834</td>\n",
       "      <td>2</td>\n",
       "      <td>dot_sig</td>\n",
       "      <td>bondwise</td>\n",
       "      <td>last</td>\n",
       "      <td>50</td>\n",
       "      <td>mpnn_dim_red</td>\n",
       "      <td>...</td>\n",
       "      <td>3.0</td>\n",
       "      <td>v3_folded_pt_ns</td>\n",
       "      <td>5</td>\n",
       "      <td>homology</td>\n",
       "      <td>1</td>\n",
       "      <td>esm</td>\n",
       "      <td>1234</td>\n",
       "      <td>sprhea</td>\n",
       "      <td>0.8</td>\n",
       "      <td>1280</td>\n",
       "    </tr>\n",
       "    <tr>\n",
       "      <th>1</th>\n",
       "      <td>0.805864</td>\n",
       "      <td>0.898535</td>\n",
       "      <td>0.730520</td>\n",
       "      <td>0.821842</td>\n",
       "      <td>2</td>\n",
       "      <td>dot_sig</td>\n",
       "      <td>bondwise</td>\n",
       "      <td>last</td>\n",
       "      <td>50</td>\n",
       "      <td>mpnn_dim_red</td>\n",
       "      <td>...</td>\n",
       "      <td>3.0</td>\n",
       "      <td>v3_folded_pt_ns</td>\n",
       "      <td>5</td>\n",
       "      <td>homology</td>\n",
       "      <td>1</td>\n",
       "      <td>esm</td>\n",
       "      <td>1234</td>\n",
       "      <td>sprhea</td>\n",
       "      <td>0.8</td>\n",
       "      <td>1280</td>\n",
       "    </tr>\n",
       "    <tr>\n",
       "      <th>2</th>\n",
       "      <td>0.896208</td>\n",
       "      <td>0.910215</td>\n",
       "      <td>0.882625</td>\n",
       "      <td>0.895340</td>\n",
       "      <td>2</td>\n",
       "      <td>dot_sig</td>\n",
       "      <td>bondwise</td>\n",
       "      <td>last</td>\n",
       "      <td>50</td>\n",
       "      <td>mpnn_dim_red</td>\n",
       "      <td>...</td>\n",
       "      <td>3.0</td>\n",
       "      <td>v3_folded_pt_ns</td>\n",
       "      <td>5</td>\n",
       "      <td>homology</td>\n",
       "      <td>1</td>\n",
       "      <td>esm</td>\n",
       "      <td>1234</td>\n",
       "      <td>sprhea</td>\n",
       "      <td>0.8</td>\n",
       "      <td>1280</td>\n",
       "    </tr>\n",
       "    <tr>\n",
       "      <th rowspan=\"5\" valign=\"top\">285</th>\n",
       "      <th>2</th>\n",
       "      <td>0.862698</td>\n",
       "      <td>0.881929</td>\n",
       "      <td>0.844287</td>\n",
       "      <td>0.862419</td>\n",
       "      <td>2</td>\n",
       "      <td>binary</td>\n",
       "      <td>bondwise</td>\n",
       "      <td>last</td>\n",
       "      <td>50</td>\n",
       "      <td>mpnn_dim_red</td>\n",
       "      <td>...</td>\n",
       "      <td>3.0</td>\n",
       "      <td>v3_folded_pt_ns</td>\n",
       "      <td>5</td>\n",
       "      <td>homology</td>\n",
       "      <td>1</td>\n",
       "      <td>esm</td>\n",
       "      <td>1234</td>\n",
       "      <td>sprhea</td>\n",
       "      <td>0.8</td>\n",
       "      <td>1280</td>\n",
       "    </tr>\n",
       "    <tr>\n",
       "      <th>4</th>\n",
       "      <td>0.886458</td>\n",
       "      <td>0.892956</td>\n",
       "      <td>0.880054</td>\n",
       "      <td>0.884604</td>\n",
       "      <td>2</td>\n",
       "      <td>binary</td>\n",
       "      <td>bondwise</td>\n",
       "      <td>last</td>\n",
       "      <td>50</td>\n",
       "      <td>mpnn_dim_red</td>\n",
       "      <td>...</td>\n",
       "      <td>3.0</td>\n",
       "      <td>v3_folded_pt_ns</td>\n",
       "      <td>5</td>\n",
       "      <td>homology</td>\n",
       "      <td>1</td>\n",
       "      <td>esm</td>\n",
       "      <td>1234</td>\n",
       "      <td>sprhea</td>\n",
       "      <td>0.8</td>\n",
       "      <td>1280</td>\n",
       "    </tr>\n",
       "    <tr>\n",
       "      <th>1</th>\n",
       "      <td>0.793004</td>\n",
       "      <td>0.868117</td>\n",
       "      <td>0.729853</td>\n",
       "      <td>0.807136</td>\n",
       "      <td>2</td>\n",
       "      <td>binary</td>\n",
       "      <td>bondwise</td>\n",
       "      <td>last</td>\n",
       "      <td>50</td>\n",
       "      <td>mpnn_dim_red</td>\n",
       "      <td>...</td>\n",
       "      <td>3.0</td>\n",
       "      <td>v3_folded_pt_ns</td>\n",
       "      <td>5</td>\n",
       "      <td>homology</td>\n",
       "      <td>1</td>\n",
       "      <td>esm</td>\n",
       "      <td>1234</td>\n",
       "      <td>sprhea</td>\n",
       "      <td>0.8</td>\n",
       "      <td>1280</td>\n",
       "    </tr>\n",
       "    <tr>\n",
       "      <th>3</th>\n",
       "      <td>0.862499</td>\n",
       "      <td>0.875944</td>\n",
       "      <td>0.849461</td>\n",
       "      <td>0.866008</td>\n",
       "      <td>2</td>\n",
       "      <td>binary</td>\n",
       "      <td>bondwise</td>\n",
       "      <td>last</td>\n",
       "      <td>50</td>\n",
       "      <td>mpnn_dim_red</td>\n",
       "      <td>...</td>\n",
       "      <td>3.0</td>\n",
       "      <td>v3_folded_pt_ns</td>\n",
       "      <td>5</td>\n",
       "      <td>homology</td>\n",
       "      <td>1</td>\n",
       "      <td>esm</td>\n",
       "      <td>1234</td>\n",
       "      <td>sprhea</td>\n",
       "      <td>0.8</td>\n",
       "      <td>1280</td>\n",
       "    </tr>\n",
       "    <tr>\n",
       "      <th>5</th>\n",
       "      <td>0.741747</td>\n",
       "      <td>0.822413</td>\n",
       "      <td>0.675492</td>\n",
       "      <td>0.778709</td>\n",
       "      <td>2</td>\n",
       "      <td>binary</td>\n",
       "      <td>bondwise</td>\n",
       "      <td>last</td>\n",
       "      <td>50</td>\n",
       "      <td>mpnn_dim_red</td>\n",
       "      <td>...</td>\n",
       "      <td>3.0</td>\n",
       "      <td>v3_folded_pt_ns</td>\n",
       "      <td>5</td>\n",
       "      <td>homology</td>\n",
       "      <td>1</td>\n",
       "      <td>esm</td>\n",
       "      <td>1234</td>\n",
       "      <td>sprhea</td>\n",
       "      <td>0.8</td>\n",
       "      <td>1280</td>\n",
       "    </tr>\n",
       "  </tbody>\n",
       "</table>\n",
       "<p>10 rows × 21 columns</p>\n",
       "</div>"
      ],
      "text/plain": [
       "                    f1  precision    recall  accuracy  n_epochs pred_head  \\\n",
       "hp_idx split                                                                \n",
       "284    3      0.871951   0.872682  0.871221  0.873409         2   dot_sig   \n",
       "       5      0.757679   0.861830  0.675987  0.796578         2   dot_sig   \n",
       "       4      0.878152   0.868329  0.888199  0.873834         2   dot_sig   \n",
       "       1      0.805864   0.898535  0.730520  0.821842         2   dot_sig   \n",
       "       2      0.896208   0.910215  0.882625  0.895340         2   dot_sig   \n",
       "285    2      0.862698   0.881929  0.844287  0.862419         2    binary   \n",
       "       4      0.886458   0.892956  0.880054  0.884604         2    binary   \n",
       "       1      0.793004   0.868117  0.729853  0.807136         2    binary   \n",
       "       3      0.862499   0.875944  0.849461  0.866008         2    binary   \n",
       "       5      0.741747   0.822413  0.675492  0.778709         2    binary   \n",
       "\n",
       "             message_passing   agg  d_h_encoder         model  ...  \\\n",
       "hp_idx split                                                   ...   \n",
       "284    3            bondwise  last           50  mpnn_dim_red  ...   \n",
       "       5            bondwise  last           50  mpnn_dim_red  ...   \n",
       "       4            bondwise  last           50  mpnn_dim_red  ...   \n",
       "       1            bondwise  last           50  mpnn_dim_red  ...   \n",
       "       2            bondwise  last           50  mpnn_dim_red  ...   \n",
       "285    2            bondwise  last           50  mpnn_dim_red  ...   \n",
       "       4            bondwise  last           50  mpnn_dim_red  ...   \n",
       "       1            bondwise  last           50  mpnn_dim_red  ...   \n",
       "       3            bondwise  last           50  mpnn_dim_red  ...   \n",
       "       5            bondwise  last           50  mpnn_dim_red  ...   \n",
       "\n",
       "             encoder_depth              toc n_splits  split_strategy  \\\n",
       "hp_idx split                                                           \n",
       "284    3               3.0  v3_folded_pt_ns        5        homology   \n",
       "       5               3.0  v3_folded_pt_ns        5        homology   \n",
       "       4               3.0  v3_folded_pt_ns        5        homology   \n",
       "       1               3.0  v3_folded_pt_ns        5        homology   \n",
       "       2               3.0  v3_folded_pt_ns        5        homology   \n",
       "285    2               3.0  v3_folded_pt_ns        5        homology   \n",
       "       4               3.0  v3_folded_pt_ns        5        homology   \n",
       "       1               3.0  v3_folded_pt_ns        5        homology   \n",
       "       3               3.0  v3_folded_pt_ns        5        homology   \n",
       "       5               3.0  v3_folded_pt_ns        5        homology   \n",
       "\n",
       "             neg_multiple  embed_type  seed  dataset_name split_sim_threshold  \\\n",
       "hp_idx split                                                                    \n",
       "284    3                1         esm  1234        sprhea                 0.8   \n",
       "       5                1         esm  1234        sprhea                 0.8   \n",
       "       4                1         esm  1234        sprhea                 0.8   \n",
       "       1                1         esm  1234        sprhea                 0.8   \n",
       "       2                1         esm  1234        sprhea                 0.8   \n",
       "285    2                1         esm  1234        sprhea                 0.8   \n",
       "       4                1         esm  1234        sprhea                 0.8   \n",
       "       1                1         esm  1234        sprhea                 0.8   \n",
       "       3                1         esm  1234        sprhea                 0.8   \n",
       "       5                1         esm  1234        sprhea                 0.8   \n",
       "\n",
       "              embed_dim  \n",
       "hp_idx split             \n",
       "284    3           1280  \n",
       "       5           1280  \n",
       "       4           1280  \n",
       "       1           1280  \n",
       "       2           1280  \n",
       "285    2           1280  \n",
       "       4           1280  \n",
       "       1           1280  \n",
       "       3           1280  \n",
       "       5           1280  \n",
       "\n",
       "[10 rows x 21 columns]"
      ]
     },
     "execution_count": 75,
     "metadata": {},
     "output_type": "execute_result"
    }
   ],
   "source": [
    "df_metrics = load_metrics([284,285]).join(df_experiments)\n",
    "df_metrics"
   ]
  },
  {
   "cell_type": "code",
   "execution_count": 219,
   "id": "6923a3cc-8272-4f6f-a592-e84a927781df",
   "metadata": {},
   "outputs": [],
   "source": [
    "def plot_combined_metrics(df: pd.DataFrame):\n",
    "    metrics_map = {\n",
    "        'f1': 'blue',\n",
    "        'precision': 'orange',\n",
    "        'recall': 'green',\n",
    "        'accuracy': 'red'\n",
    "    }\n",
    "    \n",
    "    fig = go.Figure()\n",
    "\n",
    "    for metric in metrics_map.keys():\n",
    "        for hp_idx, df_hp in df.groupby(level='hp_idx'):\n",
    "            fig.add_trace(\n",
    "                go.Box(\n",
    "                    y=df_hp[metric],\n",
    "                    x=[[metric] * len(df_hp), df_hp['pred_head']],\n",
    "                    marker_color=metrics_map[metric],\n",
    "                    boxmean=True,\n",
    "                    boxpoints='all',\n",
    "                )\n",
    "            )\n",
    "\n",
    "    return fig.update_layout(\n",
    "        title=\"Model Evaluation Metrics by Metric and hp_idx\",\n",
    "        xaxis_title=\"metric\",\n",
    "        # yaxis_title=\"Value\",\n",
    "        showlegend=False,\n",
    "        xaxis=dict(tickmode='linear', tickangle=-30),\n",
    "        height=600,\n",
    "        width=1000\n",
    "    )"
   ]
  },
  {
   "cell_type": "code",
   "execution_count": 221,
   "id": "ae9a329d-bdea-4049-8b9f-20042219e3e1",
   "metadata": {},
   "outputs": [
    {
     "data": {
      "application/vnd.plotly.v1+json": {
       "config": {
        "plotlyServerURL": "https://plot.ly"
       },
       "data": [
        {
         "boxmean": true,
         "boxpoints": "all",
         "marker": {
          "color": "blue"
         },
         "type": "box",
         "x": [
          [
           "f1",
           "f1",
           "f1",
           "f1",
           "f1"
          ],
          [
           "dot_sig",
           "dot_sig",
           "dot_sig",
           "dot_sig",
           "dot_sig"
          ]
         ],
         "y": [
          0.8719505810909851,
          0.7576787076197741,
          0.878151663311283,
          0.805863500236431,
          0.8962078719018161
         ]
        },
        {
         "boxmean": true,
         "boxpoints": "all",
         "marker": {
          "color": "blue"
         },
         "type": "box",
         "x": [
          [
           "f1",
           "f1",
           "f1",
           "f1",
           "f1"
          ],
          [
           "binary",
           "binary",
           "binary",
           "binary",
           "binary"
          ]
         ],
         "y": [
          0.8626978000771901,
          0.8864579772427601,
          0.7930035189401781,
          0.862499336130437,
          0.7417470452384181
         ]
        },
        {
         "boxmean": true,
         "boxpoints": "all",
         "marker": {
          "color": "orange"
         },
         "type": "box",
         "x": [
          [
           "precision",
           "precision",
           "precision",
           "precision",
           "precision"
          ],
          [
           "dot_sig",
           "dot_sig",
           "dot_sig",
           "dot_sig",
           "dot_sig"
          ]
         ],
         "y": [
          0.8726815466834321,
          0.8618296529968451,
          0.8683287515404301,
          0.8985354422964261,
          0.910215210828707
         ]
        },
        {
         "boxmean": true,
         "boxpoints": "all",
         "marker": {
          "color": "orange"
         },
         "type": "box",
         "x": [
          [
           "precision",
           "precision",
           "precision",
           "precision",
           "precision"
          ],
          [
           "binary",
           "binary",
           "binary",
           "binary",
           "binary"
          ]
         ],
         "y": [
          0.8819293746301041,
          0.8929555293191651,
          0.868116927260367,
          0.8759439050701181,
          0.822413014008133
         ]
        },
        {
         "boxmean": true,
         "boxpoints": "all",
         "marker": {
          "color": "green"
         },
         "type": "box",
         "x": [
          [
           "recall",
           "recall",
           "recall",
           "recall",
           "recall"
          ],
          [
           "dot_sig",
           "dot_sig",
           "dot_sig",
           "dot_sig",
           "dot_sig"
          ]
         ],
         "y": [
          0.8712208389998951,
          0.6759866386242731,
          0.8881993600310281,
          0.7305200990664881,
          0.8826251180358831
         ]
        },
        {
         "boxmean": true,
         "boxpoints": "all",
         "marker": {
          "color": "green"
         },
         "type": "box",
         "x": [
          [
           "recall",
           "recall",
           "recall",
           "recall",
           "recall"
          ],
          [
           "binary",
           "binary",
           "binary",
           "binary",
           "binary"
          ]
         ],
         "y": [
          0.844287063267233,
          0.880054300397556,
          0.7298533053915031,
          0.8494612407155561,
          0.6754917728566121
         ]
        },
        {
         "boxmean": true,
         "boxpoints": "all",
         "marker": {
          "color": "red"
         },
         "type": "box",
         "x": [
          [
           "accuracy",
           "accuracy",
           "accuracy",
           "accuracy",
           "accuracy"
          ],
          [
           "dot_sig",
           "dot_sig",
           "dot_sig",
           "dot_sig",
           "dot_sig"
          ]
         ],
         "y": [
          0.8734085498395611,
          0.796577614807054,
          0.8738336311296401,
          0.821841851494696,
          0.8953398433723291
         ]
        },
        {
         "boxmean": true,
         "boxpoints": "all",
         "marker": {
          "color": "red"
         },
         "type": "box",
         "x": [
          [
           "accuracy",
           "accuracy",
           "accuracy",
           "accuracy",
           "accuracy"
          ],
          [
           "binary",
           "binary",
           "binary",
           "binary",
           "binary"
          ]
         ],
         "y": [
          0.8624190273615001,
          0.8846039309112561,
          0.8071359691417551,
          0.8660076596625601,
          0.7787090390547691
         ]
        }
       ],
       "layout": {
        "height": 600,
        "showlegend": false,
        "template": {
         "data": {
          "bar": [
           {
            "error_x": {
             "color": "#2a3f5f"
            },
            "error_y": {
             "color": "#2a3f5f"
            },
            "marker": {
             "line": {
              "color": "#E5ECF6",
              "width": 0.5
             },
             "pattern": {
              "fillmode": "overlay",
              "size": 10,
              "solidity": 0.2
             }
            },
            "type": "bar"
           }
          ],
          "barpolar": [
           {
            "marker": {
             "line": {
              "color": "#E5ECF6",
              "width": 0.5
             },
             "pattern": {
              "fillmode": "overlay",
              "size": 10,
              "solidity": 0.2
             }
            },
            "type": "barpolar"
           }
          ],
          "carpet": [
           {
            "aaxis": {
             "endlinecolor": "#2a3f5f",
             "gridcolor": "white",
             "linecolor": "white",
             "minorgridcolor": "white",
             "startlinecolor": "#2a3f5f"
            },
            "baxis": {
             "endlinecolor": "#2a3f5f",
             "gridcolor": "white",
             "linecolor": "white",
             "minorgridcolor": "white",
             "startlinecolor": "#2a3f5f"
            },
            "type": "carpet"
           }
          ],
          "choropleth": [
           {
            "colorbar": {
             "outlinewidth": 0,
             "ticks": ""
            },
            "type": "choropleth"
           }
          ],
          "contour": [
           {
            "colorbar": {
             "outlinewidth": 0,
             "ticks": ""
            },
            "colorscale": [
             [
              0,
              "#0d0887"
             ],
             [
              0.1111111111111111,
              "#46039f"
             ],
             [
              0.2222222222222222,
              "#7201a8"
             ],
             [
              0.3333333333333333,
              "#9c179e"
             ],
             [
              0.4444444444444444,
              "#bd3786"
             ],
             [
              0.5555555555555556,
              "#d8576b"
             ],
             [
              0.6666666666666666,
              "#ed7953"
             ],
             [
              0.7777777777777778,
              "#fb9f3a"
             ],
             [
              0.8888888888888888,
              "#fdca26"
             ],
             [
              1,
              "#f0f921"
             ]
            ],
            "type": "contour"
           }
          ],
          "contourcarpet": [
           {
            "colorbar": {
             "outlinewidth": 0,
             "ticks": ""
            },
            "type": "contourcarpet"
           }
          ],
          "heatmap": [
           {
            "colorbar": {
             "outlinewidth": 0,
             "ticks": ""
            },
            "colorscale": [
             [
              0,
              "#0d0887"
             ],
             [
              0.1111111111111111,
              "#46039f"
             ],
             [
              0.2222222222222222,
              "#7201a8"
             ],
             [
              0.3333333333333333,
              "#9c179e"
             ],
             [
              0.4444444444444444,
              "#bd3786"
             ],
             [
              0.5555555555555556,
              "#d8576b"
             ],
             [
              0.6666666666666666,
              "#ed7953"
             ],
             [
              0.7777777777777778,
              "#fb9f3a"
             ],
             [
              0.8888888888888888,
              "#fdca26"
             ],
             [
              1,
              "#f0f921"
             ]
            ],
            "type": "heatmap"
           }
          ],
          "heatmapgl": [
           {
            "colorbar": {
             "outlinewidth": 0,
             "ticks": ""
            },
            "colorscale": [
             [
              0,
              "#0d0887"
             ],
             [
              0.1111111111111111,
              "#46039f"
             ],
             [
              0.2222222222222222,
              "#7201a8"
             ],
             [
              0.3333333333333333,
              "#9c179e"
             ],
             [
              0.4444444444444444,
              "#bd3786"
             ],
             [
              0.5555555555555556,
              "#d8576b"
             ],
             [
              0.6666666666666666,
              "#ed7953"
             ],
             [
              0.7777777777777778,
              "#fb9f3a"
             ],
             [
              0.8888888888888888,
              "#fdca26"
             ],
             [
              1,
              "#f0f921"
             ]
            ],
            "type": "heatmapgl"
           }
          ],
          "histogram": [
           {
            "marker": {
             "pattern": {
              "fillmode": "overlay",
              "size": 10,
              "solidity": 0.2
             }
            },
            "type": "histogram"
           }
          ],
          "histogram2d": [
           {
            "colorbar": {
             "outlinewidth": 0,
             "ticks": ""
            },
            "colorscale": [
             [
              0,
              "#0d0887"
             ],
             [
              0.1111111111111111,
              "#46039f"
             ],
             [
              0.2222222222222222,
              "#7201a8"
             ],
             [
              0.3333333333333333,
              "#9c179e"
             ],
             [
              0.4444444444444444,
              "#bd3786"
             ],
             [
              0.5555555555555556,
              "#d8576b"
             ],
             [
              0.6666666666666666,
              "#ed7953"
             ],
             [
              0.7777777777777778,
              "#fb9f3a"
             ],
             [
              0.8888888888888888,
              "#fdca26"
             ],
             [
              1,
              "#f0f921"
             ]
            ],
            "type": "histogram2d"
           }
          ],
          "histogram2dcontour": [
           {
            "colorbar": {
             "outlinewidth": 0,
             "ticks": ""
            },
            "colorscale": [
             [
              0,
              "#0d0887"
             ],
             [
              0.1111111111111111,
              "#46039f"
             ],
             [
              0.2222222222222222,
              "#7201a8"
             ],
             [
              0.3333333333333333,
              "#9c179e"
             ],
             [
              0.4444444444444444,
              "#bd3786"
             ],
             [
              0.5555555555555556,
              "#d8576b"
             ],
             [
              0.6666666666666666,
              "#ed7953"
             ],
             [
              0.7777777777777778,
              "#fb9f3a"
             ],
             [
              0.8888888888888888,
              "#fdca26"
             ],
             [
              1,
              "#f0f921"
             ]
            ],
            "type": "histogram2dcontour"
           }
          ],
          "mesh3d": [
           {
            "colorbar": {
             "outlinewidth": 0,
             "ticks": ""
            },
            "type": "mesh3d"
           }
          ],
          "parcoords": [
           {
            "line": {
             "colorbar": {
              "outlinewidth": 0,
              "ticks": ""
             }
            },
            "type": "parcoords"
           }
          ],
          "pie": [
           {
            "automargin": true,
            "type": "pie"
           }
          ],
          "scatter": [
           {
            "fillpattern": {
             "fillmode": "overlay",
             "size": 10,
             "solidity": 0.2
            },
            "type": "scatter"
           }
          ],
          "scatter3d": [
           {
            "line": {
             "colorbar": {
              "outlinewidth": 0,
              "ticks": ""
             }
            },
            "marker": {
             "colorbar": {
              "outlinewidth": 0,
              "ticks": ""
             }
            },
            "type": "scatter3d"
           }
          ],
          "scattercarpet": [
           {
            "marker": {
             "colorbar": {
              "outlinewidth": 0,
              "ticks": ""
             }
            },
            "type": "scattercarpet"
           }
          ],
          "scattergeo": [
           {
            "marker": {
             "colorbar": {
              "outlinewidth": 0,
              "ticks": ""
             }
            },
            "type": "scattergeo"
           }
          ],
          "scattergl": [
           {
            "marker": {
             "colorbar": {
              "outlinewidth": 0,
              "ticks": ""
             }
            },
            "type": "scattergl"
           }
          ],
          "scattermapbox": [
           {
            "marker": {
             "colorbar": {
              "outlinewidth": 0,
              "ticks": ""
             }
            },
            "type": "scattermapbox"
           }
          ],
          "scatterpolar": [
           {
            "marker": {
             "colorbar": {
              "outlinewidth": 0,
              "ticks": ""
             }
            },
            "type": "scatterpolar"
           }
          ],
          "scatterpolargl": [
           {
            "marker": {
             "colorbar": {
              "outlinewidth": 0,
              "ticks": ""
             }
            },
            "type": "scatterpolargl"
           }
          ],
          "scatterternary": [
           {
            "marker": {
             "colorbar": {
              "outlinewidth": 0,
              "ticks": ""
             }
            },
            "type": "scatterternary"
           }
          ],
          "surface": [
           {
            "colorbar": {
             "outlinewidth": 0,
             "ticks": ""
            },
            "colorscale": [
             [
              0,
              "#0d0887"
             ],
             [
              0.1111111111111111,
              "#46039f"
             ],
             [
              0.2222222222222222,
              "#7201a8"
             ],
             [
              0.3333333333333333,
              "#9c179e"
             ],
             [
              0.4444444444444444,
              "#bd3786"
             ],
             [
              0.5555555555555556,
              "#d8576b"
             ],
             [
              0.6666666666666666,
              "#ed7953"
             ],
             [
              0.7777777777777778,
              "#fb9f3a"
             ],
             [
              0.8888888888888888,
              "#fdca26"
             ],
             [
              1,
              "#f0f921"
             ]
            ],
            "type": "surface"
           }
          ],
          "table": [
           {
            "cells": {
             "fill": {
              "color": "#EBF0F8"
             },
             "line": {
              "color": "white"
             }
            },
            "header": {
             "fill": {
              "color": "#C8D4E3"
             },
             "line": {
              "color": "white"
             }
            },
            "type": "table"
           }
          ]
         },
         "layout": {
          "annotationdefaults": {
           "arrowcolor": "#2a3f5f",
           "arrowhead": 0,
           "arrowwidth": 1
          },
          "autotypenumbers": "strict",
          "coloraxis": {
           "colorbar": {
            "outlinewidth": 0,
            "ticks": ""
           }
          },
          "colorscale": {
           "diverging": [
            [
             0,
             "#8e0152"
            ],
            [
             0.1,
             "#c51b7d"
            ],
            [
             0.2,
             "#de77ae"
            ],
            [
             0.3,
             "#f1b6da"
            ],
            [
             0.4,
             "#fde0ef"
            ],
            [
             0.5,
             "#f7f7f7"
            ],
            [
             0.6,
             "#e6f5d0"
            ],
            [
             0.7,
             "#b8e186"
            ],
            [
             0.8,
             "#7fbc41"
            ],
            [
             0.9,
             "#4d9221"
            ],
            [
             1,
             "#276419"
            ]
           ],
           "sequential": [
            [
             0,
             "#0d0887"
            ],
            [
             0.1111111111111111,
             "#46039f"
            ],
            [
             0.2222222222222222,
             "#7201a8"
            ],
            [
             0.3333333333333333,
             "#9c179e"
            ],
            [
             0.4444444444444444,
             "#bd3786"
            ],
            [
             0.5555555555555556,
             "#d8576b"
            ],
            [
             0.6666666666666666,
             "#ed7953"
            ],
            [
             0.7777777777777778,
             "#fb9f3a"
            ],
            [
             0.8888888888888888,
             "#fdca26"
            ],
            [
             1,
             "#f0f921"
            ]
           ],
           "sequentialminus": [
            [
             0,
             "#0d0887"
            ],
            [
             0.1111111111111111,
             "#46039f"
            ],
            [
             0.2222222222222222,
             "#7201a8"
            ],
            [
             0.3333333333333333,
             "#9c179e"
            ],
            [
             0.4444444444444444,
             "#bd3786"
            ],
            [
             0.5555555555555556,
             "#d8576b"
            ],
            [
             0.6666666666666666,
             "#ed7953"
            ],
            [
             0.7777777777777778,
             "#fb9f3a"
            ],
            [
             0.8888888888888888,
             "#fdca26"
            ],
            [
             1,
             "#f0f921"
            ]
           ]
          },
          "colorway": [
           "#636efa",
           "#EF553B",
           "#00cc96",
           "#ab63fa",
           "#FFA15A",
           "#19d3f3",
           "#FF6692",
           "#B6E880",
           "#FF97FF",
           "#FECB52"
          ],
          "font": {
           "color": "#2a3f5f"
          },
          "geo": {
           "bgcolor": "white",
           "lakecolor": "white",
           "landcolor": "#E5ECF6",
           "showlakes": true,
           "showland": true,
           "subunitcolor": "white"
          },
          "hoverlabel": {
           "align": "left"
          },
          "hovermode": "closest",
          "mapbox": {
           "style": "light"
          },
          "paper_bgcolor": "white",
          "plot_bgcolor": "#E5ECF6",
          "polar": {
           "angularaxis": {
            "gridcolor": "white",
            "linecolor": "white",
            "ticks": ""
           },
           "bgcolor": "#E5ECF6",
           "radialaxis": {
            "gridcolor": "white",
            "linecolor": "white",
            "ticks": ""
           }
          },
          "scene": {
           "xaxis": {
            "backgroundcolor": "#E5ECF6",
            "gridcolor": "white",
            "gridwidth": 2,
            "linecolor": "white",
            "showbackground": true,
            "ticks": "",
            "zerolinecolor": "white"
           },
           "yaxis": {
            "backgroundcolor": "#E5ECF6",
            "gridcolor": "white",
            "gridwidth": 2,
            "linecolor": "white",
            "showbackground": true,
            "ticks": "",
            "zerolinecolor": "white"
           },
           "zaxis": {
            "backgroundcolor": "#E5ECF6",
            "gridcolor": "white",
            "gridwidth": 2,
            "linecolor": "white",
            "showbackground": true,
            "ticks": "",
            "zerolinecolor": "white"
           }
          },
          "shapedefaults": {
           "line": {
            "color": "#2a3f5f"
           }
          },
          "ternary": {
           "aaxis": {
            "gridcolor": "white",
            "linecolor": "white",
            "ticks": ""
           },
           "baxis": {
            "gridcolor": "white",
            "linecolor": "white",
            "ticks": ""
           },
           "bgcolor": "#E5ECF6",
           "caxis": {
            "gridcolor": "white",
            "linecolor": "white",
            "ticks": ""
           }
          },
          "title": {
           "x": 0.05
          },
          "xaxis": {
           "automargin": true,
           "gridcolor": "white",
           "linecolor": "white",
           "ticks": "",
           "title": {
            "standoff": 15
           },
           "zerolinecolor": "white",
           "zerolinewidth": 2
          },
          "yaxis": {
           "automargin": true,
           "gridcolor": "white",
           "linecolor": "white",
           "ticks": "",
           "title": {
            "standoff": 15
           },
           "zerolinecolor": "white",
           "zerolinewidth": 2
          }
         }
        },
        "title": {
         "text": "Model Evaluation Metrics by Metric and hp_idx"
        },
        "width": 1000,
        "xaxis": {
         "autorange": true,
         "range": [
          -0.5286738351254481,
          7.5
         ],
         "tickangle": -30,
         "tickmode": "linear",
         "title": {
          "text": "metric"
         },
         "type": "multicategory"
        },
        "yaxis": {
         "autorange": true,
         "range": [
          0.6624515818581624,
          0.9232554018271568
         ],
         "type": "linear"
        }
       }
      },
      "image/png": "[encoded data removed]",
      "text/html": [
       "<div>                            <div id=\"1b7dce57-a585-4072-be5b-1cac022abf01\" class=\"plotly-graph-div\" style=\"height:600px; width:1000px;\"></div>            <script type=\"text/javascript\">                require([\"plotly\"], function(Plotly) {                    window.PLOTLYENV=window.PLOTLYENV || {};                                    if (document.getElementById(\"1b7dce57-a585-4072-be5b-1cac022abf01\")) {                    Plotly.newPlot(                        \"1b7dce57-a585-4072-be5b-1cac022abf01\",                        [{\"boxmean\":true,\"boxpoints\":\"all\",\"marker\":{\"color\":\"blue\"},\"x\":[[\"f1\",\"f1\",\"f1\",\"f1\",\"f1\"],[\"dot_sig\",\"dot_sig\",\"dot_sig\",\"dot_sig\",\"dot_sig\"]],\"y\":[0.8719505810909851,0.7576787076197741,0.878151663311283,0.805863500236431,0.8962078719018161],\"type\":\"box\"},{\"boxmean\":true,\"boxpoints\":\"all\",\"marker\":{\"color\":\"blue\"},\"x\":[[\"f1\",\"f1\",\"f1\",\"f1\",\"f1\"],[\"binary\",\"binary\",\"binary\",\"binary\",\"binary\"]],\"y\":[0.8626978000771901,0.8864579772427601,0.7930035189401781,0.862499336130437,0.7417470452384181],\"type\":\"box\"},{\"boxmean\":true,\"boxpoints\":\"all\",\"marker\":{\"color\":\"orange\"},\"x\":[[\"precision\",\"precision\",\"precision\",\"precision\",\"precision\"],[\"dot_sig\",\"dot_sig\",\"dot_sig\",\"dot_sig\",\"dot_sig\"]],\"y\":[0.8726815466834321,0.8618296529968451,0.8683287515404301,0.8985354422964261,0.910215210828707],\"type\":\"box\"},{\"boxmean\":true,\"boxpoints\":\"all\",\"marker\":{\"color\":\"orange\"},\"x\":[[\"precision\",\"precision\",\"precision\",\"precision\",\"precision\"],[\"binary\",\"binary\",\"binary\",\"binary\",\"binary\"]],\"y\":[0.8819293746301041,0.8929555293191651,0.868116927260367,0.8759439050701181,0.822413014008133],\"type\":\"box\"},{\"boxmean\":true,\"boxpoints\":\"all\",\"marker\":{\"color\":\"green\"},\"x\":[[\"recall\",\"recall\",\"recall\",\"recall\",\"recall\"],[\"dot_sig\",\"dot_sig\",\"dot_sig\",\"dot_sig\",\"dot_sig\"]],\"y\":[0.8712208389998951,0.6759866386242731,0.8881993600310281,0.7305200990664881,0.8826251180358831],\"type\":\"box\"},{\"boxmean\":true,\"boxpoints\":\"all\",\"marker\":{\"color\":\"green\"},\"x\":[[\"recall\",\"recall\",\"recall\",\"recall\",\"recall\"],[\"binary\",\"binary\",\"binary\",\"binary\",\"binary\"]],\"y\":[0.844287063267233,0.880054300397556,0.7298533053915031,0.8494612407155561,0.6754917728566121],\"type\":\"box\"},{\"boxmean\":true,\"boxpoints\":\"all\",\"marker\":{\"color\":\"red\"},\"x\":[[\"accuracy\",\"accuracy\",\"accuracy\",\"accuracy\",\"accuracy\"],[\"dot_sig\",\"dot_sig\",\"dot_sig\",\"dot_sig\",\"dot_sig\"]],\"y\":[0.8734085498395611,0.796577614807054,0.8738336311296401,0.821841851494696,0.8953398433723291],\"type\":\"box\"},{\"boxmean\":true,\"boxpoints\":\"all\",\"marker\":{\"color\":\"red\"},\"x\":[[\"accuracy\",\"accuracy\",\"accuracy\",\"accuracy\",\"accuracy\"],[\"binary\",\"binary\",\"binary\",\"binary\",\"binary\"]],\"y\":[0.8624190273615001,0.8846039309112561,0.8071359691417551,0.8660076596625601,0.7787090390547691],\"type\":\"box\"}],                        {\"template\":{\"data\":{\"histogram2dcontour\":[{\"type\":\"histogram2dcontour\",\"colorbar\":{\"outlinewidth\":0,\"ticks\":\"\"},\"colorscale\":[[0.0,\"#0d0887\"],[0.1111111111111111,\"#46039f\"],[0.2222222222222222,\"#7201a8\"],[0.3333333333333333,\"#9c179e\"],[0.4444444444444444,\"#bd3786\"],[0.5555555555555556,\"#d8576b\"],[0.6666666666666666,\"#ed7953\"],[0.7777777777777778,\"#fb9f3a\"],[0.8888888888888888,\"#fdca26\"],[1.0,\"#f0f921\"]]}],\"choropleth\":[{\"type\":\"choropleth\",\"colorbar\":{\"outlinewidth\":0,\"ticks\":\"\"}}],\"histogram2d\":[{\"type\":\"histogram2d\",\"colorbar\":{\"outlinewidth\":0,\"ticks\":\"\"},\"colorscale\":[[0.0,\"#0d0887\"],[0.1111111111111111,\"#46039f\"],[0.2222222222222222,\"#7201a8\"],[0.3333333333333333,\"#9c179e\"],[0.4444444444444444,\"#bd3786\"],[0.5555555555555556,\"#d8576b\"],[0.6666666666666666,\"#ed7953\"],[0.7777777777777778,\"#fb9f3a\"],[0.8888888888888888,\"#fdca26\"],[1.0,\"#f0f921\"]]}],\"heatmap\":[{\"type\":\"heatmap\",\"colorbar\":{\"outlinewidth\":0,\"ticks\":\"\"},\"colorscale\":[[0.0,\"#0d0887\"],[0.1111111111111111,\"#46039f\"],[0.2222222222222222,\"#7201a8\"],[0.3333333333333333,\"#9c179e\"],[0.4444444444444444,\"#bd3786\"],[0.5555555555555556,\"#d8576b\"],[0.6666666666666666,\"#ed7953\"],[0.7777777777777778,\"#fb9f3a\"],[0.8888888888888888,\"#fdca26\"],[1.0,\"#f0f921\"]]}],\"heatmapgl\":[{\"type\":\"heatmapgl\",\"colorbar\":{\"outlinewidth\":0,\"ticks\":\"\"},\"colorscale\":[[0.0,\"#0d0887\"],[0.1111111111111111,\"#46039f\"],[0.2222222222222222,\"#7201a8\"],[0.3333333333333333,\"#9c179e\"],[0.4444444444444444,\"#bd3786\"],[0.5555555555555556,\"#d8576b\"],[0.6666666666666666,\"#ed7953\"],[0.7777777777777778,\"#fb9f3a\"],[0.8888888888888888,\"#fdca26\"],[1.0,\"#f0f921\"]]}],\"contourcarpet\":[{\"type\":\"contourcarpet\",\"colorbar\":{\"outlinewidth\":0,\"ticks\":\"\"}}],\"contour\":[{\"type\":\"contour\",\"colorbar\":{\"outlinewidth\":0,\"ticks\":\"\"},\"colorscale\":[[0.0,\"#0d0887\"],[0.1111111111111111,\"#46039f\"],[0.2222222222222222,\"#7201a8\"],[0.3333333333333333,\"#9c179e\"],[0.4444444444444444,\"#bd3786\"],[0.5555555555555556,\"#d8576b\"],[0.6666666666666666,\"#ed7953\"],[0.7777777777777778,\"#fb9f3a\"],[0.8888888888888888,\"#fdca26\"],[1.0,\"#f0f921\"]]}],\"surface\":[{\"type\":\"surface\",\"colorbar\":{\"outlinewidth\":0,\"ticks\":\"\"},\"colorscale\":[[0.0,\"#0d0887\"],[0.1111111111111111,\"#46039f\"],[0.2222222222222222,\"#7201a8\"],[0.3333333333333333,\"#9c179e\"],[0.4444444444444444,\"#bd3786\"],[0.5555555555555556,\"#d8576b\"],[0.6666666666666666,\"#ed7953\"],[0.7777777777777778,\"#fb9f3a\"],[0.8888888888888888,\"#fdca26\"],[1.0,\"#f0f921\"]]}],\"mesh3d\":[{\"type\":\"mesh3d\",\"colorbar\":{\"outlinewidth\":0,\"ticks\":\"\"}}],\"scatter\":[{\"fillpattern\":{\"fillmode\":\"overlay\",\"size\":10,\"solidity\":0.2},\"type\":\"scatter\"}],\"parcoords\":[{\"type\":\"parcoords\",\"line\":{\"colorbar\":{\"outlinewidth\":0,\"ticks\":\"\"}}}],\"scatterpolargl\":[{\"type\":\"scatterpolargl\",\"marker\":{\"colorbar\":{\"outlinewidth\":0,\"ticks\":\"\"}}}],\"bar\":[{\"error_x\":{\"color\":\"#2a3f5f\"},\"error_y\":{\"color\":\"#2a3f5f\"},\"marker\":{\"line\":{\"color\":\"#E5ECF6\",\"width\":0.5},\"pattern\":{\"fillmode\":\"overlay\",\"size\":10,\"solidity\":0.2}},\"type\":\"bar\"}],\"scattergeo\":[{\"type\":\"scattergeo\",\"marker\":{\"colorbar\":{\"outlinewidth\":0,\"ticks\":\"\"}}}],\"scatterpolar\":[{\"type\":\"scatterpolar\",\"marker\":{\"colorbar\":{\"outlinewidth\":0,\"ticks\":\"\"}}}],\"histogram\":[{\"marker\":{\"pattern\":{\"fillmode\":\"overlay\",\"size\":10,\"solidity\":0.2}},\"type\":\"histogram\"}],\"scattergl\":[{\"type\":\"scattergl\",\"marker\":{\"colorbar\":{\"outlinewidth\":0,\"ticks\":\"\"}}}],\"scatter3d\":[{\"type\":\"scatter3d\",\"line\":{\"colorbar\":{\"outlinewidth\":0,\"ticks\":\"\"}},\"marker\":{\"colorbar\":{\"outlinewidth\":0,\"ticks\":\"\"}}}],\"scattermapbox\":[{\"type\":\"scattermapbox\",\"marker\":{\"colorbar\":{\"outlinewidth\":0,\"ticks\":\"\"}}}],\"scatterternary\":[{\"type\":\"scatterternary\",\"marker\":{\"colorbar\":{\"outlinewidth\":0,\"ticks\":\"\"}}}],\"scattercarpet\":[{\"type\":\"scattercarpet\",\"marker\":{\"colorbar\":{\"outlinewidth\":0,\"ticks\":\"\"}}}],\"carpet\":[{\"aaxis\":{\"endlinecolor\":\"#2a3f5f\",\"gridcolor\":\"white\",\"linecolor\":\"white\",\"minorgridcolor\":\"white\",\"startlinecolor\":\"#2a3f5f\"},\"baxis\":{\"endlinecolor\":\"#2a3f5f\",\"gridcolor\":\"white\",\"linecolor\":\"white\",\"minorgridcolor\":\"white\",\"startlinecolor\":\"#2a3f5f\"},\"type\":\"carpet\"}],\"table\":[{\"cells\":{\"fill\":{\"color\":\"#EBF0F8\"},\"line\":{\"color\":\"white\"}},\"header\":{\"fill\":{\"color\":\"#C8D4E3\"},\"line\":{\"color\":\"white\"}},\"type\":\"table\"}],\"barpolar\":[{\"marker\":{\"line\":{\"color\":\"#E5ECF6\",\"width\":0.5},\"pattern\":{\"fillmode\":\"overlay\",\"size\":10,\"solidity\":0.2}},\"type\":\"barpolar\"}],\"pie\":[{\"automargin\":true,\"type\":\"pie\"}]},\"layout\":{\"autotypenumbers\":\"strict\",\"colorway\":[\"#636efa\",\"#EF553B\",\"#00cc96\",\"#ab63fa\",\"#FFA15A\",\"#19d3f3\",\"#FF6692\",\"#B6E880\",\"#FF97FF\",\"#FECB52\"],\"font\":{\"color\":\"#2a3f5f\"},\"hovermode\":\"closest\",\"hoverlabel\":{\"align\":\"left\"},\"paper_bgcolor\":\"white\",\"plot_bgcolor\":\"#E5ECF6\",\"polar\":{\"bgcolor\":\"#E5ECF6\",\"angularaxis\":{\"gridcolor\":\"white\",\"linecolor\":\"white\",\"ticks\":\"\"},\"radialaxis\":{\"gridcolor\":\"white\",\"linecolor\":\"white\",\"ticks\":\"\"}},\"ternary\":{\"bgcolor\":\"#E5ECF6\",\"aaxis\":{\"gridcolor\":\"white\",\"linecolor\":\"white\",\"ticks\":\"\"},\"baxis\":{\"gridcolor\":\"white\",\"linecolor\":\"white\",\"ticks\":\"\"},\"caxis\":{\"gridcolor\":\"white\",\"linecolor\":\"white\",\"ticks\":\"\"}},\"coloraxis\":{\"colorbar\":{\"outlinewidth\":0,\"ticks\":\"\"}},\"colorscale\":{\"sequential\":[[0.0,\"#0d0887\"],[0.1111111111111111,\"#46039f\"],[0.2222222222222222,\"#7201a8\"],[0.3333333333333333,\"#9c179e\"],[0.4444444444444444,\"#bd3786\"],[0.5555555555555556,\"#d8576b\"],[0.6666666666666666,\"#ed7953\"],[0.7777777777777778,\"#fb9f3a\"],[0.8888888888888888,\"#fdca26\"],[1.0,\"#f0f921\"]],\"sequentialminus\":[[0.0,\"#0d0887\"],[0.1111111111111111,\"#46039f\"],[0.2222222222222222,\"#7201a8\"],[0.3333333333333333,\"#9c179e\"],[0.4444444444444444,\"#bd3786\"],[0.5555555555555556,\"#d8576b\"],[0.6666666666666666,\"#ed7953\"],[0.7777777777777778,\"#fb9f3a\"],[0.8888888888888888,\"#fdca26\"],[1.0,\"#f0f921\"]],\"diverging\":[[0,\"#8e0152\"],[0.1,\"#c51b7d\"],[0.2,\"#de77ae\"],[0.3,\"#f1b6da\"],[0.4,\"#fde0ef\"],[0.5,\"#f7f7f7\"],[0.6,\"#e6f5d0\"],[0.7,\"#b8e186\"],[0.8,\"#7fbc41\"],[0.9,\"#4d9221\"],[1,\"#276419\"]]},\"xaxis\":{\"gridcolor\":\"white\",\"linecolor\":\"white\",\"ticks\":\"\",\"title\":{\"standoff\":15},\"zerolinecolor\":\"white\",\"automargin\":true,\"zerolinewidth\":2},\"yaxis\":{\"gridcolor\":\"white\",\"linecolor\":\"white\",\"ticks\":\"\",\"title\":{\"standoff\":15},\"zerolinecolor\":\"white\",\"automargin\":true,\"zerolinewidth\":2},\"scene\":{\"xaxis\":{\"backgroundcolor\":\"#E5ECF6\",\"gridcolor\":\"white\",\"linecolor\":\"white\",\"showbackground\":true,\"ticks\":\"\",\"zerolinecolor\":\"white\",\"gridwidth\":2},\"yaxis\":{\"backgroundcolor\":\"#E5ECF6\",\"gridcolor\":\"white\",\"linecolor\":\"white\",\"showbackground\":true,\"ticks\":\"\",\"zerolinecolor\":\"white\",\"gridwidth\":2},\"zaxis\":{\"backgroundcolor\":\"#E5ECF6\",\"gridcolor\":\"white\",\"linecolor\":\"white\",\"showbackground\":true,\"ticks\":\"\",\"zerolinecolor\":\"white\",\"gridwidth\":2}},\"shapedefaults\":{\"line\":{\"color\":\"#2a3f5f\"}},\"annotationdefaults\":{\"arrowcolor\":\"#2a3f5f\",\"arrowhead\":0,\"arrowwidth\":1},\"geo\":{\"bgcolor\":\"white\",\"landcolor\":\"#E5ECF6\",\"subunitcolor\":\"white\",\"showland\":true,\"showlakes\":true,\"lakecolor\":\"white\"},\"title\":{\"x\":0.05},\"mapbox\":{\"style\":\"light\"}}},\"xaxis\":{\"title\":{\"text\":\"metric\"},\"tickmode\":\"linear\",\"tickangle\":-30},\"title\":{\"text\":\"Model Evaluation Metrics by Metric and hp_idx\"},\"showlegend\":false,\"height\":600,\"width\":1000},                        {\"responsive\": true}                    ).then(function(){\n",
       "                            \n",
       "var gd = document.getElementById('1b7dce57-a585-4072-be5b-1cac022abf01');\n",
       "var x = new MutationObserver(function (mutations, observer) {{\n",
       "        var display = window.getComputedStyle(gd).display;\n",
       "        if (!display || display === 'none') {{\n",
       "            console.log([gd, 'removed!']);\n",
       "            Plotly.purge(gd);\n",
       "            observer.disconnect();\n",
       "        }}\n",
       "}});\n",
       "\n",
       "// Listen for the removal of the full notebook cells\n",
       "var notebookContainer = gd.closest('#notebook-container');\n",
       "if (notebookContainer) {{\n",
       "    x.observe(notebookContainer, {childList: true});\n",
       "}}\n",
       "\n",
       "// Listen for the clearing of the current output cell\n",
       "var outputEl = gd.closest('.output');\n",
       "if (outputEl) {{\n",
       "    x.observe(outputEl, {childList: true});\n",
       "}}\n",
       "\n",
       "                        })                };                });            </script>        </div>"
      ]
     },
     "metadata": {},
     "output_type": "display_data"
    }
   ],
   "source": [
    "plot_combined_metrics(df_metrics)"
   ]
  },
  {
   "cell_type": "code",
   "execution_count": null,
   "id": "af2761e0-8681-448c-8676-d819cbd060e1",
   "metadata": {},
   "outputs": [],
   "source": [
    "pd.read_csv('/projects/b1039/trw7841/hiec/artifacts/model_evals/gnn/284_hp_idx_split_2_of_5/version_0/metrics.csv')"
   ]
  },
  {
   "cell_type": "code",
   "execution_count": null,
   "id": "6b91be76-fb64-4842-a972-6b9b2545af59",
   "metadata": {},
   "outputs": [],
   "source": [
    "with Path('/projects/b1039/trw7841/hiec/artifacts/model_evals/gnn/284_hp_idx_split_2_of_5/version_0/hparams.yaml').open('r') as fi:\n",
    "    hparams = yaml.load(fi, yaml.BaseLoader)"
   ]
  }
 ],
 "metadata": {
  "kernelspec": {
   "display_name": "Python 3 (ipykernel)",
   "language": "python",
   "name": "python3"
  },
  "language_info": {
   "codemirror_mode": {
    "name": "ipython",
    "version": 3
   },
   "file_extension": ".py",
   "mimetype": "text/x-python",
   "name": "python",
   "nbconvert_exporter": "python",
   "pygments_lexer": "ipython3",
   "version": "3.12.5"
  }
 },
 "nbformat": 4,
 "nbformat_minor": 5
}
