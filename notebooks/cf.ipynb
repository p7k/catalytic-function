{
 "cells": [
  {
   "cell_type": "markdown",
   "metadata": {},
   "source": [
    "# esm v clean precision-recall curves"
   ]
  },
  {
   "cell_type": "code",
   "execution_count": 1,
   "metadata": {},
   "outputs": [],
   "source": [
    "%load_ext autoreload\n",
    "%autoreload 2\n",
    "\n",
    "from src.collaborative_filtering import cf\n",
    "from sklearn.metrics import roc_auc_score, accuracy_score, f1_score, precision_recall_curve, precision_recall_fscore_support\n",
    "import pandas as pd\n",
    "import matplotlib.pyplot as plt\n",
    "import numpy as np\n",
    "from src.utils import load_json"
   ]
  },
  {
   "cell_type": "code",
   "execution_count": 2,
   "metadata": {},
   "outputs": [
    {
     "data": {
      "text/plain": [
       "{'ks': [1, 3, 5],\n",
       " 'F1': [0.962831880787494, 0.9617498130812017, 0.9539356548290382],\n",
       " 'F1_err': [0.0001946016478433333,\n",
       "  0.000291973982472765,\n",
       "  0.00027598738526140627],\n",
       " 'thresholds': [0.8166665312887902, 0.6667054171808816, 0.6000433414045896],\n",
       " 'thresholds_err': [0.11642828534272637,\n",
       "  1.1496341612862992e-05,\n",
       "  1.389512959628656e-05]}"
      ]
     },
     "execution_count": 2,
     "metadata": {},
     "output_type": "execute_result"
    }
   ],
   "source": [
    "# clean_hps = load_json('/home/spn1560/hiec/artifacts/cf/5_fold_hpo_swissprot_clean_knn_speedup_test.json')\n",
    "# esm_hps = load_json('/home/spn1560/hiec/artifacts/cf/5_fold_hpo_swissprot_esm_knn_speedup_test.json')\n",
    "\n",
    "clean_hps = load_json('../artifacts/cf/5_fold_hpo_swissprot_clean_240228_09_25_04.json')\n",
    "esm_hps = load_json('../artifacts/cf/5_fold_hpo_swissprot_esm_240228_09_15_48.json')\n",
    "hps = {'clean':clean_hps, 'esm':esm_hps}\n",
    "hps['esm']"
   ]
  },
  {
   "cell_type": "code",
   "execution_count": null,
   "metadata": {},
   "outputs": [],
   "source": [
    "\n",
    "# master_ec_path = '../data/master_ec_idxs.csv'\n",
    "# master_ec_df = pd.read_csv(master_ec_path, delimiter='\\t')\n",
    "# master_ec_idxs = {i: k for i, k in enumerate(master_ec_df.loc[:, 'EC number'])}\n",
    "\n",
    "# X_name, Y_name = 'swissprot', 'price'\n",
    "# embed_type = 'clean'\n",
    "# k = 1\n",
    "# decision_threshold = 0.7166665833233786\n",
    "# cf_model = cf(X_name, Y_name, embed_type, master_ec_idxs) # Init\n",
    "# cf_model.fit() # Fit\n",
    "# Y_true = cf_model.Y.toarray()\n",
    "# Y_hat = cf_model.predict(k)\n",
    "# in_sample_classes = np.where(Y_true.sum(axis=0) > 0)[0]\n",
    "# Y_true = Y_true[:, in_sample_classes]\n",
    "# Y_hat = Y_hat[:, in_sample_classes]\n",
    "# Y_pred = (Y_hat > decision_threshold).astype(int)\n",
    "# f1 = f1_score(Y_true.ravel(), Y_pred.ravel())\n",
    "# print(f1)"
   ]
  },
  {
   "cell_type": "code",
   "execution_count": null,
   "metadata": {},
   "outputs": [],
   "source": [
    "# # Support-weighted scores (weird unless every sample has one true label)\n",
    "\n",
    "# master_ec_path = '../data/master_ec_idxs.csv'\n",
    "# master_ec_df = pd.read_csv(master_ec_path, delimiter='\\t')\n",
    "# master_ec_idxs = {i: k for i, k in enumerate(master_ec_df.loc[:, 'EC number'])}\n",
    "# test_names = ['new', 'price']\n",
    "# embed_types = ['clean', 'esm']\n",
    "# k = 1\n",
    "# res = {}\n",
    "\n",
    "# for Y_name in test_names:\n",
    "#     res[Y_name] = {}\n",
    "#     for embed_type in embed_types:\n",
    "#         res[Y_name][embed_type] = {}\n",
    "\n",
    "#         X_name = 'swissprot'\n",
    "#         dt_index = hps[embed_type]['ks'].index(k)\n",
    "#         decision_threshold = hps[embed_type]['thresholds'][dt_index]\n",
    "#         cf_model = cf(X_name, Y_name, embed_type, master_ec_idxs) # Init\n",
    "#         cf_model.fit() # Fit\n",
    "#         Y_true = cf_model.Y.toarray()\n",
    "#         Y_hat = cf_model.predict(k)\n",
    "#         Y_pred = (Y_hat > decision_threshold).astype(int)\n",
    "\n",
    "#         assert np.all(Y_true.sum(axis=1))\n",
    "\n",
    "#         ytrue_weight = []\n",
    "#         ypred_weight = []\n",
    "\n",
    "#         for i in range(cf_model.shapes[Y_name][0]):\n",
    "#             yt = cf_model.idxs['feature'][np.where(Y_true[i] == 1)[0][0]]\n",
    "#             for j in np.where(Y_pred[i] == 1)[0]:\n",
    "#                 yp = cf_model.idxs['feature'][j]\n",
    "#                 ytrue_weight.append(yt)\n",
    "#                 ypred_weight.append(yp)\n",
    "\n",
    "\n",
    "#         labels = list(set(ytrue_weight + ypred_weight))\n",
    "#         labels = list(cf_model.idxs['feature'].values())\n",
    "#         precision, recall, f1, support = precision_recall_fscore_support(ytrue_weight, ypred_weight, labels=labels, average='weighted')\n",
    "#         res[Y_name][embed_type]['precision'] = precision\n",
    "#         res[Y_name][embed_type]['recall'] = recall\n",
    "#         res[Y_name][embed_type]['f1'] = f1\n",
    "\n",
    "# print(res)"
   ]
  },
  {
   "cell_type": "code",
   "execution_count": 8,
   "metadata": {},
   "outputs": [
    {
     "name": "stdout",
     "output_type": "stream",
     "text": [
      "Checking for similarity matrices\n",
      "Loading swissprot sparse adjacency matrix\n",
      "Loading price sparse adjacency matrix\n",
      "kNN thresholding & normalizing\n",
      "Predicting\n",
      "{'price': {'esm': {'precision': 0.18120805369127516, 'recall': 0.18120805369127516, 'f1': 0.18120805369127516}}}\n"
     ]
    },
    {
     "name": "stderr",
     "output_type": "stream",
     "text": [
      "/home/spn1560/.conda/envs/hiec/lib/python3.11/site-packages/sklearn/metrics/_classification.py:1469: UndefinedMetricWarning: Precision and F-score are ill-defined and being set to 0.0 in samples with no predicted labels. Use `zero_division` parameter to control this behavior.\n",
      "  _warn_prf(average, modifier, msg_start, len(result))\n"
     ]
    }
   ],
   "source": [
    "# Support-weighted scores (weird unless every sample has one true label)\n",
    "\n",
    "master_ec_path = '../data/master_ec_idxs.csv'\n",
    "master_ec_df = pd.read_csv(master_ec_path, delimiter='\\t')\n",
    "master_ec_idxs = {i: k for i, k in enumerate(master_ec_df.loc[:, 'EC number'])}\n",
    "test_names = ['new', 'price']\n",
    "embed_types = ['clean', 'esm']\n",
    "k = 5\n",
    "res = {}\n",
    "\n",
    "for Y_name in test_names:\n",
    "    res[Y_name] = {}\n",
    "    for embed_type in embed_types:\n",
    "        res[Y_name][embed_type] = {}\n",
    "\n",
    "        X_name = 'swissprot'\n",
    "        dt_index = hps[embed_type]['ks'].index(k)\n",
    "        decision_threshold = hps[embed_type]['thresholds'][dt_index]\n",
    "        cf_model = cf(X_name, Y_name, embed_type, master_ec_idxs) # Init\n",
    "        cf_model.fit() # Fit\n",
    "        Y_true = cf_model.Y.toarray()\n",
    "        Y_hat = cf_model.predict(k)\n",
    "        Y_pred = (Y_hat > decision_threshold).astype(int)\n",
    "\n",
    "        assert np.all(Y_true.sum(axis=1))\n",
    "\n",
    "        precision, recall, f1, support = precision_recall_fscore_support(Y_true, Y_pred, average='samples')\n",
    "        res[Y_name][embed_type]['precision'] = precision\n",
    "        res[Y_name][embed_type]['recall'] = recall\n",
    "        res[Y_name][embed_type]['f1'] = f1\n",
    "\n",
    "print(res)"
   ]
  },
  {
   "cell_type": "code",
   "execution_count": 40,
   "metadata": {},
   "outputs": [],
   "source": [
    "res['new']['reported'] = {}\n",
    "res['price']['reported'] = {}\n",
    "\n",
    "res['new']['reported']['precision'] = 0.5965\n",
    "res['new']['reported']['recall'] = 0.4811\n",
    "res['new']['reported']['f1'] = 0.4988\n",
    "\n",
    "res['price']['reported']['precision'] = 0.5844\n",
    "res['price']['reported']['recall'] = 0.4671\n",
    "res['price']['reported']['f1'] = 0.4947\n",
    "\n"
   ]
  },
  {
   "cell_type": "code",
   "execution_count": 45,
   "metadata": {},
   "outputs": [
    {
     "name": "stdout",
     "output_type": "stream",
     "text": [
      "reported [0.5965, 0.4811, 0.4988]\n",
      "clean [0.5846088435374149, 0.5791909620991254, 0.5716128117913832]\n",
      "esm [0.6007653061224489, 0.5977891156462585, 0.5866273890508584]\n"
     ]
    },
    {
     "data": {
      "image/png": "[encoded data removed]",
      "text/plain": [
       "<Figure size 640x480 with 1 Axes>"
      ]
     },
     "metadata": {},
     "output_type": "display_data"
    }
   ],
   "source": [
    "dataname = 'new'\n",
    "measures = ['Precision', 'Recall', 'F1']\n",
    "models = ['CLEAN', 'CF-CLEAN', 'CF-ESM']\n",
    "measure_ks = ['precision', 'recall', 'f1']\n",
    "model_ks = ['reported', 'clean', 'esm']\n",
    "colors = ['black', 'maroon', 'teal']\n",
    "\n",
    "# Width of each bar\n",
    "bar_width = 0.2\n",
    "\n",
    "# Set position of bar on X axis\n",
    "r0 = np.arange(len(measures))\n",
    "\n",
    "for i, elt in enumerate(model_ks):\n",
    "    data = [res[dataname][elt][mk] for mk in measure_ks]\n",
    "    print(elt, data)\n",
    "    ri = [x + bar_width * i for x in r0]\n",
    "    plt.bar(ri, data, color=colors[i], width=bar_width, label=models[i])\n",
    "\n",
    "\n",
    "# Add xticks on the middle of the group bars\n",
    "plt.title(f\"Dataset: {dataname}\")\n",
    "plt.xticks(r0 + bar_width, measures)\n",
    "plt.ylim(0, 1)\n",
    "\n",
    "# Add legend\n",
    "plt.legend()\n",
    "\n",
    "# Show plot\n",
    "plt.show()\n"
   ]
  },
  {
   "cell_type": "code",
   "execution_count": 8,
   "metadata": {},
   "outputs": [
    {
     "data": {
      "image/png": "[encoded data removed]",
      "text/plain": [
       "<Figure size 640x480 with 1 Axes>"
      ]
     },
     "metadata": {},
     "output_type": "display_data"
    },
    {
     "data": {
      "image/png": "[encoded data removed]",
      "text/plain": [
       "<Figure size 640x480 with 1 Axes>"
      ]
     },
     "metadata": {},
     "output_type": "display_data"
    }
   ],
   "source": [
    "fig, ax = plt.subplots()\n",
    "ax.plot(recall, precision)\n",
    "ax.set_title(f\"k={k}\")\n",
    "ax.set_ylabel(\"Precision\")\n",
    "ax.set_xlabel(\"Recall\")\n",
    "plt.show()\n",
    "\n",
    "fig, ax = plt.subplots()\n",
    "ax.plot(np.arange(len(thresholds_pr)+1), np.sqrt(recall*precision))\n",
    "ax.set_title(f\"k={k}\")\n",
    "ax.set_ylabel(\"F1\")\n",
    "ax.set_xlabel(\"\")\n",
    "plt.show()\n",
    "\n",
    "# fig, ax = plt.subplots()\n",
    "# ax.plot(fpr, tpr)\n",
    "# ax.set_title(f\"k={k}\")\n",
    "# ax.set_ylabel(\"True positive rate\")\n",
    "# ax.set_xlabel(\"False positive rate\")\n",
    "# plt.show()"
   ]
  },
  {
   "cell_type": "code",
   "execution_count": 11,
   "metadata": {
    "collapsed": true,
    "jupyter": {
     "outputs_hidden": true
    }
   },
   "outputs": [
    {
     "ename": "FileNotFoundError",
     "evalue": "[Errno 2] No such file or directory: '/scratch/spn1560/esm_swissprot_price_batch_0.npy'",
     "output_type": "error",
     "traceback": [
      "\u001b[0;31m---------------------------------------------------------------------------\u001b[0m",
      "\u001b[0;31mFileNotFoundError\u001b[0m                         Traceback (most recent call last)",
      "Cell \u001b[0;32mIn[11], line 4\u001b[0m\n\u001b[1;32m      2\u001b[0m path_pref \u001b[38;5;241m=\u001b[39m scratch_path \u001b[38;5;241m+\u001b[39m \u001b[38;5;124m\"\u001b[39m\u001b[38;5;124mesm_swissprot_price\u001b[39m\u001b[38;5;124m\"\u001b[39m\n\u001b[1;32m      3\u001b[0m path \u001b[38;5;241m=\u001b[39m path_pref \u001b[38;5;241m+\u001b[39m \u001b[38;5;124mf\u001b[39m\u001b[38;5;124m\"\u001b[39m\u001b[38;5;124m_batch_\u001b[39m\u001b[38;5;132;01m{\u001b[39;00m\u001b[38;5;241m0\u001b[39m\u001b[38;5;132;01m}\u001b[39;00m\u001b[38;5;124m.npy\u001b[39m\u001b[38;5;124m\"\u001b[39m\n\u001b[0;32m----> 4\u001b[0m sim_mat_i \u001b[38;5;241m=\u001b[39m \u001b[43mnp\u001b[49m\u001b[38;5;241;43m.\u001b[39;49m\u001b[43mload\u001b[49m\u001b[43m(\u001b[49m\u001b[43mpath\u001b[49m\u001b[43m)\u001b[49m\n\u001b[1;32m      5\u001b[0m \u001b[38;5;28mprint\u001b[39m(sim_mat_i\u001b[38;5;241m.\u001b[39mshape)\n",
      "File \u001b[0;32m~/.conda/envs/hiec/lib/python3.11/site-packages/numpy/lib/npyio.py:427\u001b[0m, in \u001b[0;36mload\u001b[0;34m(file, mmap_mode, allow_pickle, fix_imports, encoding, max_header_size)\u001b[0m\n\u001b[1;32m    425\u001b[0m     own_fid \u001b[38;5;241m=\u001b[39m \u001b[38;5;28;01mFalse\u001b[39;00m\n\u001b[1;32m    426\u001b[0m \u001b[38;5;28;01melse\u001b[39;00m:\n\u001b[0;32m--> 427\u001b[0m     fid \u001b[38;5;241m=\u001b[39m stack\u001b[38;5;241m.\u001b[39menter_context(\u001b[38;5;28mopen\u001b[39m(os_fspath(file), \u001b[38;5;124m\"\u001b[39m\u001b[38;5;124mrb\u001b[39m\u001b[38;5;124m\"\u001b[39m))\n\u001b[1;32m    428\u001b[0m     own_fid \u001b[38;5;241m=\u001b[39m \u001b[38;5;28;01mTrue\u001b[39;00m\n\u001b[1;32m    430\u001b[0m \u001b[38;5;66;03m# Code to distinguish from NumPy binary files and pickles.\u001b[39;00m\n",
      "\u001b[0;31mFileNotFoundError\u001b[0m: [Errno 2] No such file or directory: '/scratch/spn1560/esm_swissprot_price_batch_0.npy'"
     ]
    }
   ],
   "source": [
    "scratch_path = \"/scratch/spn1560/\"\n",
    "path_pref = scratch_path + \"esm_swissprot_price\"\n",
    "path = path_pref + f\"_batch_{0}.npy\"\n",
    "sim_mat_i = np.load(path)\n",
    "print(sim_mat_i.shape)\n"
   ]
  },
  {
   "cell_type": "code",
   "execution_count": 25,
   "metadata": {},
   "outputs": [
    {
     "name": "stdout",
     "output_type": "stream",
     "text": [
      "10.590832\n",
      "10.640622\n",
      "11.343944\n",
      "10.805798\n",
      "10.425579\n",
      "11.513602\n",
      "10.600709\n",
      "10.634103\n",
      "12.178757\n",
      "12.443545\n",
      "12.606191\n",
      "8.831824\n"
     ]
    }
   ],
   "source": [
    "from src.utils import load_embed\n",
    "import os\n",
    "\n",
    "data_path = \"../data/price/clean/\"\n",
    "i = 0\n",
    "for i, elt in enumerate(os.listdir(data_path)):\n",
    "    embed = load_embed(data_path + elt, embed_key=33)\n",
    "    vec = embed[1].numpy()\n",
    "    print(np.sqrt(np.sum(np.square(vec))))\n",
    "\n",
    "    if i > 10:\n",
    "        break"
   ]
  },
  {
   "cell_type": "code",
   "execution_count": 23,
   "metadata": {},
   "outputs": [
    {
     "name": "stdout",
     "output_type": "stream",
     "text": [
      "10.787686\n"
     ]
    }
   ],
   "source": [
    "vec = embed[1].numpy()\n",
    "print(np.sqrt(np.sum(np.square(vec))))"
   ]
  },
  {
   "cell_type": "code",
   "execution_count": 22,
   "metadata": {},
   "outputs": [
    {
     "data": {
      "text/plain": [
       "array([-0.35914874, -0.5546771 , -0.02330944,  1.2102946 ,  1.1753933 ,\n",
       "       -1.3948493 , -0.4389037 , -0.06948406,  0.6986161 ,  0.7969825 ,\n",
       "       -0.30878887, -0.6550534 ,  0.69950587, -0.05275437, -1.7028058 ,\n",
       "       -1.7440946 ,  0.65929055,  0.6128355 , -0.3147223 ,  0.20284715,\n",
       "       -0.3105805 , -1.2447166 ,  0.55994755, -0.9092405 ,  0.54558045,\n",
       "       -0.5650207 , -0.6138876 , -1.5364811 ,  1.8090861 ,  1.625701  ,\n",
       "        0.10622604, -0.21015751, -0.5487437 ,  1.8371991 ,  0.5535528 ,\n",
       "        1.4697859 , -0.1758765 , -0.19126022,  0.791849  ,  0.2977155 ,\n",
       "        3.2265441 ,  0.29740316, -0.0569251 ,  0.19134112, -1.6551871 ,\n",
       "       -0.03073689,  1.7440182 , -0.14862591, -2.0015135 , -1.5520581 ,\n",
       "       -0.34872842, -0.5257952 ,  0.23475365,  0.65958023,  0.36803275,\n",
       "       -2.1789584 , -0.27141753, -0.47230163, -0.07688963,  0.07856035,\n",
       "        1.2758445 , -0.8837034 ,  1.0963018 ,  0.8245394 ,  0.9546692 ,\n",
       "        0.27473712, -1.0440588 , -1.197263  ,  0.71054035, -1.0219134 ,\n",
       "        1.324233  ,  0.46712977, -0.625525  ,  0.12551856, -0.06769891,\n",
       "       -0.99850976, -0.6955371 ,  1.2616998 , -0.4484985 ,  0.32649893,\n",
       "       -1.378987  , -1.67994   , -0.20418137, -0.26562393,  1.494997  ,\n",
       "       -0.41106838, -0.87659836,  0.25204659,  1.7030938 ,  0.34929508,\n",
       "       -1.1789759 , -0.8083182 ,  0.22952709,  0.29032654, -0.2859114 ,\n",
       "       -0.3359582 ,  0.32983178, -0.591457  , -0.874781  ,  1.1004825 ,\n",
       "        0.5824734 ,  1.3734001 ,  0.10449588,  0.6618636 , -0.7103511 ,\n",
       "        0.24697165,  0.42157045,  1.2102816 ,  1.3329921 ,  0.19731319,\n",
       "       -1.8393013 , -0.09411355, -0.34309927, -0.47165734,  0.6900115 ,\n",
       "       -0.4330253 ,  0.17140111,  0.18391919, -0.98314637, -0.18426263,\n",
       "        1.7046435 , -0.7545804 , -0.9998442 , -0.18032368,  0.77534235,\n",
       "        1.5588123 , -1.585921  ,  0.8998873 ], dtype=float32)"
      ]
     },
     "execution_count": 22,
     "metadata": {},
     "output_type": "execute_result"
    }
   ],
   "source": [
    "vec"
   ]
  },
  {
   "cell_type": "markdown",
   "metadata": {},
   "source": [
    "# hygiene"
   ]
  },
  {
   "cell_type": "code",
   "execution_count": 1,
   "metadata": {},
   "outputs": [],
   "source": [
    "import pandas as pd"
   ]
  },
  {
   "cell_type": "code",
   "execution_count": 9,
   "metadata": {},
   "outputs": [
    {
     "name": "stdout",
     "output_type": "stream",
     "text": [
      "191460 unique sequences from 227362 total sequences\n",
      "# sequence overlaps w/ swissprot:  {'price': 0, 'new': 4, 'halogenase': 0}\n"
     ]
    }
   ],
   "source": [
    "test_datasets_names = ['price', 'new', 'halogenase']\n",
    "train_dataset_name = 'swissprot'\n",
    "data_pref = \"../data/\"\n",
    "overlaps = {}\n",
    "\n",
    "train_dataset = pd.read_csv(data_pref + f\"{train_dataset_name}/{train_dataset_name}.csv\", sep='\\t')\n",
    "n_total = len(train_dataset.loc[:, \"Sequence\"])\n",
    "train_sequences = set(train_dataset.loc[:, \"Sequence\"])\n",
    "print(f\"{len(train_sequences)} unique sequences from {n_total} total sequences\")\n",
    "for i, name in enumerate(test_datasets_names):\n",
    "    test_dataset = pd.read_csv(data_pref + f\"{name}/{name}.csv\", sep='\\t')\n",
    "    test_sequences = set(test_dataset.loc[:, \"Sequence\"])\n",
    "    overlaps[name] = len(train_sequences & test_sequences)\n",
    "\n",
    "print(\"# sequence overlaps w/ swissprot: \", overlaps)\n"
   ]
  }
 ],
 "metadata": {
  "kernelspec": {
   "display_name": "Python 3 (ipykernel)",
   "language": "python",
   "name": "python3"
  },
  "language_info": {
   "codemirror_mode": {
    "name": "ipython",
    "version": 3
   },
   "file_extension": ".py",
   "mimetype": "text/x-python",
   "name": "python",
   "nbconvert_exporter": "python",
   "pygments_lexer": "ipython3",
   "version": "3.11.0"
  }
 },
 "nbformat": 4,
 "nbformat_minor": 4
}
