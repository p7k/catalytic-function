{
 "cells": [
  {
   "cell_type": "code",
   "execution_count": 1,
   "metadata": {},
   "outputs": [],
   "source": [
    "import os\n",
    "import torch\n",
    "from chemprop import models\n",
    "from chemprop.data import build_dataloader\n",
    "import numpy as np\n",
    "import pandas as pd\n",
    "from lightning import pytorch as pl\n",
    "from sklearn.metrics import f1_score, precision_score, recall_score, accuracy_score\n",
    "from src.utils import load_known_rxns\n",
    "from src.featurizer import RCVNReactionMolGraphFeaturizer, MultiHotAtomFeaturizer, MultiHotBondFeaturizer\n",
    "from src.data import RxnRCDatapoint, RxnRCDataset"
   ]
  },
  {
   "cell_type": "code",
   "execution_count": 2,
   "metadata": {},
   "outputs": [],
   "source": [
    "ds_name = 'sprhea'\n",
    "toc = 'sp_folded_pt'\n",
    "gs_name = 'two_channel_mean_agg_binaryffn_pred_neg_1'\n",
    "seed = 1234\n",
    "neg_multiple = 1\n",
    "known_rxns = load_known_rxns(f\"./data/{ds_name}/known_rxns_{toc}.json\")\n",
    "n_epochs = 25"
   ]
  },
  {
   "cell_type": "code",
   "execution_count": 3,
   "metadata": {},
   "outputs": [
    {
     "name": "stderr",
     "output_type": "stream",
     "text": [
      "/home/spn1560/.conda/envs/hiec/lib/python3.11/site-packages/lightning/fabric/plugins/environments/slurm.py:204: The `srun` command is available on your system but is not used. HINT: If your intention is to run Lightning on SLURM, prepend your python command with `srun` like so: srun python /home/spn1560/.conda/envs/hiec/lib/python3.11/site-p ...\n",
      "GPU available: False, used: False\n",
      "TPU available: False, using: 0 TPU cores\n",
      "IPU available: False, using: 0 IPUs\n",
      "HPU available: False, using: 0 HPUs\n",
      "/home/spn1560/.conda/envs/hiec/lib/python3.11/site-packages/lightning/pytorch/trainer/connectors/logger_connector/logger_connector.py:75: Starting from v1.9.0, `tensorboardX` has been removed as a dependency of the `lightning.pytorch` package, due to potential conflicts with other packages in the ML ecosystem. For this reason, `logger=True` will use `CSVLogger` as the default logger, unless the `tensorboard` or `tensorboardX` packages are found. Please `pip install lightning[extra]` or one of them to enable TensorBoard support by default\n",
      "/home/spn1560/.conda/envs/hiec/lib/python3.11/site-packages/lightning/fabric/plugins/environments/slurm.py:204: The `srun` command is available on your system but is not used. HINT: If your intention is to run Lightning on SLURM, prepend your python command with `srun` like so: srun python /home/spn1560/.conda/envs/hiec/lib/python3.11/site-p ...\n",
      "/home/spn1560/.conda/envs/hiec/lib/python3.11/site-packages/lightning/pytorch/trainer/connectors/data_connector.py:441: The 'predict_dataloader' does not have many workers which may be a bottleneck. Consider increasing the value of the `num_workers` argument` to `num_workers=51` in the `DataLoader` to improve performance.\n"
     ]
    },
    {
     "data": {
      "application/vnd.jupyter.widget-view+json": {
       "model_id": "e63a01acfadf45de9375918f94cdf565",
       "version_major": 2,
       "version_minor": 0
      },
      "text/plain": [
       "Predicting: |          | 0/? [00:00<?, ?it/s]"
      ]
     },
     "metadata": {},
     "output_type": "display_data"
    }
   ],
   "source": [
    "model_pref = f\"/projects/p30041/spn1560/hiec/artifacts/model_evals/gnn/{gs_name}_{ds_name}_{toc}_{n_epochs}_epochs_seed_1234_split_\"\n",
    "n_splits = 5\n",
    "featurizer = RCVNReactionMolGraphFeaturizer(\n",
    "    atom_featurizer=MultiHotAtomFeaturizer.no_stereo(),\n",
    "    bond_featurizer=MultiHotBondFeaturizer()\n",
    ")\n",
    "\n",
    "for i in range(n_splits):\n",
    "    model_dir = model_pref + f\"{i+1}_of_{n_splits}/version_0/checkpoints\"\n",
    "    fn = os.listdir(model_dir)[0]\n",
    "    model_path = model_dir + f\"/{fn}\"\n",
    "    mpnn = models.MPNN.load_from_file(model_path, map_location=torch.device('cpu'))\n",
    "    test_data_path = f\"/scratch/spn1560/{ds_name}_{toc}_{n_splits}_splits_{seed}_seed_{neg_multiple}_neg_multiple_{i}_split_idx_test.npy\"\n",
    "    test_data = np.load(test_data_path)\n",
    "\n",
    "    datapoints_test = []\n",
    "    for row in test_data[:100]:\n",
    "        rxn = known_rxns[row['feature']]\n",
    "        y = np.array([row['y']])\n",
    "        datapoints_test.append(RxnRCDatapoint.from_smi(rxn, y=y, x_d=row['sample_embed']))\n",
    "\n",
    "    dataset_test = RxnRCDataset(datapoints_test, featurizer=featurizer)\n",
    "\n",
    "    data_loader_test = build_dataloader(dataset_test, shuffle=False)\n",
    "\n",
    "    # break\n",
    "    # Test\n",
    "    with torch.inference_mode():\n",
    "        trainer = pl.Trainer(\n",
    "            logger=None,\n",
    "            enable_progress_bar=True,\n",
    "            accelerator=\"cpu\",\n",
    "            devices=1\n",
    "        )\n",
    "        test_preds = trainer.predict(mpnn, data_loader_test)\n",
    "\n",
    "    break"
   ]
  },
  {
   "cell_type": "code",
   "execution_count": 5,
   "metadata": {},
   "outputs": [
    {
     "name": "stdout",
     "output_type": "stream",
     "text": [
      "{'f1': 0.0, 'precision': 0.0, 'recall': 0.0, 'accuracy': 0.0}\n"
     ]
    },
    {
     "name": "stderr",
     "output_type": "stream",
     "text": [
      "/home/spn1560/.conda/envs/hiec/lib/python3.11/site-packages/sklearn/metrics/_classification.py:1469: UndefinedMetricWarning: Precision is ill-defined and being set to 0.0 due to no predicted samples. Use `zero_division` parameter to control this behavior.\n",
      "  _warn_prf(average, modifier, msg_start, len(result))\n"
     ]
    }
   ],
   "source": [
    "logits = np.vstack(test_preds)\n",
    "y_pred = (logits > 0.5).astype(np.int64).reshape(-1,)\n",
    "y_true = test_data['y'][:100]\n",
    "\n",
    "scorers = {\n",
    "    'f1': lambda y_true, y_pred: f1_score(y_true, y_pred),\n",
    "    'precision': lambda y_true, y_pred: precision_score(y_true, y_pred),\n",
    "    'recall': lambda y_true, y_pred: recall_score(y_true, y_pred),\n",
    "    'accuracy': accuracy_score\n",
    "}\n",
    "\n",
    "scores = {}\n",
    "\n",
    "for k, scorer in scorers.items():\n",
    "    scores[k] = scorer(y_true, y_pred)\n",
    "\n",
    "print(scores)"
   ]
  },
  {
   "cell_type": "code",
   "execution_count": 39,
   "metadata": {},
   "outputs": [
    {
     "data": {
      "text/html": [
       "<div>\n",
       "<style scoped>\n",
       "    .dataframe tbody tr th:only-of-type {\n",
       "        vertical-align: middle;\n",
       "    }\n",
       "\n",
       "    .dataframe tbody tr th {\n",
       "        vertical-align: top;\n",
       "    }\n",
       "\n",
       "    .dataframe thead th {\n",
       "        text-align: right;\n",
       "    }\n",
       "</style>\n",
       "<table border=\"1\" class=\"dataframe\">\n",
       "  <thead>\n",
       "    <tr style=\"text-align: right;\">\n",
       "      <th></th>\n",
       "      <th>epoch</th>\n",
       "      <th>step</th>\n",
       "      <th>train_loss</th>\n",
       "    </tr>\n",
       "  </thead>\n",
       "  <tbody>\n",
       "    <tr>\n",
       "      <th>0</th>\n",
       "      <td>0</td>\n",
       "      <td>49</td>\n",
       "      <td>0.062064</td>\n",
       "    </tr>\n",
       "    <tr>\n",
       "      <th>1</th>\n",
       "      <td>0</td>\n",
       "      <td>99</td>\n",
       "      <td>0.026067</td>\n",
       "    </tr>\n",
       "    <tr>\n",
       "      <th>2</th>\n",
       "      <td>0</td>\n",
       "      <td>149</td>\n",
       "      <td>0.011338</td>\n",
       "    </tr>\n",
       "    <tr>\n",
       "      <th>3</th>\n",
       "      <td>0</td>\n",
       "      <td>199</td>\n",
       "      <td>0.002683</td>\n",
       "    </tr>\n",
       "    <tr>\n",
       "      <th>4</th>\n",
       "      <td>0</td>\n",
       "      <td>249</td>\n",
       "      <td>0.000590</td>\n",
       "    </tr>\n",
       "  </tbody>\n",
       "</table>\n",
       "</div>"
      ],
      "text/plain": [
       "   epoch  step  train_loss\n",
       "0      0    49    0.062064\n",
       "1      0    99    0.026067\n",
       "2      0   149    0.011338\n",
       "3      0   199    0.002683\n",
       "4      0   249    0.000590"
      ]
     },
     "execution_count": 39,
     "metadata": {},
     "output_type": "execute_result"
    }
   ],
   "source": [
    "# Loss curves\n",
    "\n",
    "path_lc = f\"/projects/p30041/spn1560/hiec/artifacts/model_evals/gnn/two_channel_mean_agg_binaryffn_pred_neg_1_sprhea_sp_folded_pt_25_epochs_seed_1234_split_2_of_5/version_0/metrics.csv\"\n",
    "lc = pd.read_csv(path_lc, sep=',')\n",
    "lc.head()"
   ]
  },
  {
   "cell_type": "code",
   "execution_count": 40,
   "metadata": {},
   "outputs": [
    {
     "data": {
      "text/plain": [
       "<Axes: xlabel='epoch'>"
      ]
     },
     "execution_count": 40,
     "metadata": {},
     "output_type": "execute_result"
    },
    {
     "data": {
      "image/png": "[encoded data removed]",
      "text/plain": [
       "<Figure size 640x480 with 1 Axes>"
      ]
     },
     "metadata": {},
     "output_type": "display_data"
    }
   ],
   "source": [
    "\n",
    "ep_ave_lc = lc.groupby('epoch').agg('mean').reset_index()\n",
    "ep_ave_lc.plot(x='epoch', y='train_loss')"
   ]
  },
  {
   "cell_type": "code",
   "execution_count": 8,
   "metadata": {},
   "outputs": [
    {
     "data": {
      "text/plain": [
       "array([([-1.36408299e-01,  1.70078695e-01, -4.10419963e-02, ...,  5.00185154e-02, -7.75842145e-02,  9.05845314e-02], 'R84126efbb9122177f50f81fcff58422c31a5cf7ef7254420a381ce0f8ade1ec8', 1),\n",
       "       ([-5.85509576e-02,  2.77130008e-01, -5.79889677e-02, ...,  5.12429625e-02, -1.62841991e-01, -1.20348610e-01], 'R84126efbb9122177f50f81fcff58422c31a5cf7ef7254420a381ce0f8ade1ec8', 1),\n",
       "       ([ 8.31682459e-02,  1.53674260e-01, -2.82920245e-02, ...,  3.63271832e-02, -1.04916975e-01,  1.04078010e-01], 'R84126efbb9122177f50f81fcff58422c31a5cf7ef7254420a381ce0f8ade1ec8', 1)],\n",
       "      dtype=[('sample_embed', '<f4', (1280,)), ('feature', '<U100'), ('y', '<i8')])"
      ]
     },
     "execution_count": 8,
     "metadata": {},
     "output_type": "execute_result"
    }
   ],
   "source": [
    "# Count train data size\n",
    "\n",
    "train_path = \"/scratch/spn1560/sprhea_sp_folded_pt_5_splits_1234_seed_1_neg_multiple_0_split_idx_train.npy\"\n",
    "train_data = np.load(train_path)\n",
    "train_data[:3]"
   ]
  },
  {
   "cell_type": "code",
   "execution_count": 10,
   "metadata": {},
   "outputs": [
    {
     "data": {
      "text/plain": [
       "87586"
      ]
     },
     "execution_count": 10,
     "metadata": {},
     "output_type": "execute_result"
    }
   ],
   "source": [
    "len(train_data)"
   ]
  },
  {
   "cell_type": "code",
   "execution_count": 38,
   "metadata": {},
   "outputs": [
    {
     "data": {
      "text/plain": [
       "((43793,), (43793,))"
      ]
     },
     "execution_count": 38,
     "metadata": {},
     "output_type": "execute_result"
    }
   ],
   "source": [
    "labels = train_data['y']\n",
    "labels[labels == 1].shape, labels[labels == 0].shape"
   ]
  },
  {
   "cell_type": "code",
   "execution_count": 60,
   "metadata": {},
   "outputs": [
    {
     "data": {
      "text/html": [
       "<div>\n",
       "<style scoped>\n",
       "    .dataframe tbody tr th:only-of-type {\n",
       "        vertical-align: middle;\n",
       "    }\n",
       "\n",
       "    .dataframe tbody tr th {\n",
       "        vertical-align: top;\n",
       "    }\n",
       "\n",
       "    .dataframe thead th {\n",
       "        text-align: right;\n",
       "    }\n",
       "</style>\n",
       "<table border=\"1\" class=\"dataframe\">\n",
       "  <thead>\n",
       "    <tr style=\"text-align: right;\">\n",
       "      <th></th>\n",
       "      <th>Entry</th>\n",
       "      <th>Label</th>\n",
       "      <th>Sequence</th>\n",
       "    </tr>\n",
       "  </thead>\n",
       "  <tbody>\n",
       "    <tr>\n",
       "      <th>0</th>\n",
       "      <td>Q0WSX8</td>\n",
       "      <td>R84126efbb9122177f50f81fcff58422c31a5cf7ef7254...</td>\n",
       "      <td>MDEQVQEPLSDQVFINFRGDELREIFVNHLELQLRNAGINVFIDTK...</td>\n",
       "    </tr>\n",
       "    <tr>\n",
       "      <th>1</th>\n",
       "      <td>Q01638</td>\n",
       "      <td>R84126efbb9122177f50f81fcff58422c31a5cf7ef7254...</td>\n",
       "      <td>MGFWILAILTILMYSTAAKFSKQSWGLENEALIVRCPRQGKPSYTV...</td>\n",
       "    </tr>\n",
       "    <tr>\n",
       "      <th>2</th>\n",
       "      <td>O05442</td>\n",
       "      <td>R84126efbb9122177f50f81fcff58422c31a5cf7ef7254...</td>\n",
       "      <td>MAPLAVDPAALDSAGGAVVAAGAGLGAVISSLTAALAGCAGMAGDD...</td>\n",
       "    </tr>\n",
       "    <tr>\n",
       "      <th>3</th>\n",
       "      <td>Q2KHU5</td>\n",
       "      <td>Rc9681a11a594bad8642cf49339e1b320b7f96c180e55d...</td>\n",
       "      <td>MFLQSRVSRLLAQLRAAGQLLGAPRPWPGPSPGATRTRSSACGPPA...</td>\n",
       "    </tr>\n",
       "    <tr>\n",
       "      <th>4</th>\n",
       "      <td>Q61098</td>\n",
       "      <td>R84126efbb9122177f50f81fcff58422c31a5cf7ef7254...</td>\n",
       "      <td>MHHEELILTLCILIVKSASKSCIHRSQIHVVEGEPFYLKPCGISAP...</td>\n",
       "    </tr>\n",
       "  </tbody>\n",
       "</table>\n",
       "</div>"
      ],
      "text/plain": [
       "    Entry                                              Label  \\\n",
       "0  Q0WSX8  R84126efbb9122177f50f81fcff58422c31a5cf7ef7254...   \n",
       "1  Q01638  R84126efbb9122177f50f81fcff58422c31a5cf7ef7254...   \n",
       "2  O05442  R84126efbb9122177f50f81fcff58422c31a5cf7ef7254...   \n",
       "3  Q2KHU5  Rc9681a11a594bad8642cf49339e1b320b7f96c180e55d...   \n",
       "4  Q61098  R84126efbb9122177f50f81fcff58422c31a5cf7ef7254...   \n",
       "\n",
       "                                            Sequence  \n",
       "0  MDEQVQEPLSDQVFINFRGDELREIFVNHLELQLRNAGINVFIDTK...  \n",
       "1  MGFWILAILTILMYSTAAKFSKQSWGLENEALIVRCPRQGKPSYTV...  \n",
       "2  MAPLAVDPAALDSAGGAVVAAGAGLGAVISSLTAALAGCAGMAGDD...  \n",
       "3  MFLQSRVSRLLAQLRAAGQLLGAPRPWPGPSPGATRTRSSACGPPA...  \n",
       "4  MHHEELILTLCILIVKSASKSCIHRSQIHVVEGEPFYLKPCGISAP...  "
      ]
     },
     "execution_count": 60,
     "metadata": {},
     "output_type": "execute_result"
    }
   ],
   "source": [
    "import src\n",
    "df = pd.read_csv('./data/sprhea/sp_folded_pt_test.csv', sep='\\t')\n",
    "krs = src.utils.load_json('./data/sprhea/known_rxns_sp_folded_pt_test.json')\n",
    "df.head()"
   ]
  },
  {
   "cell_type": "code",
   "execution_count": 61,
   "metadata": {},
   "outputs": [],
   "source": [
    "to_save = {}\n",
    "for i, row in df.iterrows():\n",
    "    for rid in row['Label'].split(';'):\n",
    "        to_save[rid] = krs[rid]"
   ]
  },
  {
   "cell_type": "code",
   "execution_count": 62,
   "metadata": {},
   "outputs": [],
   "source": [
    "src.utils.save_json(to_save, \"./data/sprhea/known_rxns_sp_folded_pt_test.json\")"
   ]
  },
  {
   "cell_type": "code",
   "execution_count": 4,
   "metadata": {},
   "outputs": [
    {
     "name": "stdout",
     "output_type": "stream",
     "text": [
      "Data successfully appended to /projects/p30041/spn1560/hiec/artifacts/model_evals/gnn/two_channel_mean_agg_binaryffn_pred_neg_1_shuffle_batches_sprhea_sp_folded_pt_20p_25_epochs_seed_1234_split_1_of_2/version_0/hparams.yaml\n"
     ]
    }
   ],
   "source": [
    "import yaml\n",
    "\n",
    "# Existing YAML file path\n",
    "file_path = '/projects/p30041/spn1560/hiec/artifacts/model_evals/gnn/two_channel_mean_agg_binaryffn_pred_neg_1_shuffle_batches_sprhea_sp_folded_pt_20p_25_epochs_seed_1234_split_1_of_2/version_0/hparams.yaml'\n",
    "\n",
    "# Data to append (could be a dictionary, list, etc.)\n",
    "data_to_append = {\n",
    "    'new_key': 'new_value',\n",
    "    'another_key': ['a', 'b', 'c']\n",
    "}\n",
    "\n",
    "# Load existing YAML data\n",
    "with open(file_path, 'r') as file:\n",
    "    existing_data = yaml.safe_load(file)\n",
    "\n",
    "# Append new data to existing data\n",
    "existing_data.update(data_to_append)\n",
    "\n",
    "# Write combined data back to YAML file\n",
    "with open(file_path, 'w') as file:\n",
    "    yaml.dump(existing_data, file)\n",
    "\n",
    "print(f'Data successfully appended to {file_path}')\n"
   ]
  },
  {
   "cell_type": "code",
   "execution_count": 2,
   "metadata": {},
   "outputs": [
    {
     "data": {
      "text/plain": [
       "{'batch_norm': True,\n",
       " 'metrics': None,\n",
       " 'warmup_epochs': 2,\n",
       " 'init_lr': 0.0001,\n",
       " 'max_lr': 0.001,\n",
       " 'final_lr': 0.0001,\n",
       " 'X_d_transform': None}"
      ]
     },
     "execution_count": 2,
     "metadata": {},
     "output_type": "execute_result"
    }
   ],
   "source": [
    "existing_data"
   ]
  },
  {
   "cell_type": "code",
   "execution_count": 3,
   "metadata": {},
   "outputs": [
    {
     "name": "stdout",
     "output_type": "stream",
     "text": [
      "Data successfully appended to /projects/p30041/spn1560/hiec/artifacts/model_evals/gnn/two_channel_mean_agg_binaryffn_pred_neg_1_shuffle_batches_sprhea_sp_folded_pt_20p_25_epochs_seed_1234_split_1_of_2/version_0/hparams.yaml\n"
     ]
    }
   ],
   "source": [
    "\n",
    "\n"
   ]
  }
 ],
 "metadata": {
  "kernelspec": {
   "display_name": "hiec",
   "language": "python",
   "name": "python3"
  },
  "language_info": {
   "codemirror_mode": {
    "name": "ipython",
    "version": 3
   },
   "file_extension": ".py",
   "mimetype": "text/x-python",
   "name": "python",
   "nbconvert_exporter": "python",
   "pygments_lexer": "ipython3",
   "version": "3.11.0"
  }
 },
 "nbformat": 4,
 "nbformat_minor": 2
}
