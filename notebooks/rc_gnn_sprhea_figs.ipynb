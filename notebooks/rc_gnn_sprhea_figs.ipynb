{
 "cells": [
  {
   "cell_type": "code",
   "execution_count": 21,
   "metadata": {},
   "outputs": [],
   "source": [
    "import os\n",
    "import torch\n",
    "from chemprop import models\n",
    "from chemprop.data import build_dataloader\n",
    "import numpy as np\n",
    "import pandas as pd\n",
    "from lightning import pytorch as pl\n",
    "from sklearn.metrics import f1_score, precision_score, recall_score, accuracy_score\n",
    "from src.utils import load_known_rxns\n",
    "from src.featurizer import RCVNReactionMolGraphFeaturizer, MultiHotAtomFeaturizer, MultiHotBondFeaturizer\n",
    "from src.data import RxnRCDatapoint, RxnRCDataset"
   ]
  },
  {
   "cell_type": "code",
   "execution_count": null,
   "metadata": {},
   "outputs": [],
   "source": [
    "ds_name = 'sprhea'\n",
    "toc = 'sp_folded_pt'\n",
    "gs_name = 'rc_gnn_two_channel_mean_agg_binaryffn_pred_neg_1'\n",
    "seed = 1234\n",
    "neg_multiple = 1\n",
    "known_rxns = load_known_rxns(f\"../data/{ds_name}/known_rxns_{toc}.json\")"
   ]
  },
  {
   "cell_type": "code",
   "execution_count": null,
   "metadata": {},
   "outputs": [],
   "source": [
    "model_pref = f\"/projects/p30041/spn1560/hiec/artifacts/model_evals/gnn/{gs_name}_{ds_name}_{toc}_epochs_seed_1234_split_\"\n",
    "n_splits = 5\n",
    "featurizer = RCVNReactionMolGraphFeaturizer(\n",
    "    atom_featurizer=MultiHotAtomFeaturizer.no_stereo(),\n",
    "    bond_featurizer=MultiHotBondFeaturizer()\n",
    ")\n",
    "\n",
    "for i in range(n_splits):\n",
    "    model_dir = model_pref + f\"{i+1}_of_{n_splits}/version_0/checkpoints/\"\n",
    "    fn = os.listdir(model_path)[0]\n",
    "    model_path = model_dir + fn\n",
    "    mpnn = models.MPNN.load_from_file(model_path, map_location=torch.device('cpu'))\n",
    "    test_data_path = f\"/scratch/spn1560/{ds_name}_{toc}_{n_splits}_splits_{seed}_seed_{neg_multiple}_neg_multiple_{i}_split_idx_test.npy\"\n",
    "    test_data = np.load(test_data_path)\n",
    "\n",
    "    datapoints_test = []\n",
    "    for row in test_data:\n",
    "        rxn = known_rxns[row['feature']]\n",
    "        y = np.array([row['y']])\n",
    "        datapoints_test.append(RxnRCDatapoint.from_smi(rxn, y=y, x_d=row['sample_embed']))\n",
    "\n",
    "    dataset_test = RxnRCDataset(datapoints_test, featurizer=featurizer)\n",
    "\n",
    "    data_loader_test = build_dataloader(dataset_test, shuffle=False)\n",
    "\n",
    "\n",
    "    # Test\n",
    "    with torch.inference_mode():\n",
    "        trainer = pl.Trainer(\n",
    "            logger=None,\n",
    "            enable_progress_bar=True,\n",
    "            accelerator=\"cpu\",\n",
    "            devices=1\n",
    "        )\n",
    "        test_preds = trainer.predict(mpnn, data_loader_test)"
   ]
  },
  {
   "cell_type": "code",
   "execution_count": null,
   "metadata": {},
   "outputs": [],
   "source": [
    "# test_preds = np.concatenate(test_preds, axis=0).reshape(-1, n_classes)\n",
    "y_pred = np.argmax(test_preds, axis=1).reshape(-1,)\n",
    "y_true = dataset_test.Y.reshape(-1,)\n",
    "\n",
    "scorers = {\n",
    "    'f1': lambda y_true, y_pred: f1_score(y_true, y_pred, average='macro'),\n",
    "    'precision': lambda y_true, y_pred: precision_score(y_true, y_pred, average='macro'),\n",
    "    'recall': lambda y_true, y_pred: recall_score(y_true, y_pred, average='macro'),\n",
    "    'accuracy': accuracy_score\n",
    "}\n",
    "\n",
    "scores = {}\n",
    "\n",
    "for k, scorer in scorers.items():\n",
    "    scores[k] = scorer(y_true, y_pred)\n",
    "\n",
    "print(scores)"
   ]
  },
  {
   "cell_type": "code",
   "execution_count": 4,
   "metadata": {},
   "outputs": [],
   "source": [
    "'''\n",
    "Check for data leak between train and test negatives\n",
    "'''\n",
    "train = np.load(\"/scratch/spn1560/sprhea_sp_folded_pt_5_splits_1234_seed_1_neg_multiple_1_split_idx_train.npy\")\n",
    "test = np.load(\"/scratch/spn1560/sprhea_sp_folded_pt_5_splits_1234_seed_1_neg_multiple_1_split_idx_test.npy\")"
   ]
  },
  {
   "cell_type": "code",
   "execution_count": 22,
   "metadata": {},
   "outputs": [
    {
     "data": {
      "text/html": [
       "<div>\n",
       "<style scoped>\n",
       "    .dataframe tbody tr th:only-of-type {\n",
       "        vertical-align: middle;\n",
       "    }\n",
       "\n",
       "    .dataframe tbody tr th {\n",
       "        vertical-align: top;\n",
       "    }\n",
       "\n",
       "    .dataframe thead th {\n",
       "        text-align: right;\n",
       "    }\n",
       "</style>\n",
       "<table border=\"1\" class=\"dataframe\">\n",
       "  <thead>\n",
       "    <tr style=\"text-align: right;\">\n",
       "      <th></th>\n",
       "      <th>Unnamed: 0</th>\n",
       "      <th>train/test</th>\n",
       "      <th>split_idx</th>\n",
       "      <th>X1</th>\n",
       "      <th>X2</th>\n",
       "      <th>y</th>\n",
       "    </tr>\n",
       "  </thead>\n",
       "  <tbody>\n",
       "    <tr>\n",
       "      <th>0</th>\n",
       "      <td>0</td>\n",
       "      <td>train</td>\n",
       "      <td>0</td>\n",
       "      <td>0</td>\n",
       "      <td>0</td>\n",
       "      <td>1.0</td>\n",
       "    </tr>\n",
       "    <tr>\n",
       "      <th>1</th>\n",
       "      <td>1</td>\n",
       "      <td>train</td>\n",
       "      <td>0</td>\n",
       "      <td>1</td>\n",
       "      <td>0</td>\n",
       "      <td>1.0</td>\n",
       "    </tr>\n",
       "    <tr>\n",
       "      <th>2</th>\n",
       "      <td>2</td>\n",
       "      <td>train</td>\n",
       "      <td>0</td>\n",
       "      <td>2</td>\n",
       "      <td>0</td>\n",
       "      <td>1.0</td>\n",
       "    </tr>\n",
       "    <tr>\n",
       "      <th>3</th>\n",
       "      <td>3</td>\n",
       "      <td>train</td>\n",
       "      <td>0</td>\n",
       "      <td>3</td>\n",
       "      <td>0</td>\n",
       "      <td>1.0</td>\n",
       "    </tr>\n",
       "    <tr>\n",
       "      <th>4</th>\n",
       "      <td>4</td>\n",
       "      <td>train</td>\n",
       "      <td>0</td>\n",
       "      <td>3</td>\n",
       "      <td>1</td>\n",
       "      <td>1.0</td>\n",
       "    </tr>\n",
       "  </tbody>\n",
       "</table>\n",
       "</div>"
      ],
      "text/plain": [
       "   Unnamed: 0 train/test  split_idx  X1  X2    y\n",
       "0           0      train          0   0   0  1.0\n",
       "1           1      train          0   1   0  1.0\n",
       "2           2      train          0   2   0  1.0\n",
       "3           3      train          0   3   0  1.0\n",
       "4           4      train          0   3   1  1.0"
      ]
     },
     "execution_count": 22,
     "metadata": {},
     "output_type": "execute_result"
    }
   ],
   "source": [
    "guide = pd.read_csv(\"/scratch/spn1560/sprhea_sp_folded_pt_5_splits_1234_seed_1_neg_multiple.csv\", sep='\\t')\n",
    "guide.head()"
   ]
  },
  {
   "cell_type": "code",
   "execution_count": 23,
   "metadata": {},
   "outputs": [
    {
     "data": {
      "text/html": [
       "<div>\n",
       "<style scoped>\n",
       "    .dataframe tbody tr th:only-of-type {\n",
       "        vertical-align: middle;\n",
       "    }\n",
       "\n",
       "    .dataframe tbody tr th {\n",
       "        vertical-align: top;\n",
       "    }\n",
       "\n",
       "    .dataframe thead th {\n",
       "        text-align: right;\n",
       "    }\n",
       "</style>\n",
       "<table border=\"1\" class=\"dataframe\">\n",
       "  <thead>\n",
       "    <tr style=\"text-align: right;\">\n",
       "      <th></th>\n",
       "      <th>Unnamed: 0</th>\n",
       "      <th>train/test</th>\n",
       "      <th>split_idx</th>\n",
       "      <th>X1</th>\n",
       "      <th>X2</th>\n",
       "      <th>y</th>\n",
       "    </tr>\n",
       "  </thead>\n",
       "  <tbody>\n",
       "  </tbody>\n",
       "</table>\n",
       "</div>"
      ],
      "text/plain": [
       "Empty DataFrame\n",
       "Columns: [Unnamed: 0, train/test, split_idx, X1, X2, y]\n",
       "Index: []"
      ]
     },
     "execution_count": 23,
     "metadata": {},
     "output_type": "execute_result"
    }
   ],
   "source": [
    "guide.loc[(guide['train/test'] == 'train') & (guide['y'] == 0)]"
   ]
  },
  {
   "cell_type": "code",
   "execution_count": 11,
   "metadata": {},
   "outputs": [
    {
     "data": {
      "text/plain": [
       "False"
      ]
     },
     "execution_count": 11,
     "metadata": {},
     "output_type": "execute_result"
    }
   ],
   "source": [
    "np.any(test['y'] == 0)"
   ]
  },
  {
   "cell_type": "code",
   "execution_count": 20,
   "metadata": {},
   "outputs": [
    {
     "data": {
      "text/plain": [
       "(array([979, 976, 987]), array([380, 171, 923]))"
      ]
     },
     "execution_count": 20,
     "metadata": {},
     "output_type": "execute_result"
    }
   ],
   "source": [
    "def f(seed):\n",
    "    rng = np.random.default_rng(seed=seed)\n",
    "    tr = sample_more(rng)\n",
    "    te = sample_more(rng)\n",
    "    return tr, te\n",
    "\n",
    "def sample_more(rng):\n",
    "    return rng.integers(0, 1000, size=3)\n",
    "\n",
    "f(1234)"
   ]
  }
 ],
 "metadata": {
  "kernelspec": {
   "display_name": "hiec",
   "language": "python",
   "name": "python3"
  },
  "language_info": {
   "codemirror_mode": {
    "name": "ipython",
    "version": 3
   },
   "file_extension": ".py",
   "mimetype": "text/x-python",
   "name": "python",
   "nbconvert_exporter": "python",
   "pygments_lexer": "ipython3",
   "version": "3.11.0"
  }
 },
 "nbformat": 4,
 "nbformat_minor": 2
}
