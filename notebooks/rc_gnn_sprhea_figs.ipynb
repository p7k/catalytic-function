{
 "cells": [
  {
   "cell_type": "code",
   "execution_count": 1,
   "metadata": {},
   "outputs": [],
   "source": [
    "import os\n",
    "import pandas as pd\n",
    "import numpy as np\n",
    "import matplotlib.pyplot as plt\n",
    "from collections import defaultdict\n",
    "from src.utils import load_json"
   ]
  },
  {
   "cell_type": "code",
   "execution_count": 16,
   "metadata": {},
   "outputs": [
    {
     "data": {
      "text/html": [
       "<div>\n",
       "<style scoped>\n",
       "    .dataframe tbody tr th:only-of-type {\n",
       "        vertical-align: middle;\n",
       "    }\n",
       "\n",
       "    .dataframe tbody tr th {\n",
       "        vertical-align: top;\n",
       "    }\n",
       "\n",
       "    .dataframe thead th {\n",
       "        text-align: right;\n",
       "    }\n",
       "</style>\n",
       "<table border=\"1\" class=\"dataframe\">\n",
       "  <thead>\n",
       "    <tr style=\"text-align: right;\">\n",
       "      <th></th>\n",
       "      <th>n_epochs</th>\n",
       "      <th>pred_head</th>\n",
       "      <th>message_passing</th>\n",
       "      <th>agg</th>\n",
       "      <th>d_h_mpnn</th>\n",
       "      <th>model</th>\n",
       "      <th>featurizer</th>\n",
       "    </tr>\n",
       "  </thead>\n",
       "  <tbody>\n",
       "    <tr>\n",
       "      <th>0</th>\n",
       "      <td>25</td>\n",
       "      <td>binary</td>\n",
       "      <td>bondwise_dict</td>\n",
       "      <td>attention</td>\n",
       "      <td>20</td>\n",
       "      <td>mpnn_dim_red</td>\n",
       "      <td>rxn_rc</td>\n",
       "    </tr>\n",
       "    <tr>\n",
       "      <th>1</th>\n",
       "      <td>25</td>\n",
       "      <td>binary</td>\n",
       "      <td>bondwise_dict</td>\n",
       "      <td>attention</td>\n",
       "      <td>50</td>\n",
       "      <td>mpnn_dim_red</td>\n",
       "      <td>rxn_rc</td>\n",
       "    </tr>\n",
       "    <tr>\n",
       "      <th>2</th>\n",
       "      <td>25</td>\n",
       "      <td>binary</td>\n",
       "      <td>bondwise_dict</td>\n",
       "      <td>attention</td>\n",
       "      <td>300</td>\n",
       "      <td>mpnn_dim_red</td>\n",
       "      <td>rxn_rc</td>\n",
       "    </tr>\n",
       "    <tr>\n",
       "      <th>3</th>\n",
       "      <td>25</td>\n",
       "      <td>dot_sig</td>\n",
       "      <td>bondwise_dict</td>\n",
       "      <td>attention</td>\n",
       "      <td>20</td>\n",
       "      <td>mpnn_dim_red</td>\n",
       "      <td>rxn_rc</td>\n",
       "    </tr>\n",
       "    <tr>\n",
       "      <th>4</th>\n",
       "      <td>25</td>\n",
       "      <td>dot_sig</td>\n",
       "      <td>bondwise_dict</td>\n",
       "      <td>attention</td>\n",
       "      <td>50</td>\n",
       "      <td>mpnn_dim_red</td>\n",
       "      <td>rxn_rc</td>\n",
       "    </tr>\n",
       "  </tbody>\n",
       "</table>\n",
       "</div>"
      ],
      "text/plain": [
       "   n_epochs pred_head message_passing        agg  d_h_mpnn         model  \\\n",
       "0        25    binary   bondwise_dict  attention        20  mpnn_dim_red   \n",
       "1        25    binary   bondwise_dict  attention        50  mpnn_dim_red   \n",
       "2        25    binary   bondwise_dict  attention       300  mpnn_dim_red   \n",
       "3        25   dot_sig   bondwise_dict  attention        20  mpnn_dim_red   \n",
       "4        25   dot_sig   bondwise_dict  attention        50  mpnn_dim_red   \n",
       "\n",
       "  featurizer  \n",
       "0     rxn_rc  \n",
       "1     rxn_rc  \n",
       "2     rxn_rc  \n",
       "3     rxn_rc  \n",
       "4     rxn_rc  "
      ]
     },
     "execution_count": 16,
     "metadata": {},
     "output_type": "execute_result"
    }
   ],
   "source": [
    "# Load toc\n",
    "\n",
    "ds_toc = \"sprhea_sp_folded_pt\"\n",
    "gs_name = \"attention_homology_80_0\" # fix_dot_sig_0\n",
    "gs_path = f\"/projects/p30041/spn1560/hiec/artifacts/model_evals/gnn/{ds_toc}_{gs_name}\"\n",
    "toc_path = f\"{gs_path}/hp_toc.csv\"\n",
    "hp_toc = pd.read_csv(toc_path, sep='\\t')\n",
    "hp_toc.drop(columns=['Unnamed: 0'], inplace=True)\n",
    "hp_split_dirs = os.listdir(gs_path)\n",
    "hp_split_dirs.remove('hp_toc.csv')\n",
    "hp_split_dirs.remove('gs_params.txt')\n",
    "hp_toc.head()"
   ]
  },
  {
   "cell_type": "markdown",
   "metadata": {},
   "source": [
    "# Test scores"
   ]
  },
  {
   "cell_type": "code",
   "execution_count": 6,
   "metadata": {},
   "outputs": [],
   "source": [
    "# Pull scores\n",
    "tmp_scores = defaultdict(lambda : defaultdict(list))\n",
    "for hsd in hp_split_dirs:\n",
    "    hidx = int(hsd.split('_')[0])\n",
    "    scores = load_json(f\"{gs_path}/{hsd}/version_0/test_scores.json\")\n",
    "\n",
    "    for name, val in scores.items():\n",
    "        tmp_scores[hidx][name].append(val)\n",
    "\n",
    "\n",
    "# Get new column names\n",
    "cols = set()\n",
    "for elt in tmp_scores.values():\n",
    "    for name in elt.keys():\n",
    "        cols.add(f\"{name}_mean\")\n",
    "        cols.add(f\"{name}_std\")\n",
    "\n",
    "# Add new columns\n",
    "for new in cols:\n",
    "    hp_toc[new] = pd.Series(dtype='float')\n",
    "\n",
    "# Fill df w/ scores\n",
    "for hidx, scores in tmp_scores.items():\n",
    "    for name, vals in scores.items():\n",
    "        vals = np.array(vals)\n",
    "        mean, std = vals.mean(), vals.std()\n",
    "        hp_toc.loc[hidx, f\"{name}_mean\"] = mean\n",
    "        hp_toc.loc[hidx, f\"{name}_std\"] = std"
   ]
  },
  {
   "cell_type": "code",
   "execution_count": 7,
   "metadata": {},
   "outputs": [
    {
     "data": {
      "text/html": [
       "<div>\n",
       "<style scoped>\n",
       "    .dataframe tbody tr th:only-of-type {\n",
       "        vertical-align: middle;\n",
       "    }\n",
       "\n",
       "    .dataframe tbody tr th {\n",
       "        vertical-align: top;\n",
       "    }\n",
       "\n",
       "    .dataframe thead th {\n",
       "        text-align: right;\n",
       "    }\n",
       "</style>\n",
       "<table border=\"1\" class=\"dataframe\">\n",
       "  <thead>\n",
       "    <tr style=\"text-align: right;\">\n",
       "      <th></th>\n",
       "      <th>n_epochs</th>\n",
       "      <th>pred_head</th>\n",
       "      <th>message_passing</th>\n",
       "      <th>agg</th>\n",
       "      <th>d_h_mpnn</th>\n",
       "      <th>model</th>\n",
       "      <th>precision_std</th>\n",
       "      <th>f1_std</th>\n",
       "      <th>precision_mean</th>\n",
       "      <th>accuracy_std</th>\n",
       "      <th>f1_mean</th>\n",
       "      <th>accuracy_mean</th>\n",
       "      <th>recall_std</th>\n",
       "      <th>recall_mean</th>\n",
       "    </tr>\n",
       "  </thead>\n",
       "  <tbody>\n",
       "    <tr>\n",
       "      <th>0</th>\n",
       "      <td>25</td>\n",
       "      <td>binary</td>\n",
       "      <td>bondwise_dict</td>\n",
       "      <td>attention</td>\n",
       "      <td>20</td>\n",
       "      <td>mpnn_dim_red</td>\n",
       "      <td>0.020702</td>\n",
       "      <td>0.053297</td>\n",
       "      <td>0.928511</td>\n",
       "      <td>0.039566</td>\n",
       "      <td>0.867952</td>\n",
       "      <td>0.879535</td>\n",
       "      <td>0.079842</td>\n",
       "      <td>0.817317</td>\n",
       "    </tr>\n",
       "    <tr>\n",
       "      <th>1</th>\n",
       "      <td>25</td>\n",
       "      <td>binary</td>\n",
       "      <td>bondwise_dict</td>\n",
       "      <td>attention</td>\n",
       "      <td>50</td>\n",
       "      <td>mpnn_dim_red</td>\n",
       "      <td>0.020016</td>\n",
       "      <td>0.060382</td>\n",
       "      <td>0.934297</td>\n",
       "      <td>0.044764</td>\n",
       "      <td>0.848674</td>\n",
       "      <td>0.865328</td>\n",
       "      <td>0.092557</td>\n",
       "      <td>0.781458</td>\n",
       "    </tr>\n",
       "    <tr>\n",
       "      <th>2</th>\n",
       "      <td>25</td>\n",
       "      <td>binary</td>\n",
       "      <td>bondwise_dict</td>\n",
       "      <td>attention</td>\n",
       "      <td>300</td>\n",
       "      <td>mpnn_dim_red</td>\n",
       "      <td>0.014692</td>\n",
       "      <td>0.060166</td>\n",
       "      <td>0.942814</td>\n",
       "      <td>0.043595</td>\n",
       "      <td>0.861334</td>\n",
       "      <td>0.876551</td>\n",
       "      <td>0.093008</td>\n",
       "      <td>0.797010</td>\n",
       "    </tr>\n",
       "    <tr>\n",
       "      <th>3</th>\n",
       "      <td>25</td>\n",
       "      <td>dot_sig</td>\n",
       "      <td>bondwise_dict</td>\n",
       "      <td>attention</td>\n",
       "      <td>20</td>\n",
       "      <td>mpnn_dim_red</td>\n",
       "      <td>0.022197</td>\n",
       "      <td>0.050163</td>\n",
       "      <td>0.927898</td>\n",
       "      <td>0.039105</td>\n",
       "      <td>0.851824</td>\n",
       "      <td>0.865668</td>\n",
       "      <td>0.081167</td>\n",
       "      <td>0.791120</td>\n",
       "    </tr>\n",
       "    <tr>\n",
       "      <th>4</th>\n",
       "      <td>25</td>\n",
       "      <td>dot_sig</td>\n",
       "      <td>bondwise_dict</td>\n",
       "      <td>attention</td>\n",
       "      <td>50</td>\n",
       "      <td>mpnn_dim_red</td>\n",
       "      <td>0.020075</td>\n",
       "      <td>0.054765</td>\n",
       "      <td>0.943527</td>\n",
       "      <td>0.043119</td>\n",
       "      <td>0.867524</td>\n",
       "      <td>0.880327</td>\n",
       "      <td>0.086361</td>\n",
       "      <td>0.807040</td>\n",
       "    </tr>\n",
       "  </tbody>\n",
       "</table>\n",
       "</div>"
      ],
      "text/plain": [
       "   n_epochs pred_head message_passing        agg  d_h_mpnn         model  \\\n",
       "0        25    binary   bondwise_dict  attention        20  mpnn_dim_red   \n",
       "1        25    binary   bondwise_dict  attention        50  mpnn_dim_red   \n",
       "2        25    binary   bondwise_dict  attention       300  mpnn_dim_red   \n",
       "3        25   dot_sig   bondwise_dict  attention        20  mpnn_dim_red   \n",
       "4        25   dot_sig   bondwise_dict  attention        50  mpnn_dim_red   \n",
       "\n",
       "   precision_std    f1_std  precision_mean  accuracy_std   f1_mean  \\\n",
       "0       0.020702  0.053297        0.928511      0.039566  0.867952   \n",
       "1       0.020016  0.060382        0.934297      0.044764  0.848674   \n",
       "2       0.014692  0.060166        0.942814      0.043595  0.861334   \n",
       "3       0.022197  0.050163        0.927898      0.039105  0.851824   \n",
       "4       0.020075  0.054765        0.943527      0.043119  0.867524   \n",
       "\n",
       "   accuracy_mean  recall_std  recall_mean  \n",
       "0       0.879535    0.079842     0.817317  \n",
       "1       0.865328    0.092557     0.781458  \n",
       "2       0.876551    0.093008     0.797010  \n",
       "3       0.865668    0.081167     0.791120  \n",
       "4       0.880327    0.086361     0.807040  "
      ]
     },
     "execution_count": 7,
     "metadata": {},
     "output_type": "execute_result"
    }
   ],
   "source": [
    "hp_toc.head()"
   ]
  },
  {
   "cell_type": "code",
   "execution_count": 8,
   "metadata": {},
   "outputs": [
    {
     "name": "stdout",
     "output_type": "stream",
     "text": [
      "Index(['n_epochs', 'pred_head', 'message_passing', 'agg', 'd_h_mpnn', 'model',\n",
      "       'precision_std', 'f1_std', 'precision_mean', 'accuracy_std', 'f1_mean',\n",
      "       'accuracy_mean', 'recall_std', 'recall_mean'],\n",
      "      dtype='object')\n"
     ]
    }
   ],
   "source": [
    "print(hp_toc.columns)"
   ]
  },
  {
   "cell_type": "code",
   "execution_count": 10,
   "metadata": {},
   "outputs": [
    {
     "data": {
      "text/html": [
       "<div>\n",
       "<style scoped>\n",
       "    .dataframe tbody tr th:only-of-type {\n",
       "        vertical-align: middle;\n",
       "    }\n",
       "\n",
       "    .dataframe tbody tr th {\n",
       "        vertical-align: top;\n",
       "    }\n",
       "\n",
       "    .dataframe thead th {\n",
       "        text-align: right;\n",
       "    }\n",
       "</style>\n",
       "<table border=\"1\" class=\"dataframe\">\n",
       "  <thead>\n",
       "    <tr style=\"text-align: right;\">\n",
       "      <th></th>\n",
       "      <th>agg</th>\n",
       "      <th>pred_head</th>\n",
       "      <th>d_h_mpnn</th>\n",
       "      <th>f1_mean</th>\n",
       "      <th>precision_mean</th>\n",
       "      <th>recall_mean</th>\n",
       "      <th>accuracy_mean</th>\n",
       "      <th>f1_std</th>\n",
       "      <th>precision_std</th>\n",
       "      <th>recall_std</th>\n",
       "      <th>accuracy_std</th>\n",
       "    </tr>\n",
       "  </thead>\n",
       "  <tbody>\n",
       "    <tr>\n",
       "      <th>5</th>\n",
       "      <td>attention</td>\n",
       "      <td>dot_sig</td>\n",
       "      <td>300</td>\n",
       "      <td>0.877276</td>\n",
       "      <td>0.947169</td>\n",
       "      <td>0.820332</td>\n",
       "      <td>0.888390</td>\n",
       "      <td>0.049619</td>\n",
       "      <td>0.021611</td>\n",
       "      <td>0.078228</td>\n",
       "      <td>0.039240</td>\n",
       "    </tr>\n",
       "    <tr>\n",
       "      <th>0</th>\n",
       "      <td>attention</td>\n",
       "      <td>binary</td>\n",
       "      <td>20</td>\n",
       "      <td>0.867952</td>\n",
       "      <td>0.928511</td>\n",
       "      <td>0.817317</td>\n",
       "      <td>0.879535</td>\n",
       "      <td>0.053297</td>\n",
       "      <td>0.020702</td>\n",
       "      <td>0.079842</td>\n",
       "      <td>0.039566</td>\n",
       "    </tr>\n",
       "    <tr>\n",
       "      <th>4</th>\n",
       "      <td>attention</td>\n",
       "      <td>dot_sig</td>\n",
       "      <td>50</td>\n",
       "      <td>0.867524</td>\n",
       "      <td>0.943527</td>\n",
       "      <td>0.807040</td>\n",
       "      <td>0.880327</td>\n",
       "      <td>0.054765</td>\n",
       "      <td>0.020075</td>\n",
       "      <td>0.086361</td>\n",
       "      <td>0.043119</td>\n",
       "    </tr>\n",
       "    <tr>\n",
       "      <th>2</th>\n",
       "      <td>attention</td>\n",
       "      <td>binary</td>\n",
       "      <td>300</td>\n",
       "      <td>0.861334</td>\n",
       "      <td>0.942814</td>\n",
       "      <td>0.797010</td>\n",
       "      <td>0.876551</td>\n",
       "      <td>0.060166</td>\n",
       "      <td>0.014692</td>\n",
       "      <td>0.093008</td>\n",
       "      <td>0.043595</td>\n",
       "    </tr>\n",
       "    <tr>\n",
       "      <th>3</th>\n",
       "      <td>attention</td>\n",
       "      <td>dot_sig</td>\n",
       "      <td>20</td>\n",
       "      <td>0.851824</td>\n",
       "      <td>0.927898</td>\n",
       "      <td>0.791120</td>\n",
       "      <td>0.865668</td>\n",
       "      <td>0.050163</td>\n",
       "      <td>0.022197</td>\n",
       "      <td>0.081167</td>\n",
       "      <td>0.039105</td>\n",
       "    </tr>\n",
       "    <tr>\n",
       "      <th>1</th>\n",
       "      <td>attention</td>\n",
       "      <td>binary</td>\n",
       "      <td>50</td>\n",
       "      <td>0.848674</td>\n",
       "      <td>0.934297</td>\n",
       "      <td>0.781458</td>\n",
       "      <td>0.865328</td>\n",
       "      <td>0.060382</td>\n",
       "      <td>0.020016</td>\n",
       "      <td>0.092557</td>\n",
       "      <td>0.044764</td>\n",
       "    </tr>\n",
       "  </tbody>\n",
       "</table>\n",
       "</div>"
      ],
      "text/plain": [
       "         agg pred_head  d_h_mpnn   f1_mean  precision_mean  recall_mean  \\\n",
       "5  attention   dot_sig       300  0.877276        0.947169     0.820332   \n",
       "0  attention    binary        20  0.867952        0.928511     0.817317   \n",
       "4  attention   dot_sig        50  0.867524        0.943527     0.807040   \n",
       "2  attention    binary       300  0.861334        0.942814     0.797010   \n",
       "3  attention   dot_sig        20  0.851824        0.927898     0.791120   \n",
       "1  attention    binary        50  0.848674        0.934297     0.781458   \n",
       "\n",
       "   accuracy_mean    f1_std  precision_std  recall_std  accuracy_std  \n",
       "5       0.888390  0.049619       0.021611    0.078228      0.039240  \n",
       "0       0.879535  0.053297       0.020702    0.079842      0.039566  \n",
       "4       0.880327  0.054765       0.020075    0.086361      0.043119  \n",
       "2       0.876551  0.060166       0.014692    0.093008      0.043595  \n",
       "3       0.865668  0.050163       0.022197    0.081167      0.039105  \n",
       "1       0.865328  0.060382       0.020016    0.092557      0.044764  "
      ]
     },
     "execution_count": 10,
     "metadata": {},
     "output_type": "execute_result"
    }
   ],
   "source": [
    "display_res = hp_toc[['agg', 'pred_head', 'd_h_mpnn', 'f1_mean', 'precision_mean', 'recall_mean', 'accuracy_mean', 'f1_std', 'precision_std', 'recall_std', 'accuracy_std']]\n",
    "display_res.sort_values(by=['f1_mean'], ascending=False)"
   ]
  },
  {
   "cell_type": "code",
   "execution_count": 7,
   "metadata": {},
   "outputs": [],
   "source": [
    "binary = display_res.loc[display_res['pred_head'] == 'binary']"
   ]
  },
  {
   "cell_type": "code",
   "execution_count": 8,
   "metadata": {},
   "outputs": [],
   "source": [
    "# dot_sig = display_res.copy()"
   ]
  },
  {
   "cell_type": "code",
   "execution_count": 9,
   "metadata": {},
   "outputs": [
    {
     "data": {
      "text/plain": [
       "defaultdict(<function __main__.<lambda>()>,\n",
       "            {2: defaultdict(list,\n",
       "                         {'f1': [0.9589898611594125,\n",
       "                           0.9616210413311862,\n",
       "                           0.962417293938014],\n",
       "                          'precision': [0.9368107458318089,\n",
       "                           0.9422500394466944,\n",
       "                           0.9413120939006497],\n",
       "                          'recall': [0.9822446295484437,\n",
       "                           0.9818052282566997,\n",
       "                           0.984490601194717],\n",
       "                          'accuracy': [0.9579953967558088,\n",
       "                           0.9608154765166876,\n",
       "                           0.961555324162876]}),\n",
       "             0: defaultdict(list,\n",
       "                         {'f1': [0.9450514395087328,\n",
       "                           0.9468062265163714,\n",
       "                           0.9462824238223455],\n",
       "                          'precision': [0.9176561693340217,\n",
       "                           0.927733655919634,\n",
       "                           0.921351814359134],\n",
       "                          'recall': [0.9741327341480791,\n",
       "                           0.9666794541568478,\n",
       "                           0.9725997369574748],\n",
       "                          'accuracy': [0.9433605524195758,\n",
       "                           0.9456897024168357,\n",
       "                           0.9447884699693117]}),\n",
       "             5: defaultdict(list,\n",
       "                         {'f1': [0.9594300309181342,\n",
       "                           0.9591374663072777,\n",
       "                           0.9601653513716648],\n",
       "                          'precision': [0.9416824994722398,\n",
       "                           0.9437725440271589,\n",
       "                           0.9409691166412374],\n",
       "                          'recall': [0.9778593741436948,\n",
       "                           0.975010960105217,\n",
       "                           0.9801611223762811],\n",
       "                          'accuracy': [0.9724338247383132,\n",
       "                           0.9723074674850212,\n",
       "                           0.9728905208162072]}),\n",
       "             4: defaultdict(list,\n",
       "                         {'f1': [0.966128248068716,\n",
       "                           0.9696479158235533,\n",
       "                           0.9688475196384375],\n",
       "                          'precision': [0.95254327563249,\n",
       "                           0.9549367626740355,\n",
       "                           0.9515430141619108],\n",
       "                          'recall': [0.9801063188469338,\n",
       "                           0.9848194223708007,\n",
       "                           0.9867930732135028],\n",
       "                          'accuracy': [0.9656381870992492,\n",
       "                           0.9691730147421493,\n",
       "                           0.9682704953967558]}),\n",
       "             3: defaultdict(list,\n",
       "                         {'f1': [0.947542735042735,\n",
       "                           0.9445170234889488,\n",
       "                           0.9458815976030603],\n",
       "                          'precision': [0.9242392663609837,\n",
       "                           0.9196780893042575,\n",
       "                           0.9239573534023204],\n",
       "                          'recall': [0.9720517316966243,\n",
       "                           0.9707349153285472,\n",
       "                           0.9688715953307393],\n",
       "                          'accuracy': [0.9641239222563204,\n",
       "                           0.9619846184760965,\n",
       "                           0.9630441533768108]}),\n",
       "             1: defaultdict(list,\n",
       "                         {'f1': [0.8963749735785247,\n",
       "                           0.9207067213027513,\n",
       "                           0.9257760502635642],\n",
       "                          'precision': [0.8654150298454161,\n",
       "                           0.8948484535016034,\n",
       "                           0.9001812063163345],\n",
       "                          'recall': [0.9296322683180797,\n",
       "                           0.9481039017974573,\n",
       "                           0.9528689647613307],\n",
       "                          'accuracy': [0.9283535192999762,\n",
       "                           0.9455648107555166,\n",
       "                           0.9490692533932519]})})"
      ]
     },
     "execution_count": 9,
     "metadata": {},
     "output_type": "execute_result"
    }
   ],
   "source": [
    "tmp_scores"
   ]
  },
  {
   "cell_type": "markdown",
   "metadata": {},
   "source": [
    "# Loss curves"
   ]
  },
  {
   "cell_type": "code",
   "execution_count": 10,
   "metadata": {},
   "outputs": [],
   "source": [
    "loss_curves = defaultdict(lambda: defaultdict()) # 'hpidx_sidx': {epochs: [int], losses: [float])\n",
    "for hsd in hp_split_dirs:\n",
    "    hidx = int(hsd.split('_')[0])\n",
    "    lc = pd.read_csv(f\"{gs_path}/{hsd}/version_0/metrics.csv\", sep=',')\n",
    "    ep_ave_lc = lc.groupby('epoch').agg('mean').reset_index() # Average over epochs\n",
    "    loss_curves[hsd]['epochs'] = ep_ave_lc.loc[:, 'epoch'].to_numpy()\n",
    "    loss_curves[hsd]['losses'] = ep_ave_lc.loc[:, 'train_loss'].to_numpy()\n",
    "\n"
   ]
  },
  {
   "cell_type": "code",
   "execution_count": 11,
   "metadata": {},
   "outputs": [
    {
     "data": {
      "image/png": "[encoded data removed]",
      "text/plain": [
       "<Figure size 640x480 with 1 Axes>"
      ]
     },
     "metadata": {},
     "output_type": "display_data"
    }
   ],
   "source": [
    "fig, ax = plt.subplots()\n",
    "for k,v in loss_curves.items():\n",
    "    ax.plot(v['epochs'], v['losses'], label=k)\n",
    "\n",
    "ax.legend()\n",
    "plt.show()"
   ]
  },
  {
   "cell_type": "code",
   "execution_count": 12,
   "metadata": {},
   "outputs": [
    {
     "data": {
      "text/plain": [
       "[]"
      ]
     },
     "execution_count": 12,
     "metadata": {},
     "output_type": "execute_result"
    }
   ],
   "source": [
    "bad_lc = {k:v for k,v in loss_curves.items() if v['losses'][-1] > 0.4}\n",
    "sorted(bad_lc.keys())"
   ]
  },
  {
   "cell_type": "code",
   "execution_count": 13,
   "metadata": {},
   "outputs": [
    {
     "ename": "NameError",
     "evalue": "name 'dot_sig' is not defined",
     "output_type": "error",
     "traceback": [
      "\u001b[0;31m---------------------------------------------------------------------------\u001b[0m",
      "\u001b[0;31mNameError\u001b[0m                                 Traceback (most recent call last)",
      "Cell \u001b[0;32mIn[13], line 3\u001b[0m\n\u001b[1;32m      1\u001b[0m \u001b[38;5;66;03m# Collect dot sig and binaryffn\u001b[39;00m\n\u001b[0;32m----> 3\u001b[0m combo \u001b[38;5;241m=\u001b[39m pd\u001b[38;5;241m.\u001b[39mconcat([\u001b[43mdot_sig\u001b[49m, binary])\n\u001b[1;32m      4\u001b[0m combo \u001b[38;5;241m=\u001b[39m combo\u001b[38;5;241m.\u001b[39mloc[(combo[\u001b[38;5;124m'\u001b[39m\u001b[38;5;124magg\u001b[39m\u001b[38;5;124m'\u001b[39m] \u001b[38;5;241m==\u001b[39m \u001b[38;5;124m'\u001b[39m\u001b[38;5;124mlast\u001b[39m\u001b[38;5;124m'\u001b[39m) \u001b[38;5;241m&\u001b[39m (combo[\u001b[38;5;124m'\u001b[39m\u001b[38;5;124mneg_multiple\u001b[39m\u001b[38;5;124m'\u001b[39m] \u001b[38;5;241m==\u001b[39m \u001b[38;5;241m2\u001b[39m)]\n",
      "\u001b[0;31mNameError\u001b[0m: name 'dot_sig' is not defined"
     ]
    }
   ],
   "source": [
    "# Collect dot sig and binaryffn\n",
    "\n",
    "combo = pd.concat([dot_sig, binary])\n",
    "combo = combo.loc[(combo['agg'] == 'last') & (combo['neg_multiple'] == 2)]"
   ]
  },
  {
   "cell_type": "code",
   "execution_count": null,
   "metadata": {},
   "outputs": [
    {
     "data": {
      "text/html": [
       "<div>\n",
       "<style scoped>\n",
       "    .dataframe tbody tr th:only-of-type {\n",
       "        vertical-align: middle;\n",
       "    }\n",
       "\n",
       "    .dataframe tbody tr th {\n",
       "        vertical-align: top;\n",
       "    }\n",
       "\n",
       "    .dataframe thead th {\n",
       "        text-align: right;\n",
       "    }\n",
       "</style>\n",
       "<table border=\"1\" class=\"dataframe\">\n",
       "  <thead>\n",
       "    <tr style=\"text-align: right;\">\n",
       "      <th></th>\n",
       "      <th>agg</th>\n",
       "      <th>pred_head</th>\n",
       "      <th>d_h_mpnn</th>\n",
       "      <th>neg_multiple</th>\n",
       "      <th>f1_mean</th>\n",
       "      <th>precision_mean</th>\n",
       "      <th>recall_mean</th>\n",
       "      <th>accuracy_mean</th>\n",
       "      <th>f1_std</th>\n",
       "      <th>precision_std</th>\n",
       "      <th>recall_std</th>\n",
       "      <th>accuracy_std</th>\n",
       "    </tr>\n",
       "  </thead>\n",
       "  <tbody>\n",
       "    <tr>\n",
       "      <th>1</th>\n",
       "      <td>last</td>\n",
       "      <td>dot_sig</td>\n",
       "      <td>300</td>\n",
       "      <td>2</td>\n",
       "      <td>0.963380</td>\n",
       "      <td>0.949035</td>\n",
       "      <td>0.978170</td>\n",
       "      <td>0.975211</td>\n",
       "      <td>0.000979</td>\n",
       "      <td>0.002331</td>\n",
       "      <td>0.000479</td>\n",
       "      <td>0.000700</td>\n",
       "    </tr>\n",
       "    <tr>\n",
       "      <th>3</th>\n",
       "      <td>last</td>\n",
       "      <td>dot_sig</td>\n",
       "      <td>50</td>\n",
       "      <td>2</td>\n",
       "      <td>0.957777</td>\n",
       "      <td>0.940193</td>\n",
       "      <td>0.976033</td>\n",
       "      <td>0.971314</td>\n",
       "      <td>0.001023</td>\n",
       "      <td>0.001957</td>\n",
       "      <td>0.000026</td>\n",
       "      <td>0.000724</td>\n",
       "    </tr>\n",
       "    <tr>\n",
       "      <th>5</th>\n",
       "      <td>last</td>\n",
       "      <td>dot_sig</td>\n",
       "      <td>20</td>\n",
       "      <td>2</td>\n",
       "      <td>0.945298</td>\n",
       "      <td>0.924433</td>\n",
       "      <td>0.967137</td>\n",
       "      <td>0.962686</td>\n",
       "      <td>0.003253</td>\n",
       "      <td>0.004915</td>\n",
       "      <td>0.002072</td>\n",
       "      <td>0.002285</td>\n",
       "    </tr>\n",
       "    <tr>\n",
       "      <th>1</th>\n",
       "      <td>last</td>\n",
       "      <td>binary</td>\n",
       "      <td>300</td>\n",
       "      <td>2</td>\n",
       "      <td>0.959180</td>\n",
       "      <td>0.945584</td>\n",
       "      <td>0.973202</td>\n",
       "      <td>0.972386</td>\n",
       "      <td>0.001313</td>\n",
       "      <td>0.004752</td>\n",
       "      <td>0.002826</td>\n",
       "      <td>0.000978</td>\n",
       "    </tr>\n",
       "    <tr>\n",
       "      <th>3</th>\n",
       "      <td>last</td>\n",
       "      <td>binary</td>\n",
       "      <td>50</td>\n",
       "      <td>2</td>\n",
       "      <td>0.955584</td>\n",
       "      <td>0.937074</td>\n",
       "      <td>0.974846</td>\n",
       "      <td>0.969792</td>\n",
       "      <td>0.000875</td>\n",
       "      <td>0.002363</td>\n",
       "      <td>0.000737</td>\n",
       "      <td>0.000645</td>\n",
       "    </tr>\n",
       "  </tbody>\n",
       "</table>\n",
       "</div>"
      ],
      "text/plain": [
       "    agg pred_head  d_h_mpnn  neg_multiple   f1_mean  precision_mean  \\\n",
       "1  last   dot_sig       300             2  0.963380        0.949035   \n",
       "3  last   dot_sig        50             2  0.957777        0.940193   \n",
       "5  last   dot_sig        20             2  0.945298        0.924433   \n",
       "1  last    binary       300             2  0.959180        0.945584   \n",
       "3  last    binary        50             2  0.955584        0.937074   \n",
       "\n",
       "   recall_mean  accuracy_mean    f1_std  precision_std  recall_std  \\\n",
       "1     0.978170       0.975211  0.000979       0.002331    0.000479   \n",
       "3     0.976033       0.971314  0.001023       0.001957    0.000026   \n",
       "5     0.967137       0.962686  0.003253       0.004915    0.002072   \n",
       "1     0.973202       0.972386  0.001313       0.004752    0.002826   \n",
       "3     0.974846       0.969792  0.000875       0.002363    0.000737   \n",
       "\n",
       "   accuracy_std  \n",
       "1      0.000700  \n",
       "3      0.000724  \n",
       "5      0.002285  \n",
       "1      0.000978  \n",
       "3      0.000645  "
      ]
     },
     "execution_count": 61,
     "metadata": {},
     "output_type": "execute_result"
    }
   ],
   "source": [
    "combo.head()"
   ]
  },
  {
   "cell_type": "code",
   "execution_count": null,
   "metadata": {},
   "outputs": [],
   "source": [
    "metrics = [\n",
    "    'f1',\n",
    "    'precision',\n",
    "    'recall',\n",
    "    'accuracy'\n",
    "]\n",
    "\n",
    "cluster_conditions = [\n",
    "    'binary',\n",
    "    'dot_sig'\n",
    "]\n",
    "\n",
    "x_conditions = [\n",
    "    20,\n",
    "    50,\n",
    "    300\n",
    "]\n",
    "\n",
    "cluster_col = 'pred_head'\n",
    "x_col = 'd_h_mpnn'\n",
    "\n",
    "'''\n",
    "cluster_condition: {x_idx_condition: (mean, std)}\n",
    "\n",
    "'''\n",
    "scores = defaultdict(lambda : defaultdict(lambda : defaultdict(tuple)))\n",
    "for cc in cluster_conditions:\n",
    "    for xc in x_conditions:\n",
    "        for m in metrics:\n",
    "            mean = combo.loc[(combo[cluster_col] == cc) & (combo[x_col] == xc), f\"{m}_mean\"].to_numpy()[0]\n",
    "            std = combo.loc[(combo[cluster_col] == cc) & (combo[x_col] == xc), f\"{m}_std\"].to_numpy()[0]\n",
    "            scores[cc][xc][m] = (mean, std)"
   ]
  },
  {
   "cell_type": "code",
   "execution_count": null,
   "metadata": {},
   "outputs": [
    {
     "data": {
      "image/png": "[encoded data removed]",
      "text/plain": [
       "<Figure size 1000x300 with 4 Axes>"
      ]
     },
     "metadata": {},
     "output_type": "display_data"
    }
   ],
   "source": [
    "# Plot esm vs full at all ds tried\n",
    "\n",
    "# data from https://allisonhorst.github.io/palmerpenguins/\n",
    "\n",
    "import matplotlib.pyplot as plt\n",
    "import numpy as np\n",
    "\n",
    "\n",
    "cluster_condition_names = [\"FFN\", \"DotSig\"]\n",
    "colors = ['black', 'blue']\n",
    "\n",
    "x = np.arange(len(x_conditions))  # the label locations\n",
    "width = 0.3  # the width of the bars\n",
    "multiplier = 0\n",
    "\n",
    "fig, ax = plt.subplots(ncols=4, sharey=True, figsize=(10,3), constrained_layout=True)\n",
    "\n",
    "for i, m in enumerate(metrics):\n",
    "# for i, d  in enumerate(ds):\n",
    "    for j, name in enumerate(scores.keys()):\n",
    "        data = [scores[name][d][m] for d in x_conditions]\n",
    "        # x = list(data.keys())\n",
    "        mu, sig = list(zip(*data))\n",
    "        offset = width * (j - 0.5)\n",
    "        rects = ax[i].bar(x + offset, mu, yerr=sig, width=width, label=cluster_condition_names[j], color=colors[j])\n",
    "        ax[i].set_xticks(x)\n",
    "        ax[i].set_xticklabels(x_conditions)\n",
    "        ax[i].set_title(f\"Metric: {m}\")\n",
    "\n",
    "ax[-1].legend(loc='upper right', fontsize=11)\n",
    "ax[0].set_ylim(0,1)\n",
    "ax[0].set_xlabel(\"Embedding dimension (d)\")\n",
    "\n",
    "\n",
    "plt.show()"
   ]
  },
  {
   "cell_type": "markdown",
   "metadata": {},
   "source": [
    "# Check for data leak"
   ]
  },
  {
   "cell_type": "code",
   "execution_count": 14,
   "metadata": {},
   "outputs": [],
   "source": [
    "scratch_dir = '/scratch/spn1560'\n",
    "test_path = f\"{scratch_dir}/sprhea_sp_folded_pt_3_splits_1234_seed_1_neg_multiple_0_split_idx_test.npy\"\n",
    "train_path = f\"{scratch_dir}/sprhea_sp_folded_pt_3_splits_1234_seed_1_neg_multiple_0_split_idx_train.npy\"\n",
    "\n",
    "train_data = np.load(train_path)\n",
    "test_data = np.load(test_path)"
   ]
  },
  {
   "cell_type": "code",
   "execution_count": null,
   "metadata": {},
   "outputs": [
    {
     "name": "stdout",
     "output_type": "stream",
     "text": [
      "(6642, 59216)\n",
      "(17534, 15195)\n"
     ]
    }
   ],
   "source": [
    "leaked = []\n",
    "for i in range(len(test_data)):\n",
    "    for j in range(len(train_data)):\n",
    "        embeds_equal = all(test_data['sample_embed'][i] == train_data['sample_embed'][j])\n",
    "        rxns_equal = test_data['feature'][i] == train_data['feature'][j]\n",
    "        if embeds_equal and rxns_equal:\n",
    "            print((i, j))\n",
    "\n"
   ]
  },
  {
   "cell_type": "code",
   "execution_count": 17,
   "metadata": {},
   "outputs": [
    {
     "data": {
      "text/plain": [
       "(([-7.39624500e-02,  2.88149476e-01,  9.15787444e-02, ..., -3.64124365e-02, -1.16873235e-01, -2.98373606e-02], 'R4ce924f53b2ec0e64f1d8b9c5e3103a9349a280021c761657532b3cc22f39c99', 1),\n",
       " ([-7.39624500e-02,  2.88149476e-01,  9.15787444e-02, ..., -3.64124365e-02, -1.16873235e-01, -2.98373606e-02], 'R4ce924f53b2ec0e64f1d8b9c5e3103a9349a280021c761657532b3cc22f39c99', 0))"
      ]
     },
     "execution_count": 17,
     "metadata": {},
     "output_type": "execute_result"
    }
   ],
   "source": [
    "test_data[6642], train_data[59216]"
   ]
  },
  {
   "cell_type": "code",
   "execution_count": 18,
   "metadata": {},
   "outputs": [
    {
     "data": {
      "text/plain": [
       "(([ 2.62955893e-02,  1.72108307e-01, -9.06688944e-02, ..., -1.08067848e-01,  4.51614335e-02, -3.35152168e-03], 'Rd3d797e65d6e4f615f8ff6ed530cb2c84f8434ae6f0f8f4fb80c7d8593d0bc30', 1),\n",
       " ([ 2.62955893e-02,  1.72108307e-01, -9.06688944e-02, ..., -1.08067848e-01,  4.51614335e-02, -3.35152168e-03], 'Rd3d797e65d6e4f615f8ff6ed530cb2c84f8434ae6f0f8f4fb80c7d8593d0bc30', 0))"
      ]
     },
     "execution_count": 18,
     "metadata": {},
     "output_type": "execute_result"
    }
   ],
   "source": [
    "test_data[17534], train_data[15195]"
   ]
  },
  {
   "cell_type": "code",
   "execution_count": 19,
   "metadata": {},
   "outputs": [
    {
     "data": {
      "text/plain": [
       "(72988, 36496)"
      ]
     },
     "execution_count": 19,
     "metadata": {},
     "output_type": "execute_result"
    }
   ],
   "source": [
    "len(train_data), len(test_data)"
   ]
  }
 ],
 "metadata": {
  "kernelspec": {
   "display_name": "hiec",
   "language": "python",
   "name": "python3"
  },
  "language_info": {
   "codemirror_mode": {
    "name": "ipython",
    "version": 3
   },
   "file_extension": ".py",
   "mimetype": "text/x-python",
   "name": "python",
   "nbconvert_exporter": "python",
   "pygments_lexer": "ipython3",
   "version": "3.11.0"
  }
 },
 "nbformat": 4,
 "nbformat_minor": 2
}
