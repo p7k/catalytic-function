{
 "cells": [
  {
   "cell_type": "code",
   "execution_count": 13,
   "metadata": {},
   "outputs": [],
   "source": [
    "import pandas as pd\n",
    "import csv\n",
    "from src.CLEAN.utils import *"
   ]
  },
  {
   "cell_type": "code",
   "execution_count": 16,
   "metadata": {},
   "outputs": [],
   "source": [
    "chunk_sz = 20000\n",
    "\n",
    "with open('../data/clean_data/split100.csv', 'r') as f:\n",
    "    r = csv.reader(f, delimiter='\\t')\n",
    "    data = []\n",
    "    for i, row in enumerate(r):\n",
    "        if i == 0:\n",
    "            header = row\n",
    "        else:\n",
    "            data.append(row)\n",
    "\n",
    "        if (i > 0) & (i % chunk_sz == 0):\n",
    "            df = pd.DataFrame(data, columns=header)\n",
    "            df.to_csv(f\"../data/clean_data/split100_{i // chunk_sz}.csv\", sep='\\t', index=False)\n",
    "            data = []\n",
    "\n",
    "\n",
    "df.to_csv(f\"../data/clean_data/split100_{(i // chunk_sz) + 1}.csv\", sep='\\t', index=False)"
   ]
  },
  {
   "cell_type": "code",
   "execution_count": 17,
   "metadata": {},
   "outputs": [],
   "source": [
    "for i in range(1, 13):\n",
    "    csv_to_fasta(f\"../data/clean_data/split100_{i}.csv\", f\"../data/clean_data/split100_{i}.fasta\")"
   ]
  }
 ],
 "metadata": {
  "kernelspec": {
   "display_name": "hiec",
   "language": "python",
   "name": "python3"
  },
  "language_info": {
   "codemirror_mode": {
    "name": "ipython",
    "version": 3
   },
   "file_extension": ".py",
   "mimetype": "text/x-python",
   "name": "python",
   "nbconvert_exporter": "python",
   "pygments_lexer": "ipython3",
   "version": "3.11.5"
  }
 },
 "nbformat": 4,
 "nbformat_minor": 2
}
