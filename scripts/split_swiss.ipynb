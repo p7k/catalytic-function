{
 "cells": [
  {
   "cell_type": "code",
   "execution_count": 1,
   "metadata": {},
   "outputs": [],
   "source": [
    "import pandas as pd\n",
    "import csv\n",
    "from src.CLEAN.utils import *"
   ]
  },
  {
   "cell_type": "code",
   "execution_count": 2,
   "metadata": {},
   "outputs": [],
   "source": [
    "chunk_sz = 5000\n",
    "\n",
    "with open('../data/clean_data/split100_rem.csv', 'r') as f:\n",
    "    r = csv.reader(f, delimiter='\\t')\n",
    "    data = []\n",
    "    for i, row in enumerate(r):\n",
    "        if i == 0:\n",
    "            header = row\n",
    "        else:\n",
    "            data.append(row)\n",
    "\n",
    "        if (i > 0) & (i % chunk_sz == 0):\n",
    "            df = pd.DataFrame(data, columns=header)\n",
    "            df.to_csv(f\"../data/clean_data/split100_{i // chunk_sz}.csv\", sep='\\t', index=False)\n",
    "            data = []\n",
    "\n",
    "\n",
    "df.to_csv(f\"../data/clean_data/split100_{(i // chunk_sz) + 1}.csv\", sep='\\t', index=False)"
   ]
  },
  {
   "cell_type": "code",
   "execution_count": 3,
   "metadata": {},
   "outputs": [
    {
     "ename": "FileNotFoundError",
     "evalue": "[Errno 2] No such file or directory: '../data/clean_data/split100_6.csv'",
     "output_type": "error",
     "traceback": [
      "\u001b[0;31m---------------------------------------------------------------------------\u001b[0m",
      "\u001b[0;31mFileNotFoundError\u001b[0m                         Traceback (most recent call last)",
      "\u001b[1;32m/home/stef/hiec/scripts/split_swiss.ipynb Cell 3\u001b[0m line \u001b[0;36m2\n\u001b[1;32m      <a href='vscode-notebook-cell:/home/stef/hiec/scripts/split_swiss.ipynb#W2sZmlsZQ%3D%3D?line=0'>1</a>\u001b[0m \u001b[39mfor\u001b[39;00m i \u001b[39min\u001b[39;00m \u001b[39mrange\u001b[39m(\u001b[39m1\u001b[39m, \u001b[39m13\u001b[39m):\n\u001b[0;32m----> <a href='vscode-notebook-cell:/home/stef/hiec/scripts/split_swiss.ipynb#W2sZmlsZQ%3D%3D?line=1'>2</a>\u001b[0m     csv_to_fasta(\u001b[39mf\u001b[39;49m\u001b[39m\"\u001b[39;49m\u001b[39m../data/clean_data/split100_\u001b[39;49m\u001b[39m{\u001b[39;49;00mi\u001b[39m}\u001b[39;49;00m\u001b[39m.csv\u001b[39;49m\u001b[39m\"\u001b[39;49m, \u001b[39mf\u001b[39;49m\u001b[39m\"\u001b[39;49m\u001b[39m../data/clean_data/split100_\u001b[39;49m\u001b[39m{\u001b[39;49;00mi\u001b[39m}\u001b[39;49;00m\u001b[39m.fasta\u001b[39;49m\u001b[39m\"\u001b[39;49m)\n",
      "File \u001b[0;32m~/hiec/src/CLEAN/utils.py:105\u001b[0m, in \u001b[0;36mcsv_to_fasta\u001b[0;34m(csv_name, fasta_name)\u001b[0m\n\u001b[1;32m    104\u001b[0m \u001b[39mdef\u001b[39;00m \u001b[39mcsv_to_fasta\u001b[39m(csv_name, fasta_name):\n\u001b[0;32m--> 105\u001b[0m     csvfile \u001b[39m=\u001b[39m \u001b[39mopen\u001b[39m(csv_name, \u001b[39m'\u001b[39m\u001b[39mr\u001b[39m\u001b[39m'\u001b[39m)\n\u001b[1;32m    106\u001b[0m     csvreader \u001b[39m=\u001b[39m csv\u001b[39m.\u001b[39mreader(csvfile, delimiter\u001b[39m=\u001b[39m\u001b[39m'\u001b[39m\u001b[39m\\t\u001b[39;00m\u001b[39m'\u001b[39m)\n\u001b[1;32m    107\u001b[0m     outfile \u001b[39m=\u001b[39m \u001b[39mopen\u001b[39m(fasta_name, \u001b[39m'\u001b[39m\u001b[39mw\u001b[39m\u001b[39m'\u001b[39m)\n",
      "\u001b[0;31mFileNotFoundError\u001b[0m: [Errno 2] No such file or directory: '../data/clean_data/split100_6.csv'"
     ]
    }
   ],
   "source": [
    "for i in range(1, 13):\n",
    "    csv_to_fasta(f\"../data/clean_data/split100_{i}.csv\", f\"../data/clean_data/split100_{i}.fasta\")"
   ]
  }
 ],
 "metadata": {
  "kernelspec": {
   "display_name": "hiec",
   "language": "python",
   "name": "python3"
  },
  "language_info": {
   "codemirror_mode": {
    "name": "ipython",
    "version": 3
   },
   "file_extension": ".py",
   "mimetype": "text/x-python",
   "name": "python",
   "nbconvert_exporter": "python",
   "pygments_lexer": "ipython3",
   "version": "3.11.5"
  }
 },
 "nbformat": 4,
 "nbformat_minor": 2
}
