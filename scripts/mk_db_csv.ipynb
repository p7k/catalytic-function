{
 "cells": [
  {
   "cell_type": "markdown",
   "metadata": {},
   "source": [
    "Construct Entry | EC number | Sequence csv for erxprot as for CLEAN's datasets"
   ]
  },
  {
   "cell_type": "code",
   "execution_count": 42,
   "metadata": {},
   "outputs": [],
   "source": [
    "from src.utils import load_json\n",
    "from collections import defaultdict\n",
    "import pandas as pd\n",
    "import subprocess"
   ]
  },
  {
   "cell_type": "code",
   "execution_count": 45,
   "metadata": {},
   "outputs": [
    {
     "name": "stdout",
     "output_type": "stream",
     "text": [
      "104200 104200\n"
     ]
    }
   ],
   "source": [
    "# Create csv index in format of other datasets\n",
    "\n",
    "f = load_json('../data/erxprot/sequences/sequences.json')\n",
    "id2ec = defaultdict(list)\n",
    "id2seq = {}\n",
    "for ec, v in f.items():\n",
    "    for elt in v:\n",
    "        id = list(elt.keys())[0]\n",
    "        seq = elt[id]\n",
    "        id2ec[id].append(ec)\n",
    "        id2seq[id] = seq\n",
    "\n",
    "print(len(id2ec), len(id2seq))\n",
    "\n",
    "data = []\n",
    "for k in id2ec.keys():\n",
    "    data.append([k, ';'.join(id2ec[k]), id2seq[k]])\n",
    "\n",
    "header = ['Entry', 'EC number', 'Sequence']\n",
    "df = pd.DataFrame(data, columns=header)\n",
    "df.to_csv('../data/erxprot/erxprot.csv', index=False, sep='\\t')"
   ]
  },
  {
   "cell_type": "code",
   "execution_count": 15,
   "metadata": {},
   "outputs": [],
   "source": [
    "# # Re-name erxprot pt files ONLY RUN ONCE\n",
    "\n",
    "# for dir in ['../data/erxprot/clean/', '../data/erxprot/esm/']:\n",
    "#     for fn in os.listdir(dir):\n",
    "#         id = fn.split('|')[0].strip()\n",
    "#         cmd = [\"mv\", dir + fn, dir + id + '.pt']\n",
    "#         subprocess.run(cmd)"
   ]
  },
  {
   "cell_type": "code",
   "execution_count": 50,
   "metadata": {},
   "outputs": [
    {
     "name": "stdout",
     "output_type": "stream",
     "text": [
      "0.14423657628370382\n"
     ]
    }
   ],
   "source": [
    "# Overlap in enzymes\n",
    "\n",
    "erx_csv = pd.read_csv('../data/erxprot/erxprot.csv', delimiter='\\t')\n",
    "erx_csv.set_index('Entry', inplace=True)\n",
    "\n",
    "swissprot = pd.read_csv('../data/swissprot/swissprot.csv', delimiter='\\t')\n",
    "swissprot.set_index('Entry', inplace=True)\n",
    "\n",
    "print(len(set(erx_csv.index) & set(swissprot.index)) / len(set(erx_csv.index) | set(swissprot.index)))\n",
    "idx_intersect = list(set(erx_csv.index) & set(swissprot.index))"
   ]
  },
  {
   "cell_type": "code",
   "execution_count": 55,
   "metadata": {},
   "outputs": [],
   "source": [
    "# Get consistent / discrepant ecs, update erxport\n",
    "# w/ swissprot ec + extras\n",
    "cons = []\n",
    "discrep = []\n",
    "\n",
    "for idx in idx_intersect:\n",
    "    swiss = swissprot.loc[idx, 'EC number']\n",
    "    erx = erx_csv.loc[idx, 'EC number']\n",
    "    if sorted(swiss.split(';')) == sorted(erx.split(';')):\n",
    "        cons.append(idx)\n",
    "    else:\n",
    "        discrep.append(idx)\n",
    "        erx_extra = list(set(erx.split(';')) - set(swiss.split(';')))\n",
    "        updated = swiss.split(';') + erx_extra\n",
    "        erx_csv.loc[idx, 'EC number'] = ';'.join(updated)\n",
    "\n",
    "\n",
    "erx_csv.to_csv('../data/erxprot/erxprot.csv', sep='\\t')"
   ]
  },
  {
   "cell_type": "code",
   "execution_count": 53,
   "metadata": {},
   "outputs": [
    {
     "data": {
      "text/plain": [
       "(39912, 1883, 0.9549467639669817, 0.04505323603301831)"
      ]
     },
     "execution_count": 53,
     "metadata": {},
     "output_type": "execute_result"
    }
   ],
   "source": [
    "len(cons), len(discrep), len(cons) / len(idx_intersect), len(discrep) / len(idx_intersect)"
   ]
  }
 ],
 "metadata": {
  "kernelspec": {
   "display_name": "hiec",
   "language": "python",
   "name": "python3"
  },
  "language_info": {
   "codemirror_mode": {
    "name": "ipython",
    "version": 3
   },
   "file_extension": ".py",
   "mimetype": "text/x-python",
   "name": "python",
   "nbconvert_exporter": "python",
   "pygments_lexer": "ipython3",
   "version": "3.11.5"
  }
 },
 "nbformat": 4,
 "nbformat_minor": 2
}
