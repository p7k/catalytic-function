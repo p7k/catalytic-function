{
 "cells": [
  {
   "cell_type": "code",
   "execution_count": null,
   "metadata": {},
   "outputs": [],
   "source": [
    "import matplotlib.pyplot as plt\n",
    "import numpy as np\n",
    "from src.utils import load_json"
   ]
  },
  {
   "cell_type": "markdown",
   "metadata": {},
   "source": [
    "# $D_{max}$ error cdfs"
   ]
  },
  {
   "cell_type": "code",
   "execution_count": null,
   "metadata": {},
   "outputs": [],
   "source": [
    "\n",
    "loaded_set = [load_json()]"
   ]
  },
  {
   "cell_type": "code",
   "execution_count": null,
   "metadata": {},
   "outputs": [],
   "source": [
    "# Plot dmax error in cdfs\n",
    "ep = 1e-1\n",
    "n_levels = 4\n",
    "fig, ax = plt.subplots(figsize=(6,8), nrows=n_levels, sharex=True, sharey=True)\n",
    "colors = ['k', 'k', 'k', 'k']\n",
    "linestyles = ['-', '--', '-', '--']\n",
    "labels = ['CLEAN', 'CLEAN shuffled', 'ESM', 'ESM shuffled']\n",
    "z = [128, 128, 1280, 1280] # n_dimensions\n",
    "\n",
    "for j, elt in enumerate(loaded_set):\n",
    "    for i,k in enumerate(elt.keys()):\n",
    "        x = np.sort(elt[k])\n",
    "        # x = np.sort(elt[k]) / z[j] # Normalize dmaxes by n_dimensions\n",
    "        y = np.arange(len(x)) / (len(x) - 1)\n",
    "        ax[i].plot(x, y, color=colors[j], label=labels[j], ls=linestyles[j])\n",
    "        ax[i].set_title(f\"Level {int(k)+1}\", fontsize=10)\n",
    "\n",
    "ax[-1].set_ylabel(r'$P(X \\leq x)$')\n",
    "# ax[-1].set_xlabel(r'$d_{max}$ / number of dimensions')\n",
    "ax[-1].set_xlabel(r'$\\frac{N_{false positive}}{N_{negative}}$', fontsize=14)\n",
    "ax[0].set_ylim(-ep, 1 + ep)\n",
    "ax[0].set_xlim(-ep, 1 + ep)\n",
    "# ax[0].legend()\n",
    "plt.show()"
   ]
  },
  {
   "cell_type": "code",
   "execution_count": null,
   "metadata": {},
   "outputs": [],
   "source": [
    "# Plot dmax error all curves 1 cdf with color labels\n",
    "\n",
    "# for_plot = load_json('../data/from_analysis/dmax_error_fracs_clean.json')\n",
    "# for_plot = error_fracs\n",
    "ep = 1e-1\n",
    "n_levels = 4\n",
    "fig, ax = plt.subplots(figsize=(6,4))\n",
    "\n",
    "for i,k in enumerate(for_plot.keys()):\n",
    "    x = np.sort(for_plot[k])\n",
    "    y = np.arange(len(x)) / (len(x) - 1)\n",
    "    ax.plot(x, y, label=f\"Level {int(k)+1}\", ls='-')\n",
    "    ax.set_title(f\"CLEAN embeddings\", fontsize=10)\n",
    "\n",
    "ax.set_ylabel(r'$P(X \\leq x)$')\n",
    "ax.set_xlabel(r'$\\frac{N_{false positive}}{N_{negative}}$', fontsize=14)\n",
    "ax.set_ylim(-ep, 1 + ep)\n",
    "ax.set_xlim(-ep, 1 + ep)\n",
    "ax.legend()\n",
    "plt.show()"
   ]
  }
 ],
 "metadata": {
  "language_info": {
   "name": "python"
  }
 },
 "nbformat": 4,
 "nbformat_minor": 2
}
