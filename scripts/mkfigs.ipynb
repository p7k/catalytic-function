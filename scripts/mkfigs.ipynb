{
 "cells": [
  {
   "cell_type": "code",
   "execution_count": 1,
   "metadata": {},
   "outputs": [],
   "source": [
    "import matplotlib.pyplot as plt\n",
    "import numpy as np\n",
    "from src.utils import load_json"
   ]
  },
  {
   "cell_type": "markdown",
   "metadata": {},
   "source": [
    "# $D_{max}$ error cdfs"
   ]
  },
  {
   "cell_type": "code",
   "execution_count": null,
   "metadata": {},
   "outputs": [],
   "source": [
    "\n",
    "loaded_set = [load_json()]"
   ]
  },
  {
   "cell_type": "code",
   "execution_count": null,
   "metadata": {},
   "outputs": [],
   "source": [
    "# Plot dmax error in cdfs\n",
    "ep = 1e-1\n",
    "n_levels = 4\n",
    "fig, ax = plt.subplots(figsize=(6,8), nrows=n_levels, sharex=True, sharey=True)\n",
    "colors = ['k', 'k', 'k', 'k']\n",
    "linestyles = ['-', '--', '-', '--']\n",
    "labels = ['CLEAN', 'CLEAN shuffled', 'ESM', 'ESM shuffled']\n",
    "z = [128, 128, 1280, 1280] # n_dimensions\n",
    "\n",
    "for j, elt in enumerate(loaded_set):\n",
    "    for i,k in enumerate(elt.keys()):\n",
    "        x = np.sort(elt[k])\n",
    "        # x = np.sort(elt[k]) / z[j] # Normalize dmaxes by n_dimensions\n",
    "        y = np.arange(len(x)) / (len(x) - 1)\n",
    "        ax[i].plot(x, y, color=colors[j], label=labels[j], ls=linestyles[j])\n",
    "        ax[i].set_title(f\"Level {int(k)+1}\", fontsize=10)\n",
    "\n",
    "ax[-1].set_ylabel(r'$P(X \\leq x)$')\n",
    "# ax[-1].set_xlabel(r'$d_{max}$ / number of dimensions')\n",
    "ax[-1].set_xlabel(r'$\\frac{N_{false positive}}{N_{negative}}$', fontsize=14)\n",
    "ax[0].set_ylim(-ep, 1 + ep)\n",
    "ax[0].set_xlim(-ep, 1 + ep)\n",
    "# ax[0].legend()\n",
    "plt.show()"
   ]
  },
  {
   "cell_type": "code",
   "execution_count": null,
   "metadata": {},
   "outputs": [],
   "source": [
    "# Plot dmax error all curves 1 cdf with color labels\n",
    "\n",
    "# for_plot = load_json('../data/from_analysis/dmax_error_fracs_clean.json')\n",
    "# for_plot = error_fracs\n",
    "ep = 1e-1\n",
    "n_levels = 4\n",
    "fig, ax = plt.subplots(figsize=(6,4))\n",
    "\n",
    "for i,k in enumerate(for_plot.keys()):\n",
    "    x = np.sort(for_plot[k])\n",
    "    y = np.arange(len(x)) / (len(x) - 1)\n",
    "    ax.plot(x, y, label=f\"Level {int(k)+1}\", ls='-')\n",
    "    ax.set_title(f\"CLEAN embeddings\", fontsize=10)\n",
    "\n",
    "ax.set_ylabel(r'$P(X \\leq x)$')\n",
    "ax.set_xlabel(r'$\\frac{N_{false positive}}{N_{negative}}$', fontsize=14)\n",
    "ax.set_ylim(-ep, 1 + ep)\n",
    "ax.set_xlim(-ep, 1 + ep)\n",
    "ax.legend()\n",
    "plt.show()"
   ]
  },
  {
   "cell_type": "markdown",
   "metadata": {},
   "source": [
    "# $n^{th}$-level error"
   ]
  },
  {
   "cell_type": "code",
   "execution_count": 15,
   "metadata": {},
   "outputs": [],
   "source": [
    "# Load data\n",
    "\n",
    "db = 'swissprot'\n",
    "embed_type = 'clean'\n",
    "\n",
    "acc_path = f\"../artifacts/embed_analysis/nth_level_accuracy_{db}_{embed_type}.json\"\n",
    "tot_path = f\"../artifacts/embed_analysis/nth_level_totals_{db}_{embed_type}.json\"\n",
    "chance_path = f\"../artifacts/embed_analysis/nth_level_chance_{db}_{embed_type}.json\"\n",
    "n_levels = 4\n",
    "\n",
    "accuracy = load_json(acc_path)\n",
    "total = load_json(tot_path)\n",
    "chance = load_json(chance_path)\n",
    "\n",
    "ecs_by_level = [[] for i in range(4)]\n",
    "for k in accuracy.keys():\n",
    "    ecs_by_level[len(k.split('.')) - 1].append(k)\n",
    "    # print(len(k.split('.')))\n",
    "    \n",
    "\n",
    "# old_list = [accuracy, total, chance]\n",
    "# new_list = []\n",
    "# for elt in old_list:\n",
    "#     temp = {}\n",
    "#     for k,v in elt.items():\n",
    "#         this_k = tuple([int(dig) for dig in k.split('.')])\n",
    "#         temp[this_k] = v\n",
    "\n",
    "#     new_list.append(temp)\n",
    "\n",
    "# accuracy, total, chance = new_list"
   ]
  },
  {
   "cell_type": "code",
   "execution_count": 16,
   "metadata": {},
   "outputs": [],
   "source": [
    "# Arrange data for plot\n",
    "\n",
    "# An array of data at each position of an n_levels\n",
    "# length list\n",
    "acc_arr = [[] for i in range(n_levels)] # Straight accuracy\n",
    "rel_acc_arr = [[] for i in range(n_levels)] # Accuracy / chance accuracy\n",
    "chance_arr = [[] for i in range(n_levels)] # Chance accuracy\n",
    "err_by_chance_arr = [[] for i in range(n_levels)] # Chance error level\n",
    "error_rate_arr = [[] for i in range(n_levels)] # Error rate\n",
    "rel_err_arr = [[] for i in range(n_levels)] # Error rate / chance error\n",
    "for l in range(n_levels):\n",
    "    for elt in ecs_by_level[l]:\n",
    "        if (elt in accuracy) & (elt in chance):\n",
    "            acc_arr[l].append(accuracy[elt])\n",
    "            # rel_acc_arr[l].append(accuracy[elt] / chance[elt])\n",
    "            rel_acc_arr[l].append((accuracy[elt] - chance[elt]) / chance[elt])\n",
    "            chance_arr[l].append(chance[elt])\n",
    "            err_by_chance_arr[l].append(1 - chance[elt])\n",
    "            error_rate_arr[l].append(1 - accuracy[elt])\n",
    "            rel_err_arr[l].append((1 - accuracy[elt]) / (1 - chance[elt]))\n",
    "            # rel_err_arr[l].append(((1 - accuracy[elt]) - (1 - chance[elt])) /(1 - chance[elt]))"
   ]
  },
  {
   "cell_type": "code",
   "execution_count": 17,
   "metadata": {},
   "outputs": [
    {
     "data": {
      "image/png": "[encoded data removed]",
      "text/plain": [
       "<Figure size 640x480 with 1 Axes>"
      ]
     },
     "metadata": {},
     "output_type": "display_data"
    }
   ],
   "source": [
    "measure = error_rate_arr\n",
    "ylabel = \"Error rate\"\n",
    "\n",
    "level_arr = np.arange(1, n_levels+1)\n",
    "ep = 1e-1\n",
    "mean_measure = [np.array(elt).mean() for elt in measure]\n",
    "sem_measure = [np.array(elt).std() / np.sqrt(len(elt)) for elt in measure]\n",
    "\n",
    "fig, ax = plt.subplots()\n",
    "ax.errorbar(level_arr, mean_measure, yerr=sem_measure, color='k')\n",
    "ax.set_ylabel(ylabel)\n",
    "ax.set_xlabel('Level')\n",
    "ax.set_ylim(-ep, 1 + ep)\n",
    "ax.set_xticks(level_arr)\n",
    "plt.show()"
   ]
  }
 ],
 "metadata": {
  "kernelspec": {
   "display_name": "hiec",
   "language": "python",
   "name": "python3"
  },
  "language_info": {
   "codemirror_mode": {
    "name": "ipython",
    "version": 3
   },
   "file_extension": ".py",
   "mimetype": "text/x-python",
   "name": "python",
   "nbconvert_exporter": "python",
   "pygments_lexer": "ipython3",
   "version": "3.11.5"
  }
 },
 "nbformat": 4,
 "nbformat_minor": 2
}
