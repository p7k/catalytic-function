{
 "cells": [
  {
   "cell_type": "code",
   "execution_count": 105,
   "metadata": {},
   "outputs": [],
   "source": [
    "import torch\n",
    "import os\n",
    "import numpy as np\n",
    "import matplotlib.pyplot as plt\n",
    "from matplotlib.lines import Line2D"
   ]
  },
  {
   "cell_type": "code",
   "execution_count": 4,
   "metadata": {},
   "outputs": [
    {
     "name": "stdout",
     "output_type": "stream",
     "text": [
      "dict_keys(['label', 'mean_representations'])\n"
     ]
    },
    {
     "data": {
      "text/plain": [
       "torch.Size([1280])"
      ]
     },
     "execution_count": 4,
     "metadata": {},
     "output_type": "execute_result"
    }
   ],
   "source": [
    "directory = \"/home/stef/hiec/data/embeddings/proteins/\"\n",
    "path = \"/home/stef/hiec/data/embeddings/proteins/A0A1H8KP99 | 3.6.3.19.pt\"\n",
    "model = torch.load(path)\n",
    "print(model.keys())\n",
    "type(model['mean_representations'])\n",
    "rep = model['mean_representations']\n",
    "em = rep[32]\n",
    "em.shape"
   ]
  },
  {
   "cell_type": "code",
   "execution_count": 5,
   "metadata": {},
   "outputs": [],
   "source": [
    "ids, ecs, embeds = [], [], []\n",
    "\n",
    "for i, elt in enumerate(os.listdir(directory)):\n",
    "    # print(elt)\n",
    "    path = directory + elt\n",
    "    model = torch.load(path)\n",
    "    ids.append(model['label'].split(' | ')[0])\n",
    "    ecs.append(model['label'].split(' | ')[1])\n",
    "    embeds.append(model['mean_representations'][32])\n",
    "    # print(model['mean_representations'][32].shape)\n",
    "    if i > 10:\n",
    "        break\n",
    "\n",
    "embeds = torch.stack(embeds)"
   ]
  },
  {
   "cell_type": "code",
   "execution_count": 6,
   "metadata": {},
   "outputs": [
    {
     "data": {
      "text/plain": [
       "12"
      ]
     },
     "execution_count": 6,
     "metadata": {},
     "output_type": "execute_result"
    }
   ],
   "source": [
    "len(embeds)"
   ]
  },
  {
   "cell_type": "code",
   "execution_count": 7,
   "metadata": {},
   "outputs": [
    {
     "name": "stdout",
     "output_type": "stream",
     "text": [
      "8\n",
      "78\n",
      "309\n",
      "8423\n"
     ]
    }
   ],
   "source": [
    "# Read in set of unique EC\n",
    "ec_path = '/home/stef/hiec/data/ec.txt'\n",
    "unique_ecs = {}\n",
    "with open(ec_path, 'r') as f:\n",
    "    temp = f.readlines()\n",
    "\n",
    "temp = [elt[:-1] for elt in temp]\n",
    "\n",
    "for i in range(4):\n",
    "    unique_ecs[i] = []\n",
    "    \n",
    "for elt in temp:\n",
    "    for i in range(4):\n",
    "        unique_ecs[i].append('.'.join(elt.split('.')[:i+1]))\n",
    "\n",
    "temp = {}\n",
    "for k,v in unique_ecs.items():\n",
    "    temp[k] = sorted(list(set(v)))\n",
    "\n",
    "unique_ecs = temp\n",
    "for v in unique_ecs.values():\n",
    "    print(len(v))"
   ]
  },
  {
   "cell_type": "code",
   "execution_count": null,
   "metadata": {},
   "outputs": [],
   "source": []
  },
  {
   "cell_type": "code",
   "execution_count": 8,
   "metadata": {},
   "outputs": [],
   "source": [
    "# Handle loading"
   ]
  },
  {
   "cell_type": "code",
   "execution_count": 9,
   "metadata": {},
   "outputs": [],
   "source": [
    "def load_embed(path):\n",
    "    model = torch.load(path)\n",
    "    uni_id = model['label'].split(' | ')[0]\n",
    "    ec = model['label'].split(' | ')[1]\n",
    "    embed = model['mean_representations'][32]\n",
    "    return uni_id, ec, embed\n",
    "\n",
    "def load_class(ec_arr, dir_path):\n",
    "    '''Loads samples from\n",
    "    provided EC class given \n",
    "    as an array'''\n",
    "    ids, ecs, embeds = [], [], []\n",
    "    ec_str = '| ' + '.'.join([str(elt) for elt in ec_arr]) + '.'\n",
    "    for elt in os.listdir(dir_path):\n",
    "        if ec_str in elt:\n",
    "            path = dir_path + elt\n",
    "            uni_id, this_ec, embed = load_embed(path)\n",
    "            ids.append(uni_id)\n",
    "            ecs.append(this_ec)\n",
    "            embeds.append(embed)\n",
    "\n",
    "    embeds = torch.stack(embeds)\n",
    "\n",
    "    return ids, ecs, embeds\n",
    "\n",
    "def dist_between(vec, vec_arr):\n",
    "    '''Computes Euclidean distance btwn\n",
    "     vec and each row in vec_arr'''\n",
    "    vec_repeat = vec.repeat(vec_arr.shape[0], 1)\n",
    "    diff = vec_arr - vec_repeat\n",
    "    dists = torch.linalg.vector_norm(diff, dim=1)\n",
    "    return dists"
   ]
  },
  {
   "cell_type": "code",
   "execution_count": 10,
   "metadata": {},
   "outputs": [],
   "source": [
    "n_levels = 4 # Levels of hierarchy in EC\n",
    "class_ec = np.array([1,1,1])\n",
    "class_ec_ext = np.concatenate([class_ec, np.zeros(shape=(n_levels-len(class_ec)))]) # Extend class_ec w/ zeros\n",
    "ids, class_ecs, class_embeds = load_class(class_ec, directory) # Load class\n",
    "\n",
    "# Load negative samples\n",
    "neg_ecs = [] # ECs of negative samples (outside of class)\n",
    "neg_embeds = []\n",
    "for i, elt in enumerate(os.listdir(directory)[::10000]):\n",
    "    _, this_ec, this_embed = load_embed(directory + elt)\n",
    "    neg_ecs.append(np.array(this_ec.split('.')).astype(int)) # EC str -> arr\n",
    "    neg_embeds.append(this_embed)\n",
    "\n",
    "neg_embeds = torch.stack(neg_embeds)\n",
    "neg_ecs = np.stack(neg_ecs)"
   ]
  },
  {
   "cell_type": "code",
   "execution_count": 113,
   "metadata": {},
   "outputs": [],
   "source": [
    "# Create dummy data\n",
    "\n",
    "seed = 825\n",
    "n_samples = 500\n",
    "dim = 2 # Dimensionality of space\n",
    "n_ints = 2 # Number of values a class digit can take\n",
    "n_levels = 2 # Number of levels in class hierarchy\n",
    "tot_labels = n_ints * n_levels\n",
    "\n",
    "unique_labels = []\n",
    "for i in range(1, n_levels + 1):\n",
    "    for j in range(1, n_ints + 1):\n",
    "        unique_labels.append((i, j))\n",
    "\n",
    "# Random scattering, random labeling\n",
    "rng = np.random.default_rng(seed)\n",
    "random_data = rng.normal(size=(n_samples, dim))\n",
    "random_labels = rng.choice(np.arange(n_ints)+1, size=(n_samples, n_levels))\n",
    "\n",
    "# Hierarchical and non-hierarchical scatter\n",
    "# Make ordered labels\n",
    "n_per_class = n_samples // tot_labels\n",
    "ordered_labels = []\n",
    "for i in range(tot_labels):\n",
    "    ordered_labels += [list(unique_labels[i]) for j in range(n_per_class)]\n",
    "\n",
    "ordered_labels = np.array(ordered_labels)\n",
    "\n",
    "cov = np.eye(2) # Define covariance\n",
    "\n",
    "# Hierachical scatter\n",
    "means = [[4, 8], [-4, 8], [-4, -8], [4, -8]]\n",
    "hier_data = []\n",
    "for i in range(tot_labels):\n",
    "    hier_data.append(rng.multivariate_normal(means[i], cov, size=n_per_class))\n",
    "\n",
    "hier_data = np.vstack(hier_data)\n",
    "\n",
    "\n",
    "# Non-hierarchical scatter\n",
    "means = [[4, 8], [-4, -8], [-4, 8], [4, -8]]\n",
    "nh_data = []\n",
    "for i in range(tot_labels):\n",
    "    nh_data.append(rng.multivariate_normal(means[i], cov, size=n_per_class))\n",
    "\n",
    "nh_data = np.vstack(nh_data)\n"
   ]
  },
  {
   "cell_type": "code",
   "execution_count": 134,
   "metadata": {},
   "outputs": [
    {
     "name": "stdout",
     "output_type": "stream",
     "text": [
      "[1. 0.] torch.Size([250, 2])\n"
     ]
    }
   ],
   "source": [
    "dummy_data = hier_data\n",
    "dummy_labels = ordered_labels\n",
    "class_ec = np.array([1])\n",
    "class_ec_ext = np.concatenate([class_ec, np.zeros(shape=(n_levels-len(class_ec)))]) # Extend class_ec w/ zeros\n",
    "\n",
    "# Split dummy data\n",
    "# To get class samples, enforce that their EC number\n",
    "# is the same as class_ec up to as long class_ec is\n",
    "class_idx = np.sum((dummy_labels - class_ec_ext)[:,:class_ec.shape[0]], axis=1) == 0\n",
    "class_embeds = torch.tensor(dummy_data[class_idx])\n",
    "neg_embeds = torch.tensor(dummy_data[~class_idx])\n",
    "class_ecs = torch.tensor(dummy_labels[class_idx])\n",
    "neg_ecs = torch.tensor(dummy_labels[~class_idx])"
   ]
  },
  {
   "cell_type": "code",
   "execution_count": 135,
   "metadata": {},
   "outputs": [
    {
     "data": {
      "image/png": "[encoded data removed]",
      "text/plain": [
       "<Figure size 640x480 with 1 Axes>"
      ]
     },
     "metadata": {},
     "output_type": "display_data"
    }
   ],
   "source": [
    "# Plot data\n",
    "\n",
    "fmt_strs = ['ro', 'rx', 'bo', 'bx']\n",
    "leg_elts = []\n",
    "for i in range(tot_labels):\n",
    "    leg_elts.append(Line2D([0], [0], marker=fmt_strs[i][1], color=fmt_strs[i][0], label=unique_labels[i], markerfacecolor=fmt_strs[i][0], markersize=10))\n",
    "\n",
    "fig, ax = plt.subplots()\n",
    "for i in range(n_samples):\n",
    "    idx = unique_labels.index(tuple(dummy_labels[i]))\n",
    "    ax.plot(dummy_data[i][0], dummy_data[i][1], fmt_strs[idx])\n",
    "\n",
    "\n",
    "ax.legend(handles=leg_elts)\n",
    "plt.show()"
   ]
  },
  {
   "cell_type": "code",
   "execution_count": 136,
   "metadata": {},
   "outputs": [
    {
     "name": "stdout",
     "output_type": "stream",
     "text": [
      "0.0\n"
     ]
    }
   ],
   "source": [
    "\n",
    "centroid = torch.mean(class_embeds, dim=0) # Compute class centroid\n",
    "ds_win_class = dist_between(centroid, class_embeds)\n",
    "dmax = torch.max(ds_win_class) # Get dmax\n",
    "ds_neg = dist_between(centroid, neg_embeds) # Distances from negative samples to class centroid\n",
    "less_dmax = ds_neg <= dmax\n",
    "fps = neg_embeds[np.array(less_dmax)]\n",
    "fp_ecs = neg_ecs[np.array(less_dmax)] # \"False positives\" fall w/in hypersphere\n",
    "tn_ecs = neg_ecs[~np.array(less_dmax)]\n",
    "\n",
    "# Keep track of order of error, i.e.,\n",
    "# at what EC digit is there the first\n",
    "# difference with the class ec\n",
    "first_diff = lambda x : [list((x != 0)[i]).index(True) for i in range(x.shape[0])]\n",
    "\n",
    "error_order = first_diff(fp_ecs - class_ec_ext)\n",
    "error_frac = fp_ecs.shape[0] / neg_embeds.shape[0]\n",
    "print(error_frac)"
   ]
  },
  {
   "cell_type": "code",
   "execution_count": null,
   "metadata": {},
   "outputs": [
    {
     "name": "stdout",
     "output_type": "stream",
     "text": [
      "['test\\n']\n"
     ]
    }
   ],
   "source": [
    "test_path = '/home/stef/hiec/data/test/test.txt'\n",
    "with open(test_path, 'r') as f:\n",
    "    print(f.readlines())"
   ]
  },
  {
   "cell_type": "code",
   "execution_count": null,
   "metadata": {},
   "outputs": [],
   "source": []
  }
 ],
 "metadata": {
  "kernelspec": {
   "display_name": "hiec",
   "language": "python",
   "name": "python3"
  },
  "language_info": {
   "codemirror_mode": {
    "name": "ipython",
    "version": 3
   },
   "file_extension": ".py",
   "mimetype": "text/x-python",
   "name": "python",
   "nbconvert_exporter": "python",
   "pygments_lexer": "ipython3",
   "version": "3.11.5"
  },
  "orig_nbformat": 4
 },
 "nbformat": 4,
 "nbformat_minor": 2
}
