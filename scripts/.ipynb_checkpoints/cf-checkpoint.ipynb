{
 "cells": [
  {
   "cell_type": "markdown",
   "metadata": {
    "jp-MarkdownHeadingCollapsed": true
   },
   "source": [
    "# Initial development"
   ]
  },
  {
   "cell_type": "code",
   "execution_count": 16,
   "metadata": {},
   "outputs": [],
   "source": [
    "import pandas as pd\n",
    "import numpy as np\n",
    "import os\n",
    "from sklearn.metrics import accuracy_score, roc_auc_score\n",
    "import scipy as sp\n",
    "from sys import getsizeof\n",
    "import time\n"
   ]
  },
  {
   "cell_type": "code",
   "execution_count": 9,
   "metadata": {},
   "outputs": [],
   "source": [
    "'''\n",
    "Row-Col format. More intuitive. Was a bit slow.\n",
    "Think would work if i csr.eliminate_zeros() before\n",
    "calling sort and then do\n",
    "row, col = sparse_arr.nonzero()\n",
    "data = sparse_arr.data\n",
    "'''\n",
    "\n",
    "# def sort_sparse(sparse_arr, axis, descending=True):\n",
    "#     axis = axis ^ 1\n",
    "#     row, col = sparse_arr.nonzero()\n",
    "#     data = [sparse_arr[row[i], col[i]] for i in range(len(row))]\n",
    "#     sorted_nonzero = sorted(zip(row, col, data), key=lambda x: (x[axis], x[-1]), reverse=descending)\n",
    "\n",
    "#     axwise_sort = {}\n",
    "#     for elt in sorted_nonzero:\n",
    "#         if elt[0] not in axwise_sort:\n",
    "#             axwise_sort[elt[axis]] = [elt[-1]]\n",
    "#         else:\n",
    "#             axwise_sort[elt[axis]].append(elt[-1])\n",
    "\n",
    "#     return axwise_sort\n",
    "\n",
    "# def sort_sparse_idx(sparse_arr, axis, descending=True):\n",
    "#     other = axis\n",
    "#     axis = axis ^ 1\n",
    "#     row, col = sparse_arr.nonzero()\n",
    "#     print(\"Pulling data\")\n",
    "#     # data = [sparse_arr[row[i], col[i]] for i in range(len(row))]\n",
    "#     data = sparse_arr.data\n",
    "#     print(\"Sorting data\")\n",
    "#     foo = zip(row, col, data)\n",
    "#     sorted_nonzero = sorted(zip(row, col, data), key=lambda x: (x[axis], x[-1]), reverse=descending)\n",
    "\n",
    "#     print(\"Constructing dict\")\n",
    "#     axwise_sort = {}\n",
    "#     for elt in sorted_nonzero:\n",
    "#         if elt[0] not in axwise_sort:\n",
    "#             axwise_sort[elt[axis]] = [elt[other]]\n",
    "#         else:\n",
    "#             axwise_sort[elt[axis]].append(elt[other])\n",
    "\n",
    "#     return axwise_sort\n",
    "\n",
    "'''\n",
    "Canonical format\n",
    "'''\n",
    "\n",
    "def sort_sparse_axwise(sparse_arr, descending=True):\n",
    "    axwise_sorted_idxs = {}\n",
    "    for i in range(sparse_arr.indptr.shape[0] - 1):\n",
    "        idxs = sparse_arr.indices[sparse_arr.indptr[i]:sparse_arr.indptr[i+1]]\n",
    "\n",
    "        if idxs.shape[0] == 0:\n",
    "            continue\n",
    "            \n",
    "        data = sparse_arr.data[sparse_arr.indptr[i]:sparse_arr.indptr[i+1]]\n",
    "        data_sorted_idxs = np.array(sorted(zip(data, idxs), reverse=descending)).astype(np.int32)\n",
    "        axwise_sorted_idxs[i] = data_sorted_idxs\n",
    "\n",
    "    return axwise_sorted_idxs"
   ]
  },
  {
   "cell_type": "code",
   "execution_count": 10,
   "metadata": {},
   "outputs": [
    {
     "name": "stdout",
     "output_type": "stream",
     "text": [
      "Loading\n"
     ]
    }
   ],
   "source": [
    "\n",
    "dataset = 'new'\n",
    "y_fn = \"protein_x_catalytic_function.npz\"\n",
    "\n",
    "\n",
    "rng = np.random.default_rng(seed=1234)\n",
    "path = f\"../data/{dataset}/\"\n",
    "\n",
    "# Read data table of contents csv\n",
    "df = pd.read_csv(path + f\"{dataset}.csv\", delimiter='\\t')\n",
    "df.set_index('Entry', inplace=True)\n",
    "entry_idxs = list(df.index)\n",
    "ec_idxs = set()\n",
    "for elt in df.loc[:, \"EC number\"]:\n",
    "    for ec in elt.split(';'):\n",
    "        ec_idxs.add(ec)\n",
    "ec_idxs = list(ec_idxs)\n",
    "\n",
    "n_samples = len(entry_idxs)\n",
    "n_features = len(ec_idxs)\n",
    "\n",
    "if os.path.exists(path + y_fn):\n",
    "    print(\"Loading\")\n",
    "    y = sp.sparse.load_npz(path + y_fn)\n",
    "    row, col = y.nonzero()\n",
    "\n",
    "    data = []\n",
    "    for i in range(len(row)):\n",
    "        data.append(y[row[i], col[i]])\n",
    "\n",
    "\n",
    "else:\n",
    "    # Construct ground truth protein-function matrix\n",
    "    print(\"Constructing y\")\n",
    "    row, col, data = [], [], [] # For csr\n",
    "    i = 0\n",
    "    for elt in df.index:\n",
    "        ecs = df.loc[elt, 'EC number'].split(';')\n",
    "        i = entry_idxs.index(elt)\n",
    "        for ec in ecs:\n",
    "            j = ec_idxs.index(ec)\n",
    "            row.append(i)\n",
    "            col.append(j)\n",
    "            data.append(1)\n",
    "        \n",
    "        i += 1\n",
    "        print(f\"{i}/{n_samples}\", end='\\r')\n",
    "\n",
    "    y = sp.sparse.csr_array((data, (row, col)))\n",
    "    print(\"\\nSaving y\")\n",
    "    sp.sparse.save_npz(path + y_fn, y)\n"
   ]
  },
  {
   "cell_type": "code",
   "execution_count": 11,
   "metadata": {},
   "outputs": [
    {
     "name": "stdout",
     "output_type": "stream",
     "text": [
      "Get ones to mask\n",
      "Get zeros to mask\n",
      "n0:1\n",
      "Sorting similarity matrix\n"
     ]
    }
   ],
   "source": [
    "percent_to_mask = 0.01\n",
    "\n",
    "\n",
    "n_mask = int((len(row) * percent_to_mask) / 2) # 50-50 split of 1s and 0s of 1% of elements\n",
    "\n",
    "# Sample ones\n",
    "print(\"Get ones to mask\")\n",
    "rnd_idxs = rng.integers(0, len(row), size=(n_mask,))\n",
    "mask_row, mask_col, y_true = zip(*[(row[idx], col[idx], 1) for idx in rnd_idxs])\n",
    "mask_row, mask_col, y_true = list(mask_row), list(mask_col), list(y_true)\n",
    "\n",
    "# Mask ones\n",
    "for elt in range(len(mask_row)):\n",
    "    i, j = mask_row[elt], mask_col[elt]\n",
    "    y[i, j] = 0\n",
    "\n",
    "y.eliminate_zeros()\n",
    "\n",
    "# Sample zeros\n",
    "print(\"Get zeros to mask\")\n",
    "n0 = 0\n",
    "sampled_ones_idxs = list(zip(mask_row, mask_col))\n",
    "while n0 < n_mask:\n",
    "    print(f\"n0:{n0}\", end='\\r')\n",
    "    sampled_idx = (rng.integers(0, n_samples), rng.integers(0, n_features))\n",
    "\n",
    "    if sampled_idx not in sampled_ones_idxs:\n",
    "        mask_row.append(sampled_idx[0])\n",
    "        mask_col.append(sampled_idx[1])\n",
    "        y_true.append(0)\n",
    "        n0 += 1\n",
    "\n",
    "similarity = y @ y.T # Prot-prot similarity matrix\n",
    "similarity.eliminate_zeros()\n",
    "\n",
    "# Zero out all but k nearest neighbors\n",
    "print(\"\\nSorting similarity matrix\")\n",
    "rowwise_sorted_sparse = sort_sparse_axwise(similarity)\n"
   ]
  },
  {
   "cell_type": "code",
   "execution_count": 12,
   "metadata": {},
   "outputs": [],
   "source": [
    "k = 3 # K-nearest-neighbors\n",
    "indptr = [0]\n",
    "indices = np.array([])\n",
    "data = np.array([])\n",
    "for i in range(similarity.shape[0]):\n",
    "    v = rowwise_sorted_sparse.get(i, None)\n",
    "    if v is not None:\n",
    "        indices = np.hstack((indices, v[:k, 1]))\n",
    "        data = np.hstack((data, v[:k, 0]))\n",
    "\n",
    "        if k < v.shape[0]:\n",
    "            indptr.append(indptr[-1] + k)\n",
    "        else:\n",
    "            indptr.append(indptr[-1] + v.shape[0])\n",
    "    \n",
    "    else:\n",
    "        indptr.append(indptr[-1])\n"
   ]
  },
  {
   "cell_type": "code",
   "execution_count": 13,
   "metadata": {},
   "outputs": [
    {
     "name": "stdout",
     "output_type": "stream",
     "text": [
      "True\n",
      "Normalizing similarity matrix\n",
      "Accuracy: 0.5\n",
      "ROC AUC: 0.5\n",
      "Done\n"
     ]
    },
    {
     "name": "stderr",
     "output_type": "stream",
     "text": [
      "/tmp/ipykernel_105675/3077746288.py:6: RuntimeWarning: divide by zero encountered in divide\n",
      "  similarity_k = similarity_k.multiply(1 / row_sum)\n"
     ]
    }
   ],
   "source": [
    "similarity_k = sp.sparse.csr_array((data, indices, indptr), shape=similarity.shape)\n",
    "print(similarity_k.shape == similarity.shape)\n",
    "\n",
    "print(\"Normalizing similarity matrix\")\n",
    "row_sum = similarity_k.sum(axis=1).reshape(-1,1)\n",
    "similarity_k = similarity_k.multiply(1 / row_sum)\n",
    "\n",
    "# Predict \n",
    "y_hat = similarity_k @ y\n",
    "y_true = np.array(y_true)\n",
    "y_pred = np.array(y_hat[mask_row, mask_col]).reshape(-1,)\n",
    "\n",
    "accuracy = accuracy_score(y_true, y_pred>0)\n",
    "roc_auc = roc_auc_score(y_true, y_pred>0)\n",
    "\n",
    "print(f\"Accuracy: {accuracy}\")\n",
    "print(f\"ROC AUC: {roc_auc}\")\n",
    "\n",
    "\n",
    "print(\"Done\")\n",
    "\n"
   ]
  },
  {
   "cell_type": "markdown",
   "metadata": {},
   "source": [
    "# esm v clean precision-recall curves"
   ]
  },
  {
   "cell_type": "code",
   "execution_count": 1,
   "metadata": {},
   "outputs": [],
   "source": [
    "from src.collaborative_filtering import cf\n",
    "from sklearn.metrics import roc_auc_score, accuracy_score, f1_score, precision_recall_curve\n",
    "import pandas as pd\n",
    "import matplotlib.pyplot as plt\n",
    "import numpy as np\n",
    "from src.utils import load_json"
   ]
  },
  {
   "cell_type": "code",
   "execution_count": 2,
   "metadata": {},
   "outputs": [
    {
     "data": {
      "text/plain": [
       "{'ks': [1, 3, 5, 10, 50],\n",
       " 'F1': [0.967306383566396,\n",
       "  0.9631968575430874,\n",
       "  0.9556004488349152,\n",
       "  0.9383376074577109,\n",
       "  0.8776584955577229],\n",
       " 'F1_err': [0.00021631019759609424,\n",
       "  0.0002934372940777728,\n",
       "  0.0002890295823959772,\n",
       "  0.0006351346439183386,\n",
       "  0.0011146769946518331],\n",
       " 'thresholds': [0.8166665312887902,\n",
       "  0.6000587995893202,\n",
       "  0.4001208854701761,\n",
       "  0.5000622845946637,\n",
       "  0.4041588305341136],\n",
       " 'thresholds_err': [0.11642828534272637,\n",
       "  0.05959292634347693,\n",
       "  1.0616062738985597e-05,\n",
       "  1.1364158172490207e-05,\n",
       "  0.006682866098861047]}"
      ]
     },
     "execution_count": 2,
     "metadata": {},
     "output_type": "execute_result"
    }
   ],
   "source": [
    "clean_hps = load_json('/home/spn1560/hiec/artifacts/cf/5_fold_hpo_swissprot_clean_knn_speedup_test.json')\n",
    "esm_hps = load_json('/home/spn1560/hiec/artifacts/cf/5_fold_hpo_swissprot_esm_knn_speedup_test.json')\n",
    "esm_hps"
   ]
  },
  {
   "cell_type": "code",
   "execution_count": null,
   "metadata": {},
   "outputs": [],
   "source": [
    "f1s = []"
   ]
  },
  {
   "cell_type": "code",
   "execution_count": 4,
   "metadata": {},
   "outputs": [
    {
     "name": "stdout",
     "output_type": "stream",
     "text": [
      "Checking for similarity matrices\n",
      "Loading swissprot sparse adjacency matrix\n",
      "Loading price sparse adjacency matrix\n",
      "kNN thresholding & normalizing\n",
      "Predicting\n",
      "Evalutating\n",
      "0.48648648648648646\n"
     ]
    }
   ],
   "source": [
    "\n",
    "master_ec_path = '../data/master_ec_idxs.csv'\n",
    "master_ec_df = pd.read_csv(master_ec_path, delimiter='\\t')\n",
    "master_ec_idxs = {k: i for i, k in enumerate(master_ec_df.loc[:, 'EC number'])}\n",
    "\n",
    "X_name, Y_name = 'swissprot', 'price'\n",
    "embed_type = 'esm'\n",
    "k = 3\n",
    "decision_threshold = 0.6\n",
    "cf_model = cf(X_name, Y_name, embed_type, master_ec_idxs) # Init\n",
    "cf_model.fit() # Fit\n",
    "Y_hat = cf_model.predict(k)\n",
    "Y_pred = Y_hat > decision_threshold\n",
    "metric = cf_model.evaluate(Y_pred, f1_score)\n",
    "print(metric)"
   ]
  },
  {
   "cell_type": "code",
   "execution_count": 8,
   "metadata": {},
   "outputs": [
    {
     "data": {
      "image/png": "[encoded data removed]",
      "text/plain": [
       "<Figure size 640x480 with 1 Axes>"
      ]
     },
     "metadata": {},
     "output_type": "display_data"
    },
    {
     "data": {
      "image/png": "[encoded data removed]",
      "text/plain": [
       "<Figure size 640x480 with 1 Axes>"
      ]
     },
     "metadata": {},
     "output_type": "display_data"
    }
   ],
   "source": [
    "fig, ax = plt.subplots()\n",
    "ax.plot(recall, precision)\n",
    "ax.set_title(f\"k={k}\")\n",
    "ax.set_ylabel(\"Precision\")\n",
    "ax.set_xlabel(\"Recall\")\n",
    "plt.show()\n",
    "\n",
    "fig, ax = plt.subplots()\n",
    "ax.plot(np.arange(len(thresholds_pr)+1), np.sqrt(recall*precision))\n",
    "ax.set_title(f\"k={k}\")\n",
    "ax.set_ylabel(\"F1\")\n",
    "ax.set_xlabel(\"\")\n",
    "plt.show()\n",
    "\n",
    "# fig, ax = plt.subplots()\n",
    "# ax.plot(fpr, tpr)\n",
    "# ax.set_title(f\"k={k}\")\n",
    "# ax.set_ylabel(\"True positive rate\")\n",
    "# ax.set_xlabel(\"False positive rate\")\n",
    "# plt.show()"
   ]
  },
  {
   "cell_type": "code",
   "execution_count": 11,
   "metadata": {
    "collapsed": true,
    "jupyter": {
     "outputs_hidden": true
    }
   },
   "outputs": [
    {
     "ename": "FileNotFoundError",
     "evalue": "[Errno 2] No such file or directory: '/scratch/spn1560/esm_swissprot_price_batch_0.npy'",
     "output_type": "error",
     "traceback": [
      "\u001b[0;31m---------------------------------------------------------------------------\u001b[0m",
      "\u001b[0;31mFileNotFoundError\u001b[0m                         Traceback (most recent call last)",
      "Cell \u001b[0;32mIn[11], line 4\u001b[0m\n\u001b[1;32m      2\u001b[0m path_pref \u001b[38;5;241m=\u001b[39m scratch_path \u001b[38;5;241m+\u001b[39m \u001b[38;5;124m\"\u001b[39m\u001b[38;5;124mesm_swissprot_price\u001b[39m\u001b[38;5;124m\"\u001b[39m\n\u001b[1;32m      3\u001b[0m path \u001b[38;5;241m=\u001b[39m path_pref \u001b[38;5;241m+\u001b[39m \u001b[38;5;124mf\u001b[39m\u001b[38;5;124m\"\u001b[39m\u001b[38;5;124m_batch_\u001b[39m\u001b[38;5;132;01m{\u001b[39;00m\u001b[38;5;241m0\u001b[39m\u001b[38;5;132;01m}\u001b[39;00m\u001b[38;5;124m.npy\u001b[39m\u001b[38;5;124m\"\u001b[39m\n\u001b[0;32m----> 4\u001b[0m sim_mat_i \u001b[38;5;241m=\u001b[39m \u001b[43mnp\u001b[49m\u001b[38;5;241;43m.\u001b[39;49m\u001b[43mload\u001b[49m\u001b[43m(\u001b[49m\u001b[43mpath\u001b[49m\u001b[43m)\u001b[49m\n\u001b[1;32m      5\u001b[0m \u001b[38;5;28mprint\u001b[39m(sim_mat_i\u001b[38;5;241m.\u001b[39mshape)\n",
      "File \u001b[0;32m~/.conda/envs/hiec/lib/python3.11/site-packages/numpy/lib/npyio.py:427\u001b[0m, in \u001b[0;36mload\u001b[0;34m(file, mmap_mode, allow_pickle, fix_imports, encoding, max_header_size)\u001b[0m\n\u001b[1;32m    425\u001b[0m     own_fid \u001b[38;5;241m=\u001b[39m \u001b[38;5;28;01mFalse\u001b[39;00m\n\u001b[1;32m    426\u001b[0m \u001b[38;5;28;01melse\u001b[39;00m:\n\u001b[0;32m--> 427\u001b[0m     fid \u001b[38;5;241m=\u001b[39m stack\u001b[38;5;241m.\u001b[39menter_context(\u001b[38;5;28mopen\u001b[39m(os_fspath(file), \u001b[38;5;124m\"\u001b[39m\u001b[38;5;124mrb\u001b[39m\u001b[38;5;124m\"\u001b[39m))\n\u001b[1;32m    428\u001b[0m     own_fid \u001b[38;5;241m=\u001b[39m \u001b[38;5;28;01mTrue\u001b[39;00m\n\u001b[1;32m    430\u001b[0m \u001b[38;5;66;03m# Code to distinguish from NumPy binary files and pickles.\u001b[39;00m\n",
      "\u001b[0;31mFileNotFoundError\u001b[0m: [Errno 2] No such file or directory: '/scratch/spn1560/esm_swissprot_price_batch_0.npy'"
     ]
    }
   ],
   "source": [
    "scratch_path = \"/scratch/spn1560/\"\n",
    "path_pref = scratch_path + \"esm_swissprot_price\"\n",
    "path = path_pref + f\"_batch_{0}.npy\"\n",
    "sim_mat_i = np.load(path)\n",
    "print(sim_mat_i.shape)\n"
   ]
  },
  {
   "cell_type": "code",
   "execution_count": 25,
   "metadata": {},
   "outputs": [
    {
     "name": "stdout",
     "output_type": "stream",
     "text": [
      "10.590832\n",
      "10.640622\n",
      "11.343944\n",
      "10.805798\n",
      "10.425579\n",
      "11.513602\n",
      "10.600709\n",
      "10.634103\n",
      "12.178757\n",
      "12.443545\n",
      "12.606191\n",
      "8.831824\n"
     ]
    }
   ],
   "source": [
    "from src.utils import load_embed\n",
    "import os\n",
    "\n",
    "data_path = \"../data/price/clean/\"\n",
    "i = 0\n",
    "for i, elt in enumerate(os.listdir(data_path)):\n",
    "    embed = load_embed(data_path + elt, embed_key=33)\n",
    "    vec = embed[1].numpy()\n",
    "    print(np.sqrt(np.sum(np.square(vec))))\n",
    "\n",
    "    if i > 10:\n",
    "        break"
   ]
  },
  {
   "cell_type": "code",
   "execution_count": 23,
   "metadata": {},
   "outputs": [
    {
     "name": "stdout",
     "output_type": "stream",
     "text": [
      "10.787686\n"
     ]
    }
   ],
   "source": [
    "vec = embed[1].numpy()\n",
    "print(np.sqrt(np.sum(np.square(vec))))"
   ]
  },
  {
   "cell_type": "code",
   "execution_count": 22,
   "metadata": {},
   "outputs": [
    {
     "data": {
      "text/plain": [
       "array([-0.35914874, -0.5546771 , -0.02330944,  1.2102946 ,  1.1753933 ,\n",
       "       -1.3948493 , -0.4389037 , -0.06948406,  0.6986161 ,  0.7969825 ,\n",
       "       -0.30878887, -0.6550534 ,  0.69950587, -0.05275437, -1.7028058 ,\n",
       "       -1.7440946 ,  0.65929055,  0.6128355 , -0.3147223 ,  0.20284715,\n",
       "       -0.3105805 , -1.2447166 ,  0.55994755, -0.9092405 ,  0.54558045,\n",
       "       -0.5650207 , -0.6138876 , -1.5364811 ,  1.8090861 ,  1.625701  ,\n",
       "        0.10622604, -0.21015751, -0.5487437 ,  1.8371991 ,  0.5535528 ,\n",
       "        1.4697859 , -0.1758765 , -0.19126022,  0.791849  ,  0.2977155 ,\n",
       "        3.2265441 ,  0.29740316, -0.0569251 ,  0.19134112, -1.6551871 ,\n",
       "       -0.03073689,  1.7440182 , -0.14862591, -2.0015135 , -1.5520581 ,\n",
       "       -0.34872842, -0.5257952 ,  0.23475365,  0.65958023,  0.36803275,\n",
       "       -2.1789584 , -0.27141753, -0.47230163, -0.07688963,  0.07856035,\n",
       "        1.2758445 , -0.8837034 ,  1.0963018 ,  0.8245394 ,  0.9546692 ,\n",
       "        0.27473712, -1.0440588 , -1.197263  ,  0.71054035, -1.0219134 ,\n",
       "        1.324233  ,  0.46712977, -0.625525  ,  0.12551856, -0.06769891,\n",
       "       -0.99850976, -0.6955371 ,  1.2616998 , -0.4484985 ,  0.32649893,\n",
       "       -1.378987  , -1.67994   , -0.20418137, -0.26562393,  1.494997  ,\n",
       "       -0.41106838, -0.87659836,  0.25204659,  1.7030938 ,  0.34929508,\n",
       "       -1.1789759 , -0.8083182 ,  0.22952709,  0.29032654, -0.2859114 ,\n",
       "       -0.3359582 ,  0.32983178, -0.591457  , -0.874781  ,  1.1004825 ,\n",
       "        0.5824734 ,  1.3734001 ,  0.10449588,  0.6618636 , -0.7103511 ,\n",
       "        0.24697165,  0.42157045,  1.2102816 ,  1.3329921 ,  0.19731319,\n",
       "       -1.8393013 , -0.09411355, -0.34309927, -0.47165734,  0.6900115 ,\n",
       "       -0.4330253 ,  0.17140111,  0.18391919, -0.98314637, -0.18426263,\n",
       "        1.7046435 , -0.7545804 , -0.9998442 , -0.18032368,  0.77534235,\n",
       "        1.5588123 , -1.585921  ,  0.8998873 ], dtype=float32)"
      ]
     },
     "execution_count": 22,
     "metadata": {},
     "output_type": "execute_result"
    }
   ],
   "source": [
    "vec"
   ]
  }
 ],
 "metadata": {
  "kernelspec": {
   "display_name": "Python 3 (ipykernel)",
   "language": "python",
   "name": "python3"
  },
  "language_info": {
   "codemirror_mode": {
    "name": "ipython",
    "version": 3
   },
   "file_extension": ".py",
   "mimetype": "text/x-python",
   "name": "python",
   "nbconvert_exporter": "python",
   "pygments_lexer": "ipython3",
   "version": "3.11.0"
  }
 },
 "nbformat": 4,
 "nbformat_minor": 4
}
