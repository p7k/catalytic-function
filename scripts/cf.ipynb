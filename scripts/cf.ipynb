{
 "cells": [
  {
   "cell_type": "code",
   "execution_count": 1,
   "metadata": {},
   "outputs": [],
   "source": [
    "import pandas as pd\n",
    "import numpy as np\n",
    "from src.collaborative_filtering import CollaborativeFiltering\n",
    "# from src.utils import ensure_dirs\n",
    "import os\n",
    "from sklearn.metrics import accuracy_score, roc_auc_score\n"
   ]
  },
  {
   "cell_type": "code",
   "execution_count": 2,
   "metadata": {},
   "outputs": [
    {
     "name": "stdout",
     "output_type": "stream",
     "text": [
      "Constructing y\n",
      "227362/227362\n",
      "Saving y\n"
     ]
    }
   ],
   "source": [
    "\n",
    "dataset = 'swissprot'\n",
    "y_fn = \"protein_x_catalytic_function.npy\"\n",
    "\n",
    "\n",
    "rng = np.random.default_rng(seed=1234)\n",
    "path = f\"../data/{dataset}/\"\n",
    "\n",
    "# Read data table of contents csv\n",
    "df = pd.read_csv(path + f\"{dataset}.csv\", delimiter='\\t')\n",
    "df.set_index('Entry', inplace=True)\n",
    "entry_idxs = list(df.index)\n",
    "ec_idxs = set()\n",
    "for elt in df.loc[:, \"EC number\"]:\n",
    "    for ec in elt.split(';'):\n",
    "        ec_idxs.add(ec)\n",
    "ec_idxs = list(ec_idxs)\n",
    "\n",
    "# if os.path.exists(path + y_fn):\n",
    "if False:\n",
    "    print(\"Loading\")\n",
    "    y = np.load(path + y_fn)\n",
    "\n",
    "else:\n",
    "    # Construct ground truth protein-function matrix\n",
    "    print(\"Constructing y\")\n",
    "    y = np.zeros(shape=(len(entry_idxs), len(ec_idxs)))\n",
    "    x = 0\n",
    "    for elt in df.index:\n",
    "        ecs = df.loc[elt, 'EC number'].split(';')\n",
    "        i = entry_idxs.index(elt)\n",
    "        js = np.array([ec_idxs.index(ec) for ec in ecs])\n",
    "        y[i, js] = 1\n",
    "        x += 1\n",
    "        print(f\"{x}/{y.shape[0]}\", end='\\r')\n",
    "\n",
    "    print(\"\\nSaving y\")\n",
    "    np.save(path + y_fn, y)\n"
   ]
  },
  {
   "cell_type": "code",
   "execution_count": 24,
   "metadata": {},
   "outputs": [
    {
     "name": "stdout",
     "output_type": "stream",
     "text": [
      "Get ones to mask with method #1\n",
      "Get zeros to mask with method #2\n",
      "n0:1204, n1:0\r"
     ]
    },
    {
     "ename": "MemoryError",
     "evalue": "Unable to allocate 385. GiB for an array with shape (227362, 227362) and data type float64",
     "output_type": "error",
     "traceback": [
      "\u001b[0;31m---------------------------------------------------------------------------\u001b[0m",
      "\u001b[0;31mMemoryError\u001b[0m                               Traceback (most recent call last)",
      "Cell \u001b[0;32mIn[24], line 31\u001b[0m\n\u001b[1;32m     27\u001b[0m y_true \u001b[38;5;241m=\u001b[39m y[mask_idxs[\u001b[38;5;241m0\u001b[39m], mask_idxs[\u001b[38;5;241m1\u001b[39m]]\n\u001b[1;32m     29\u001b[0m y[mask_idxs[\u001b[38;5;241m0\u001b[39m], mask_idxs[\u001b[38;5;241m1\u001b[39m]] \u001b[38;5;241m=\u001b[39m \u001b[38;5;241m0\u001b[39m \u001b[38;5;66;03m# Mask out\u001b[39;00m\n\u001b[0;32m---> 31\u001b[0m similarity \u001b[38;5;241m=\u001b[39m \u001b[43mnp\u001b[49m\u001b[38;5;241;43m.\u001b[39;49m\u001b[43mmatmul\u001b[49m\u001b[43m(\u001b[49m\u001b[43my\u001b[49m\u001b[43m,\u001b[49m\u001b[43m \u001b[49m\u001b[43my\u001b[49m\u001b[38;5;241;43m.\u001b[39;49m\u001b[43mT\u001b[49m\u001b[43m)\u001b[49m \u001b[38;5;66;03m# Prot-prot similarity matrix\u001b[39;00m\n\u001b[1;32m     33\u001b[0m k \u001b[38;5;241m=\u001b[39m similarity\u001b[38;5;241m.\u001b[39mshape[\u001b[38;5;241m1\u001b[39m] \u001b[38;5;66;03m# K-nearest-neighbors\u001b[39;00m\n\u001b[1;32m     34\u001b[0m threshes \u001b[38;5;241m=\u001b[39m np\u001b[38;5;241m.\u001b[39msort(similarity, axis\u001b[38;5;241m=\u001b[39m\u001b[38;5;241m1\u001b[39m)[:, \u001b[38;5;241m-\u001b[39mk]\u001b[38;5;241m.\u001b[39mreshape(\u001b[38;5;241m-\u001b[39m\u001b[38;5;241m1\u001b[39m,\u001b[38;5;241m1\u001b[39m)\n",
      "\u001b[0;31mMemoryError\u001b[0m: Unable to allocate 385. GiB for an array with shape (227362, 227362) and data type float64"
     ]
    }
   ],
   "source": [
    "\n",
    "n1, n0 = 0, 0\n",
    "\n",
    "# Get mask rnd indices\n",
    "print(\"Get ones to mask with method #1\")\n",
    "# Time-saving, space-spending\n",
    "all_idxs = np.where(y == 1)\n",
    "n_mask = int((all_idxs[0].shape[0] * 0.01) // 2) # 50-50 split of 1s and 0s of 1% of elements\n",
    "rnd_numbers = rng.integers(0, all_idxs[0].shape[0], size=(n_mask,))\n",
    "rnd_rows = all_idxs[0][rnd_numbers]\n",
    "rnd_cols = all_idxs[1][rnd_numbers]\n",
    "\n",
    "mask_idxs = list(zip(rnd_rows, rnd_cols))\n",
    "\n",
    "\n",
    "print(\"Get zeros to mask with method #2\")\n",
    "# Space-saving, time-spending\n",
    "while n0 < n_mask:\n",
    "    print(f\"n0:{n0}, n1:{n1}\", end='\\r')\n",
    "    i, j = rng.integers(0, y.shape[0]), rng.integers(0, y.shape[1])\n",
    "\n",
    "    if y[i, j] == 0:\n",
    "        mask_idxs.append((i, j))\n",
    "        n0 += 1\n",
    "\n",
    "# Hold on to true values\n",
    "mask_idxs = [np.array(elt) for elt in zip(*mask_idxs)]\n",
    "y_true = y[mask_idxs[0], mask_idxs[1]]\n",
    "\n",
    "y[mask_idxs[0], mask_idxs[1]] = 0 # Mask out\n",
    "\n",
    "similarity = np.matmul(y, y.T) # Prot-prot similarity matrix\n",
    "\n",
    "k = similarity.shape[1] # K-nearest-neighbors\n",
    "threshes = np.sort(similarity, axis=1)[:, -k].reshape(-1,1)\n",
    "similarity[similarity < threshes] = 0 # Zero out all but kNN\n",
    "row_sum = similarity.sum(axis=1).reshape(-1,1)\n",
    "similarity = np.divide(similarity, row_sum, out=np.zeros_like(similarity), where=row_sum!=0)\n",
    "\n",
    "# Predict \n",
    "y_hat = np.matmul(similarity, y)\n",
    "y_pred = y_hat[mask_idxs[0], mask_idxs[1]]\n",
    "\n",
    "accuracy = accuracy_score(y_true, y_pred>0)\n",
    "roc_auc = roc_auc_score(y_true, y_pred>0)\n",
    "\n",
    "print(f\"Accuracy: {accuracy}\")\n",
    "print(f\"ROC AUC: {roc_auc}\")\n",
    "\n",
    "\n",
    "print(\"Done\")\n",
    "\n"
   ]
  },
  {
   "cell_type": "code",
   "execution_count": 23,
   "metadata": {},
   "outputs": [
    {
     "data": {
      "text/plain": [
       "array([2118,  450, 4468, ...,  386, 1030, 4209])"
      ]
     },
     "execution_count": 23,
     "metadata": {},
     "output_type": "execute_result"
    }
   ],
   "source": [
    "\n",
    "all_idxs[1][rnd_numbers]"
   ]
  }
 ],
 "metadata": {
  "kernelspec": {
   "display_name": "hiec",
   "language": "python",
   "name": "python3"
  },
  "language_info": {
   "codemirror_mode": {
    "name": "ipython",
    "version": 3
   },
   "file_extension": ".py",
   "mimetype": "text/x-python",
   "name": "python",
   "nbconvert_exporter": "python",
   "pygments_lexer": "ipython3",
   "version": "3.11.5"
  }
 },
 "nbformat": 4,
 "nbformat_minor": 2
}
